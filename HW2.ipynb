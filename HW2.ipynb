{
 "cells": [
  {
   "cell_type": "markdown",
   "metadata": {},
   "source": [
    "# 15.774/15.780 Fall 2023\n",
    "## The Analytics of Operations Management\n",
    "### Problem Set 2 - Logistic Regression & Data Cleaning\n",
    "#### Due Date:  10/06\n",
    "---\n",
    "Name of Student: [Joy Bhattacharya]\n",
    "\n",
    "MIT ID Number: [922631264]\n",
    "\n",
    "---\n",
    "\n",
    "### Instructions:\n",
    "\n",
    "1) Submit solutions that are your own, in your own words. You are allowed to discuss with other students in general terms, but make sure you are not copying verbatim from another student. Therefore do not read other students' solutions. If you use material from outside this class, reference it in your solution. \n",
    "\n",
    "2) Please download the python file attached in the assignment and complete your answers there in the same file. Read the questions carefully, and make sure you answer every part that the question asks.\n",
    "\n",
    "3) Include relevant code in the PDF submission even if the question doesn't explicitly ask for it. Upload your solutions as a PDF file. Include your name and MIT ID on the first page.\n",
    "\n",
    "4) To convert to pdf, you can use the \"print to pdf\" option in jupyter (or equivalent options in other IDE). There are other options to directly download in to pdf format which might include additional installation of packages. \n",
    "\n",
    "5) Show your work and explain your conclusions clearly and precisely. Plots should have clear titles and axis labels so that it is clear what your analysis is showing.\n",
    "\n",
    "--------------------------------------------------------------------------------------------------------------------------------"
   ]
  },
  {
   "cell_type": "markdown",
   "metadata": {},
   "source": [
    "First, we import the packages we will be using"
   ]
  },
  {
   "cell_type": "code",
   "execution_count": 1,
   "metadata": {},
   "outputs": [],
   "source": [
    "# Install the packages you do not have\n",
    "# !pip install sklearn"
   ]
  },
  {
   "cell_type": "code",
   "execution_count": 2,
   "metadata": {},
   "outputs": [
    {
     "name": "stderr",
     "output_type": "stream",
     "text": [
      "C:\\Users\\joyse\\anaconda3\\lib\\site-packages\\pandas\\core\\computation\\expressions.py:20: UserWarning: Pandas requires version '2.7.3' or newer of 'numexpr' (version '2.7.1' currently installed).\n",
      "  from pandas.core.computation.check import NUMEXPR_INSTALLED\n"
     ]
    }
   ],
   "source": [
    "import pandas as pd\n",
    "import statsmodels.api as sm\n",
    "import numpy as np\n",
    "np.float=float\n",
    "from sklearn.metrics import confusion_matrix, ConfusionMatrixDisplay\n",
    "from sklearn.model_selection import train_test_split\n",
    "from sklearn.neighbors import KNeighborsRegressor\n",
    "import matplotlib.pyplot as plt\n",
    "%matplotlib inline"
   ]
  },
  {
   "cell_type": "markdown",
   "metadata": {},
   "source": [
    "---\n",
    "## $\\textbf{Problem 1.}$ (Logistic Regression) (40 pts)\n",
    "\n",
    "Historically, lending money to individuals has been done by banks, credit unions, and savings and loan associations. There has been a recent uptick in what is known as peer-to-peer lending, where one individual loans money to another (2015 market share of $\\$26.2$ billion). We have data from LendingClub.com, the world’s largest peer-to-peer lending platform, which issued $\\$13.4$ billion in loans from its founding in 2006 through October 2015. \n",
    "\n",
    "Our data is a subset of these loans: \n",
    "  * 9,516 3-year loans funded by them between May 2007 and February 2010.\n",
    "  * We have information on whether the loan was not paid in full (**1 if not paid in full, zero otherwise**).\n",
    "  * We also have 6 covariates available at the time the loan was granted, including Monthly loan installment, log annual income, FICO score, revolving balance on credit cards, number of credit inquiries over the past six months, and number of deleterious public records.\n",
    "  * These represent just a tiny portion of the covariates LendingClub.com would actually have access to when making a loan decision. Using this data, stored in the data set loans.csv,\n",
    "\n",
    "We will try to **build a model for correctly predicting the probability that an individual defaults on the loan**.\n"
   ]
  },
  {
   "cell_type": "code",
   "execution_count": 3,
   "metadata": {
    "scrolled": true
   },
   "outputs": [
    {
     "data": {
      "text/html": [
       "<div>\n",
       "<style scoped>\n",
       "    .dataframe tbody tr th:only-of-type {\n",
       "        vertical-align: middle;\n",
       "    }\n",
       "\n",
       "    .dataframe tbody tr th {\n",
       "        vertical-align: top;\n",
       "    }\n",
       "\n",
       "    .dataframe thead th {\n",
       "        text-align: right;\n",
       "    }\n",
       "</style>\n",
       "<table border=\"1\" class=\"dataframe\">\n",
       "  <thead>\n",
       "    <tr style=\"text-align: right;\">\n",
       "      <th></th>\n",
       "      <th>not_fully_paid</th>\n",
       "      <th>installment</th>\n",
       "      <th>log_annual_inc</th>\n",
       "      <th>fico</th>\n",
       "      <th>revol_bal</th>\n",
       "      <th>inq_last_6mths</th>\n",
       "      <th>pub_rec</th>\n",
       "      <th>is_training_data</th>\n",
       "    </tr>\n",
       "  </thead>\n",
       "  <tbody>\n",
       "    <tr>\n",
       "      <th>0</th>\n",
       "      <td>0</td>\n",
       "      <td>829.10</td>\n",
       "      <td>4.929419</td>\n",
       "      <td>737</td>\n",
       "      <td>28.854</td>\n",
       "      <td>0</td>\n",
       "      <td>0</td>\n",
       "      <td>True</td>\n",
       "    </tr>\n",
       "    <tr>\n",
       "      <th>1</th>\n",
       "      <td>0</td>\n",
       "      <td>228.22</td>\n",
       "      <td>4.812913</td>\n",
       "      <td>707</td>\n",
       "      <td>33.623</td>\n",
       "      <td>0</td>\n",
       "      <td>0</td>\n",
       "      <td>False</td>\n",
       "    </tr>\n",
       "    <tr>\n",
       "      <th>2</th>\n",
       "      <td>0</td>\n",
       "      <td>366.86</td>\n",
       "      <td>4.505150</td>\n",
       "      <td>682</td>\n",
       "      <td>3.511</td>\n",
       "      <td>1</td>\n",
       "      <td>0</td>\n",
       "      <td>False</td>\n",
       "    </tr>\n",
       "    <tr>\n",
       "      <th>3</th>\n",
       "      <td>0</td>\n",
       "      <td>162.34</td>\n",
       "      <td>4.929419</td>\n",
       "      <td>712</td>\n",
       "      <td>33.667</td>\n",
       "      <td>1</td>\n",
       "      <td>0</td>\n",
       "      <td>True</td>\n",
       "    </tr>\n",
       "    <tr>\n",
       "      <th>4</th>\n",
       "      <td>0</td>\n",
       "      <td>102.92</td>\n",
       "      <td>4.907411</td>\n",
       "      <td>667</td>\n",
       "      <td>4.740</td>\n",
       "      <td>0</td>\n",
       "      <td>0</td>\n",
       "      <td>True</td>\n",
       "    </tr>\n",
       "  </tbody>\n",
       "</table>\n",
       "</div>"
      ],
      "text/plain": [
       "   not_fully_paid  installment  log_annual_inc  fico  revol_bal  \\\n",
       "0               0       829.10        4.929419   737     28.854   \n",
       "1               0       228.22        4.812913   707     33.623   \n",
       "2               0       366.86        4.505150   682      3.511   \n",
       "3               0       162.34        4.929419   712     33.667   \n",
       "4               0       102.92        4.907411   667      4.740   \n",
       "\n",
       "   inq_last_6mths  pub_rec  is_training_data  \n",
       "0               0        0              True  \n",
       "1               0        0             False  \n",
       "2               1        0             False  \n",
       "3               1        0              True  \n",
       "4               0        0              True  "
      ]
     },
     "execution_count": 3,
     "metadata": {},
     "output_type": "execute_result"
    }
   ],
   "source": [
    "# Assuming 'loans.csv' is in the same directory as your Python script or Jupyter Notebook\n",
    "file_path = \"loans.csv\"\n",
    "\n",
    "# Use the read_csv function to load the CSV file into a DataFrame\n",
    "loans = pd.read_csv(file_path)\n",
    "loans.head()"
   ]
  },
  {
   "cell_type": "code",
   "execution_count": 4,
   "metadata": {},
   "outputs": [
    {
     "name": "stdout",
     "output_type": "stream",
     "text": [
      "Train set shape: (6661, 7)\n",
      "Test set shape: (2855, 7)\n"
     ]
    }
   ],
   "source": [
    "# Use the column 'is_training_data' to split the set into training and test data (True is training and False is test)\n",
    "loans_train = loans[loans['is_training_data'] == True]\n",
    "loans_test = loans[loans['is_training_data'] == False]\n",
    "\n",
    "# Delete the column 'is_training_data' as we do not want it to be part of the model (is not an actual feature of loans)\n",
    "del loans_train['is_training_data']\n",
    "del loans_test['is_training_data']\n",
    "\n",
    "print(\"Train set shape:\", loans_train.shape)\n",
    "print(\"Test set shape:\", loans_test.shape)"
   ]
  },
  {
   "cell_type": "markdown",
   "metadata": {},
   "source": [
    "**1**. Run a simple logistic regression of `not_fully_paid` on `fico`, on your training data. Write down an equation that gives the estimated conditional probability of defaulting, given a FICO score x, and use it to predict the probability of defaulting for individuals with a FICO score of 700 and 650, respectively. Do this two ways: one by directly plugging in values to your equation, and another by using the `predict` function of your model. Report and comment your results. **(10 pts)**\n"
   ]
  },
  {
   "cell_type": "markdown",
   "metadata": {},
   "source": [
    "***\n",
    "We first train our model"
   ]
  },
  {
   "cell_type": "code",
   "execution_count": 5,
   "metadata": {},
   "outputs": [
    {
     "name": "stdout",
     "output_type": "stream",
     "text": [
      "Optimization terminated successfully.\n",
      "         Current function value: 0.425939\n",
      "         Iterations 6\n",
      "                           Logit Regression Results                           \n",
      "==============================================================================\n",
      "Dep. Variable:         not_fully_paid   No. Observations:                 6661\n",
      "Model:                          Logit   Df Residuals:                     6659\n",
      "Method:                           MLE   Df Model:                            1\n",
      "Date:                Mon, 02 Oct 2023   Pseudo R-squ.:                 0.03081\n",
      "Time:                        14:06:12   Log-Likelihood:                -2837.2\n",
      "converged:                       True   LL-Null:                       -2927.4\n",
      "Covariance Type:            nonrobust   LLR p-value:                 3.948e-41\n",
      "==============================================================================\n",
      "                 coef    std err          z      P>|z|      [0.025      0.975]\n",
      "------------------------------------------------------------------------------\n",
      "const          7.3642      0.702     10.496      0.000       5.989       8.739\n",
      "fico          -0.0128      0.001    -12.773      0.000      -0.015      -0.011\n",
      "==============================================================================\n"
     ]
    }
   ],
   "source": [
    "# Define the dependent variable (y) and predictor variable (X)\n",
    "y_train_11 = loans_train[\"not_fully_paid\"]\n",
    "X_train_11 = loans_train[\"fico\"]\n",
    "\n",
    "# Add a constant term to the predictor variable (intercept)\n",
    "X_train_11 = sm.add_constant(X_train_11)\n",
    "\n",
    "# Fit the linear regression model\n",
    "log_reg_11 = sm.Logit(y_train_11, X_train_11).fit()\n",
    "\n",
    "# Get the model summary\n",
    "summary = log_reg_11.summary()\n",
    "print(summary)"
   ]
  },
  {
   "cell_type": "markdown",
   "metadata": {},
   "source": [
    "***\n",
    "Probability of default (first approach: manual equation)\n"
   ]
  },
  {
   "cell_type": "code",
   "execution_count": 6,
   "metadata": {},
   "outputs": [
    {
     "data": {
      "text/plain": [
       "0.16848836377007184"
      ]
     },
     "execution_count": 6,
     "metadata": {},
     "output_type": "execute_result"
    }
   ],
   "source": [
    "# Get the 'fico' and 'intercept' coefficients\n",
    "fico_coeff = log_reg_11.params[\"fico\"]\n",
    "intercept_coeff = log_reg_11.params[\"const\"]\n",
    "\n",
    "# Define your equation as a lambda function so that we can reuse it\n",
    "default_prob_equation = lambda x: np.exp(intercept_coeff + fico_coeff * x) / (1 + np.exp(intercept_coeff + fico_coeff * x))\n",
    "\n",
    "\n",
    "# Evaluate the expression for a FICO score of 700 and report the value\n",
    "p_700 = default_prob_equation(700)\n",
    "p_700"
   ]
  },
  {
   "cell_type": "code",
   "execution_count": 7,
   "metadata": {},
   "outputs": [
    {
     "data": {
      "text/plain": [
       "0.2776120401174487"
      ]
     },
     "execution_count": 7,
     "metadata": {},
     "output_type": "execute_result"
    }
   ],
   "source": [
    "# Evaluate the expression for a FICO score of 650 and report the value\n",
    "p_650 = default_prob_equation(650)\n",
    "p_650"
   ]
  },
  {
   "cell_type": "markdown",
   "metadata": {},
   "source": [
    "***\n",
    "Probability of default (second approach: model's prediction)"
   ]
  },
  {
   "cell_type": "code",
   "execution_count": 8,
   "metadata": {},
   "outputs": [
    {
     "data": {
      "text/plain": [
       "0    0.168488\n",
       "1    0.277612\n",
       "dtype: float64"
      ]
     },
     "execution_count": 8,
     "metadata": {},
     "output_type": "execute_result"
    }
   ],
   "source": [
    "# Prepare the test set with the 2 values 700 and 650  (Hint: Define it as a pandas DataFrame)\n",
    "X_test_11 = pd.DataFrame({\"fico\": [700,650]})\n",
    "\n",
    "# Add a constant term to the predictor variable (intercept)\n",
    "X_test_11 = sm.add_constant(X_test_11)\n",
    "\n",
    "# Predict the probabilities of default and report those values\n",
    "probs_11 = log_reg_11.predict(X_test_11)\n",
    "probs_11"
   ]
  },
  {
   "cell_type": "markdown",
   "metadata": {},
   "source": [
    "**Comments:** Both methods predict the same thing. The p-value of the fico score is less than 0.05, which means it is statistically significant and should be included in the model because it's a good predictor. The coefficient on the fico score is -0.0128, indicating that there is a negative relationship between fico credit score and the probability of defaulting (the higher your credit score, the lower your probability of defaulting). With our logistic model, a person with a fico score of 700, holding all else constant, is predicted to have a 0.1684 probability of defaulting. A person with a 650 fico score has an expected probability of 0.277 of defaulting holding all else constant. This makes sense because we would expect someone with a lower credit score to be more likely to default since credit scores are lower the less trustworthy you are."
   ]
  },
  {
   "cell_type": "markdown",
   "metadata": {},
   "source": [
    "---\n",
    "**2**. Construct a multiple logistic regression model that predicts `not_fully_paid` as a function of all of the covariates in the data set. Based on this multiple regression model, is there evidence that including `fico` in the model improved performance over a model including every variable except for `fico`? **(10 pts)**"
   ]
  },
  {
   "cell_type": "code",
   "execution_count": 9,
   "metadata": {},
   "outputs": [
    {
     "name": "stdout",
     "output_type": "stream",
     "text": [
      "Optimization terminated successfully.\n",
      "         Current function value: 0.413768\n",
      "         Iterations 6\n",
      "                           Logit Regression Results                           \n",
      "==============================================================================\n",
      "Dep. Variable:         not_fully_paid   No. Observations:                 6661\n",
      "Model:                          Logit   Df Residuals:                     6654\n",
      "Method:                           MLE   Df Model:                            6\n",
      "Date:                Mon, 02 Oct 2023   Pseudo R-squ.:                 0.05851\n",
      "Time:                        14:06:25   Log-Likelihood:                -2756.1\n",
      "converged:                       True   LL-Null:                       -2927.4\n",
      "Covariance Type:            nonrobust   LLR p-value:                 6.145e-71\n",
      "==================================================================================\n",
      "                     coef    std err          z      P>|z|      [0.025      0.975]\n",
      "----------------------------------------------------------------------------------\n",
      "const             10.0152      0.992     10.098      0.000       8.071      11.959\n",
      "installment        0.0011      0.000      6.070      0.000       0.001       0.002\n",
      "log_annual_inc    -0.9673      0.159     -6.099      0.000      -1.278      -0.656\n",
      "fico              -0.0111      0.001    -10.564      0.000      -0.013      -0.009\n",
      "revol_bal          0.0052      0.001      4.718      0.000       0.003       0.007\n",
      "inq_last_6mths     0.1372      0.014      9.622      0.000       0.109       0.165\n",
      "pub_rec            0.2188      0.118      1.860      0.063      -0.012       0.449\n",
      "==================================================================================\n"
     ]
    }
   ],
   "source": [
    "# Define the features of the model\n",
    "features_12 = [\"installment\", \"log_annual_inc\", \"fico\", \"revol_bal\", \"inq_last_6mths\", \"pub_rec\"]\n",
    "\n",
    "# Define the dependent variable (y) and predictor variable (X)\n",
    "y_train_12 = loans_train[\"not_fully_paid\"]\n",
    "X_train_12 = loans_train[features_12]\n",
    "\n",
    "# Add a constant term to the predictor variable (intercept)\n",
    "X_train_12 = sm.add_constant(X_train_12)\n",
    "\n",
    "# Fit the linear regression model\n",
    "log_reg_12 = sm.Logit(y_train_12, X_train_12).fit()\n",
    "\n",
    "# Get the model summary\n",
    "summary = log_reg_12.summary()\n",
    "print(summary)"
   ]
  },
  {
   "cell_type": "code",
   "execution_count": 10,
   "metadata": {},
   "outputs": [
    {
     "data": {
      "text/plain": [
       "const             5.615125e-24\n",
       "installment       1.276738e-09\n",
       "log_annual_inc    1.069739e-09\n",
       "fico              4.392585e-26\n",
       "revol_bal         2.385457e-06\n",
       "inq_last_6mths    6.447360e-22\n",
       "pub_rec           6.291805e-02\n",
       "dtype: float64"
      ]
     },
     "execution_count": 10,
     "metadata": {},
     "output_type": "execute_result"
    }
   ],
   "source": [
    "# Zoom-in on the actual p-values\n",
    "log_reg_12.pvalues\n",
    "# FILL IN"
   ]
  },
  {
   "cell_type": "markdown",
   "metadata": {},
   "source": [
    "**Comment**: Based on this multiple regression model, there is evidence that including fico in the model improved our performance over a model including every variable except for fico. This is because when we include fico in the multi-feature model, the p-value of fico is extremely small, much less than 0.05. This means that it is statistically significant and should be included in the model and therefore improves the model. "
   ]
  },
  {
   "cell_type": "markdown",
   "metadata": {},
   "source": [
    "---\n",
    "\n",
    "\n",
    "\n",
    "**3.** A highly simplified analysis leads LendingClub.com to the following conclusion: If an individual defaults on their loan and can’t pay it back, we incur a profit of $-\\$4000$ (i.e. a loss of $\\$4000$). If the individual does not default, we realize a profit of $\\$1000$. \n",
    "\n",
    "Based on this, for what estimated values of probability for default should I not give the individual a loan in the first place (hence guaranteeing an expected profit of $0)? Note: You do not have to write code for this question. Explain your computations in the answer cell **(10 pts)**"
   ]
  },
  {
   "cell_type": "markdown",
   "metadata": {},
   "source": [
    "**Answer:** Let p_d be the probaility of default. LendingClub.com's expected profit is as follows and they only want to lend when their expected profit is above 0: p_d(-4000)+(1-p_d)(1000)>0. This equation is satisfied for p_d<1/5. So, we would NOT want to give the individual a loan in the first place if p_d>1/5. So, if they have a probability of default greater than 0.2 we wouldn't want to give them a loan because then our expected profit would be negative. "
   ]
  },
  {
   "cell_type": "markdown",
   "metadata": {},
   "source": [
    "*** \n",
    "**4.** For the multiple logistic regression model, use this break-even probability as a threshold to classify whether or not an individual would default (that is, you will predict “Default” if someone is predicted above your probability in part **1.3** and “No Default” otherwise). Based on this rule, report the confusion matrix of your predicted outcome and the actual outcome with respect to the **test set**. After doing so,\n",
    "provide the following summary measures of performance: \n",
    "* Accuracy\n",
    "* Sensitivity (True Positive Rate)\n",
    "* Specificity (True Negative Rate)\n",
    "**(10 pts)**"
   ]
  },
  {
   "cell_type": "code",
   "execution_count": 11,
   "metadata": {},
   "outputs": [
    {
     "data": {
      "image/png": "[encoded data removed]",
      "text/plain": [
       "<Figure size 432x288 with 2 Axes>"
      ]
     },
     "metadata": {
      "needs_background": "light"
     },
     "output_type": "display_data"
    }
   ],
   "source": [
    "# Define the dependent variable (y) and predictor variable (X) (Hint: same features as in 1.2)\n",
    "y_test_14 = loans_test[\"not_fully_paid\"]\n",
    "X_test_14 = loans_test[features_12]\n",
    "\n",
    "# Add a constant term to the predictor variable (intercept)\n",
    "X_test_14 = sm.add_constant(X_test_14)\n",
    "\n",
    "# Predict default probabilities with the model \n",
    "default_probs_14 = log_reg_12.predict(X_test_14)\n",
    "\n",
    "# Use the probability of 1.3 to transform the probabilities into 0-1 predictions\n",
    "default_preds_14 = (default_probs_14 > 0.2)\n",
    "\n",
    "# Compute and show the confusion matrix\n",
    "cm_14 = confusion_matrix(y_test_14, default_preds_14)\n",
    "disp = ConfusionMatrixDisplay(confusion_matrix=cm_14)\n",
    "disp.plot()\n",
    "plt.show()"
   ]
  },
  {
   "cell_type": "code",
   "execution_count": 12,
   "metadata": {},
   "outputs": [
    {
     "name": "stdout",
     "output_type": "stream",
     "text": [
      "Accuracy: 0.716\n",
      "Sensitivity (True Positive Rate): 0.390\n",
      "Specificity (True Negative Rate): 0.777\n"
     ]
    }
   ],
   "source": [
    "# Compute and report all the metrics \n",
    "TN, FP = 1865, 534\n",
    "FN, TP = 278, 178\n",
    "\n",
    "ACC = (TN + TP) / (TN + FN + TP +FP) \n",
    "print(f\"Accuracy: {ACC:.3f}\")\n",
    "\n",
    "TPR = TP / (TP + FN)  \n",
    "print(f\"Sensitivity (True Positive Rate): {TPR:.3f}\")\n",
    "\n",
    "TNR = TN / (TN + FP) \n",
    "print(f\"Specificity (True Negative Rate): {TNR:.3f}\")"
   ]
  },
  {
   "cell_type": "markdown",
   "metadata": {},
   "source": [
    "---\n",
    "---\n",
    "## $\\textbf{Problem 2.}$ (Data Cleaning) (40 pts)\n",
    "\n",
    "In this problem, we will explore Outliers Removal and Missing Data Imputation techniques. The problem is based on the Boston Housing dataset. A brief description of the dataset is the following:\n",
    "\n",
    "*This dataset contains information collected by the U.S Census Service concerning housing in the area of Boston Mass. It was obtained from the StatLib archive (http://lib.stat.cmu.edu/datasets/boston), and has been used extensively throughout the literature to benchmark algorithms. However, these comparisons were primarily done outside of Delve and are thus somewhat suspect. The dataset is small in size with only 506 cases.*\n",
    "\n",
    "For additional information, please visit this [Link](https://www.cs.toronto.edu/~delve/data/boston/bostonDetail.html#:~:text=The%20Boston%20Housing%20Dataset,the%20area%20of%20Boston%20Mass.)"
   ]
  },
  {
   "cell_type": "markdown",
   "metadata": {},
   "source": [
    "We first load the data."
   ]
  },
  {
   "cell_type": "code",
   "execution_count": 13,
   "metadata": {},
   "outputs": [
    {
     "data": {
      "text/html": [
       "<div>\n",
       "<style scoped>\n",
       "    .dataframe tbody tr th:only-of-type {\n",
       "        vertical-align: middle;\n",
       "    }\n",
       "\n",
       "    .dataframe tbody tr th {\n",
       "        vertical-align: top;\n",
       "    }\n",
       "\n",
       "    .dataframe thead th {\n",
       "        text-align: right;\n",
       "    }\n",
       "</style>\n",
       "<table border=\"1\" class=\"dataframe\">\n",
       "  <thead>\n",
       "    <tr style=\"text-align: right;\">\n",
       "      <th></th>\n",
       "      <th>crim</th>\n",
       "      <th>zn</th>\n",
       "      <th>indus</th>\n",
       "      <th>chas</th>\n",
       "      <th>nox</th>\n",
       "      <th>rm</th>\n",
       "      <th>age</th>\n",
       "      <th>dis</th>\n",
       "      <th>rad</th>\n",
       "      <th>tax</th>\n",
       "      <th>ptratio</th>\n",
       "      <th>b</th>\n",
       "      <th>lstat</th>\n",
       "      <th>medv</th>\n",
       "    </tr>\n",
       "  </thead>\n",
       "  <tbody>\n",
       "    <tr>\n",
       "      <th>0</th>\n",
       "      <td>0.00632</td>\n",
       "      <td>18.0</td>\n",
       "      <td>2.31</td>\n",
       "      <td>0</td>\n",
       "      <td>0.538</td>\n",
       "      <td>6.575</td>\n",
       "      <td>65.2</td>\n",
       "      <td>4.0900</td>\n",
       "      <td>1</td>\n",
       "      <td>296</td>\n",
       "      <td>15.3</td>\n",
       "      <td>396.90</td>\n",
       "      <td>4.98</td>\n",
       "      <td>24.0</td>\n",
       "    </tr>\n",
       "    <tr>\n",
       "      <th>1</th>\n",
       "      <td>0.02731</td>\n",
       "      <td>0.0</td>\n",
       "      <td>7.07</td>\n",
       "      <td>0</td>\n",
       "      <td>0.469</td>\n",
       "      <td>6.421</td>\n",
       "      <td>78.9</td>\n",
       "      <td>4.9671</td>\n",
       "      <td>2</td>\n",
       "      <td>242</td>\n",
       "      <td>17.8</td>\n",
       "      <td>396.90</td>\n",
       "      <td>9.14</td>\n",
       "      <td>21.6</td>\n",
       "    </tr>\n",
       "    <tr>\n",
       "      <th>2</th>\n",
       "      <td>0.02729</td>\n",
       "      <td>0.0</td>\n",
       "      <td>7.07</td>\n",
       "      <td>0</td>\n",
       "      <td>0.469</td>\n",
       "      <td>7.185</td>\n",
       "      <td>61.1</td>\n",
       "      <td>4.9671</td>\n",
       "      <td>2</td>\n",
       "      <td>242</td>\n",
       "      <td>17.8</td>\n",
       "      <td>392.83</td>\n",
       "      <td>4.03</td>\n",
       "      <td>34.7</td>\n",
       "    </tr>\n",
       "    <tr>\n",
       "      <th>3</th>\n",
       "      <td>0.03237</td>\n",
       "      <td>0.0</td>\n",
       "      <td>2.18</td>\n",
       "      <td>0</td>\n",
       "      <td>0.458</td>\n",
       "      <td>6.998</td>\n",
       "      <td>45.8</td>\n",
       "      <td>6.0622</td>\n",
       "      <td>3</td>\n",
       "      <td>222</td>\n",
       "      <td>18.7</td>\n",
       "      <td>394.63</td>\n",
       "      <td>2.94</td>\n",
       "      <td>33.4</td>\n",
       "    </tr>\n",
       "    <tr>\n",
       "      <th>4</th>\n",
       "      <td>0.06905</td>\n",
       "      <td>0.0</td>\n",
       "      <td>2.18</td>\n",
       "      <td>0</td>\n",
       "      <td>0.458</td>\n",
       "      <td>7.147</td>\n",
       "      <td>54.2</td>\n",
       "      <td>6.0622</td>\n",
       "      <td>3</td>\n",
       "      <td>222</td>\n",
       "      <td>18.7</td>\n",
       "      <td>396.90</td>\n",
       "      <td>5.33</td>\n",
       "      <td>36.2</td>\n",
       "    </tr>\n",
       "  </tbody>\n",
       "</table>\n",
       "</div>"
      ],
      "text/plain": [
       "      crim    zn  indus  chas    nox     rm   age     dis  rad  tax  ptratio  \\\n",
       "0  0.00632  18.0   2.31     0  0.538  6.575  65.2  4.0900    1  296     15.3   \n",
       "1  0.02731   0.0   7.07     0  0.469  6.421  78.9  4.9671    2  242     17.8   \n",
       "2  0.02729   0.0   7.07     0  0.469  7.185  61.1  4.9671    2  242     17.8   \n",
       "3  0.03237   0.0   2.18     0  0.458  6.998  45.8  6.0622    3  222     18.7   \n",
       "4  0.06905   0.0   2.18     0  0.458  7.147  54.2  6.0622    3  222     18.7   \n",
       "\n",
       "        b  lstat  medv  \n",
       "0  396.90   4.98  24.0  \n",
       "1  396.90   9.14  21.6  \n",
       "2  392.83   4.03  34.7  \n",
       "3  394.63   2.94  33.4  \n",
       "4  396.90   5.33  36.2  "
      ]
     },
     "execution_count": 13,
     "metadata": {},
     "output_type": "execute_result"
    }
   ],
   "source": [
    "# Assuming 'housing.csv' is in the same directory as your Python script or Jupyter Notebook\n",
    "file_path = \"housing.csv\"\n",
    "\n",
    "# Use the read_csv function to load the CSV file into a DataFrame\n",
    "housing = pd.read_csv(file_path)\n",
    "housing.head()"
   ]
  },
  {
   "cell_type": "markdown",
   "metadata": {},
   "source": [
    "**1**. There are two rows that contain outlier values for the variable `age`. Use a box plot to detect them and report their values. Explain why those values are incorrect and eliminate those rows from the dataset. Briefly comment on what could be the source of error and suggest a quick fix (*Note: You do not have to implement the fix, you already removed those rows*) **(10 pts)**\n"
   ]
  },
  {
   "cell_type": "code",
   "execution_count": 14,
   "metadata": {},
   "outputs": [
    {
     "data": {
      "text/plain": [
       "<matplotlib.axes._subplots.AxesSubplot at 0x20de155c5e0>"
      ]
     },
     "execution_count": 14,
     "metadata": {},
     "output_type": "execute_result"
    },
    {
     "data": {
      "image/png": "[encoded data removed]",
      "text/plain": [
       "<Figure size 432x288 with 1 Axes>"
      ]
     },
     "metadata": {
      "needs_background": "light"
     },
     "output_type": "display_data"
    }
   ],
   "source": [
    "# Use a box plot to detect the outliers\n",
    "housing.age.plot.box()"
   ]
  },
  {
   "cell_type": "code",
   "execution_count": 15,
   "metadata": {},
   "outputs": [
    {
     "data": {
      "text/plain": [
       "<matplotlib.axes._subplots.AxesSubplot at 0x20de15c6610>"
      ]
     },
     "execution_count": 15,
     "metadata": {},
     "output_type": "execute_result"
    },
    {
     "data": {
      "image/png": "[encoded data removed]",
      "text/plain": [
       "<Figure size 432x288 with 1 Axes>"
      ]
     },
     "metadata": {
      "needs_background": "light"
     },
     "output_type": "display_data"
    }
   ],
   "source": [
    "# Remove those points\n",
    "housing = housing[housing[\"age\"] <= 100]\n",
    "\n",
    "# Use a box plot again after removing the outliers to check the removal\n",
    "\n",
    "housing.age.plot.box()"
   ]
  },
  {
   "cell_type": "markdown",
   "metadata": {},
   "source": [
    "**Comment:** The outlier values from the boxplot are at around 480 and 980. Those values are incorrect because age is a proportion, meaning it should be under 100 after it is converted to percent form (which presumably it is in this dataset). So we know that any age value above 100 is incorrect. I'm assuming that the reason those are incorrect is some form of human error. Maybe those values were typed in correctly (an extra 0 was added, numbers were flipped, etc). One way to quickly fix this is to see if there is a pattern in the errors (maybe a 0 was added to the end and we can just delete that). If we could find a pattern, we could try to correct those data values. If not, we should just delete them as we do later on. "
   ]
  },
  {
   "cell_type": "markdown",
   "metadata": {},
   "source": [
    "---\n",
    "**Checkpoint** To make sure you have removed the rows, run the following code before continuing the next sections. If you get errors, you have not removed them correctly. It should run without printing any error. (This part is not graduated).\n"
   ]
  },
  {
   "cell_type": "code",
   "execution_count": 16,
   "metadata": {},
   "outputs": [],
   "source": [
    "assert len(housing) == 504\n",
    "assert housing.age.mean().round() == 69"
   ]
  },
  {
   "cell_type": "markdown",
   "metadata": {},
   "source": [
    "***\n",
    "**2.** Find all the variables that contain any missing values. For each of them report the percentage of missing values. **(5 pts)**"
   ]
  },
  {
   "cell_type": "code",
   "execution_count": 17,
   "metadata": {},
   "outputs": [
    {
     "data": {
      "text/plain": [
       "crim    0.037698\n",
       "dtype: float64"
      ]
     },
     "execution_count": 17,
     "metadata": {},
     "output_type": "execute_result"
    }
   ],
   "source": [
    "# Compute the percentage of missing values for each variable\n",
    "nan_perc = housing.isna().mean()\n",
    "\n",
    "# Filter those that contain nans\n",
    "nan_perc = nan_perc[nan_perc > 0]\n",
    "\n",
    "nan_perc"
   ]
  },
  {
   "cell_type": "markdown",
   "metadata": {},
   "source": [
    "**Comment:** 3.7698% of the crim values are missing in the dataset. "
   ]
  },
  {
   "cell_type": "markdown",
   "metadata": {},
   "source": [
    "---\n",
    "**3.** Impute `crim` values using the **mean** and the **median**. For that follow these steps:\n",
    "* Randomly split the data into training ($80\\%$ of rows.) and test ($20\\%$ of rows). Code is provided for this step, please do not change the seed or the split percentage.\n",
    "* Compute the **mean** and **median** `crim` values in the training. We will use this value for the test set.\n",
    "* Report the MAPE of these imputations in the test set. Which model is more accurate? **(10 pts)**"
   ]
  },
  {
   "cell_type": "code",
   "execution_count": 18,
   "metadata": {},
   "outputs": [],
   "source": [
    "# MAPE function\n",
    "def compute_mape(y_true, y_pred):\n",
    "    return (100 * abs((y_true - y_pred) / y_true)).mean()"
   ]
  },
  {
   "cell_type": "code",
   "execution_count": 22,
   "metadata": {},
   "outputs": [
    {
     "data": {
      "text/plain": [
       "3429.341631880411"
      ]
     },
     "execution_count": 22,
     "metadata": {},
     "output_type": "execute_result"
    }
   ],
   "source": [
    "# Keep first only the data that has values for crim\n",
    "housing_no_nas = housing[~housing.crim.isna()]\n",
    "\n",
    "# Split your data in 80% train and 20% test (do not modify the seed or the split percentage)\n",
    "np.random.seed(15774)\n",
    "housing_no_nas_train, housing_no_nas_test = train_test_split(housing_no_nas, train_size=0.8)\n",
    "\n",
    "# Build X and y for test and train\n",
    "features_22 = ['crim']\n",
    "X_train_22 = housing_no_nas_train[features_22]\n",
    "y_train_22 = housing_no_nas_train['crim']\n",
    "X_test_22 = housing_no_nas_test[features_22]\n",
    "y_test_22 = housing_no_nas_test['crim']\n",
    "\n",
    "# Compute the mean crim in the train set\n",
    "mean_crim_train = X_train_22.crim.mean()\n",
    "\n",
    "# Compute and report the MAPE\n",
    "compute_mape(y_test_22, mean_crim_train, )"
   ]
  },
  {
   "cell_type": "code",
   "execution_count": 23,
   "metadata": {},
   "outputs": [
    {
     "data": {
      "text/plain": [
       "208.7671207960982"
      ]
     },
     "execution_count": 23,
     "metadata": {},
     "output_type": "execute_result"
    }
   ],
   "source": [
    "# Compute the median crim in the train set\n",
    "median_crim_train = X_train_22.crim.median()\n",
    "\n",
    "# Compute and report the MAPE\n",
    "compute_mape(y_test_22, median_crim_train, )"
   ]
  },
  {
   "cell_type": "markdown",
   "metadata": {},
   "source": [
    "**Comment**: The MAPE of the mean model is 3429.34. The MAPE of the median model is 208.767. This means that the median model is more accurate because it has a much lower MAPE, meaning that our predictions on average are 208% percent off from the actual values (whereas our predictions are 3429% off in the mean model). "
   ]
  },
  {
   "cell_type": "markdown",
   "metadata": {},
   "source": [
    "---\n",
    "**4.** Impute `crim` values using a **knn** model with 3 and 5 neighbors. For that follow these steps:\n",
    "* We will use the random train-test split we computed in 2.3. No need to copy it again, simply use the same sets `housing_no_nas_train` and `housing_no_nas_test`.\n",
    "* The set of predictors is all the variables except from `crim`\n",
    "* Train a `KNeighborsRegressor` with 3 neighbors with the training data\n",
    "* Report the MAPE of these imputations in the test set\n",
    "* Repeat last two steps with a `KNeighborsRegressor` with 5 neighbors\n",
    "* Which model is better? Are they better than the previous models?  **(15 pts)**"
   ]
  },
  {
   "cell_type": "code",
   "execution_count": 24,
   "metadata": {},
   "outputs": [
    {
     "data": {
      "text/plain": [
       "64.33771503216866"
      ]
     },
     "execution_count": 24,
     "metadata": {},
     "output_type": "execute_result"
    }
   ],
   "source": [
    "# Build X and y for test and train\n",
    "features_23 = [\"zn\", \"indus\", \"chas\", \"nox\", \"rm\", \"age\", \"dis\", \"rad\", \"tax\", \"ptratio\", \"b\", \"lstat\", \"medv\"]\n",
    "X_train_23 = housing_no_nas_train[features_23]\n",
    "y_train_23 = housing_no_nas_train['crim']\n",
    "X_test_23 = housing_no_nas_test[features_23]\n",
    "y_test_23 = housing_no_nas_test['crim']\n",
    "\n",
    "# Define knn model with 3 neighbors and train it with the train data\n",
    "knn_3 = KNeighborsRegressor(n_neighbors=3)\n",
    "knn_3.fit(X_train_23, y_train_23)\n",
    "\n",
    "# Predict crim\n",
    "pred_3 = knn_3.predict(X_test_23)\n",
    "\n",
    "# Compute and report MAPE\n",
    "compute_mape(y_test_23, pred_3)\n"
   ]
  },
  {
   "cell_type": "code",
   "execution_count": 25,
   "metadata": {},
   "outputs": [
    {
     "data": {
      "text/plain": [
       "98.45104609024625"
      ]
     },
     "execution_count": 25,
     "metadata": {},
     "output_type": "execute_result"
    }
   ],
   "source": [
    "# Define knn model with 3 neighbors and train it with the train data (Hint: train and test data is the same as in the 2.2)\n",
    "knn_5 = KNeighborsRegressor(n_neighbors=5)\n",
    "knn_5.fit(X_train_23, y_train_23)\n",
    "\n",
    "# Predict crim\n",
    "pred_5 = knn_5.predict(X_test_23)\n",
    "\n",
    "# Compute and report MAPE\n",
    "compute_mape(y_test_23, pred_5)\n"
   ]
  },
  {
   "cell_type": "markdown",
   "metadata": {},
   "source": [
    "**Comment**: The MAPE of the knn_3 model is 64.337. The MAPE of the knn_5 model is 98.45. Both of these models are better than our previous mean and median models because they both have smaller MAPEs. The best model is the knn_3 model because it has the smallest MAPE, meaning that on average the difference between our predictions and actual values is the smallest in the knn_3 model. "
   ]
  },
  {
   "cell_type": "markdown",
   "metadata": {},
   "source": [
    "---\n",
    "*End of Homework 2*"
   ]
  }
 ],
 "metadata": {
  "kernelspec": {
   "display_name": "Python 3",
   "language": "python",
   "name": "python3"
  },
  "language_info": {
   "codemirror_mode": {
    "name": "ipython",
    "version": 3
   },
   "file_extension": ".py",
   "mimetype": "text/x-python",
   "name": "python",
   "nbconvert_exporter": "python",
   "pygments_lexer": "ipython3",
   "version": "3.8.3"
  }
 },
 "nbformat": 4,
 "nbformat_minor": 5
}
