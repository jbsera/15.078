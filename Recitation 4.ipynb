{
 "cells": [
  {
   "cell_type": "markdown",
   "metadata": {},
   "source": [
    "# 15.774/15.780 Fall 2023\n",
    "# Recitation 4 - Choice Modeling & Collaborative Filtering\n",
    "--------------------------------------------------------------------------------------------------------------------------------"
   ]
  },
  {
   "cell_type": "markdown",
   "metadata": {},
   "source": [
    "First, we import the packages we will be using"
   ]
  },
  {
   "cell_type": "code",
   "execution_count": 1,
   "metadata": {},
   "outputs": [],
   "source": [
    "# Install the packages you do not have\n",
    "# !pip install xlogit"
   ]
  },
  {
   "cell_type": "code",
   "execution_count": 2,
   "metadata": {},
   "outputs": [],
   "source": [
    "import pandas as pd\n",
    "import numpy as np\n",
    "from xlogit.utils import wide_to_long\n",
    "from xlogit import MultinomialLogit"
   ]
  },
  {
   "cell_type": "markdown",
   "metadata": {},
   "source": [
    "---\n",
    "## Choice Models\n",
    "\n",
    "By the end of this recitation, you will learn:\n",
    "\n",
    "* How to represent discrete choices in two forms: wide and long\n",
    "* How to transform data from wide to long form (packages that train choice models use this format)\n",
    "* How to train a Multinomial Logistic MNL choice model in Python\n",
    "* Compute predictions and hypothetical scenarios with the trained model\n",
    "\n",
    "\n"
   ]
  },
  {
   "cell_type": "markdown",
   "metadata": {},
   "source": [
    "### Trains\n",
    "\n",
    "The train dataset contains data for individual choices between two train tickets that vary in 4 attributes: \n",
    "`price` (in Netherlands Antillean Guilder), `time` (duration in minutes), `change` (number of changes), `comfort` (comfort level: lower level means more comfortable)\n",
    "The same individual made multiple choices:\n",
    "* an individual is labeled by `id`,\n",
    "* the different choice scenarios experienced by an individual are labeled by `choiceid` \n",
    "* the actual choice made in each scenario was stored in the column `choice`\n",
    "* The two ticket options are labeled choice1 and choice2 in the feature\n"
   ]
  },
  {
   "cell_type": "code",
   "execution_count": 3,
   "metadata": {
    "scrolled": true
   },
   "outputs": [
    {
     "data": {
      "text/html": [
       "<div>\n",
       "<style scoped>\n",
       "    .dataframe tbody tr th:only-of-type {\n",
       "        vertical-align: middle;\n",
       "    }\n",
       "\n",
       "    .dataframe tbody tr th {\n",
       "        vertical-align: top;\n",
       "    }\n",
       "\n",
       "    .dataframe thead th {\n",
       "        text-align: right;\n",
       "    }\n",
       "</style>\n",
       "<table border=\"1\" class=\"dataframe\">\n",
       "  <thead>\n",
       "    <tr style=\"text-align: right;\">\n",
       "      <th></th>\n",
       "      <th>id</th>\n",
       "      <th>choiceid</th>\n",
       "      <th>choice</th>\n",
       "      <th>price1</th>\n",
       "      <th>time1</th>\n",
       "      <th>change1</th>\n",
       "      <th>comfort1</th>\n",
       "      <th>price2</th>\n",
       "      <th>time2</th>\n",
       "      <th>change2</th>\n",
       "      <th>comfort2</th>\n",
       "      <th>income</th>\n",
       "    </tr>\n",
       "  </thead>\n",
       "  <tbody>\n",
       "    <tr>\n",
       "      <th>0</th>\n",
       "      <td>1</td>\n",
       "      <td>1</td>\n",
       "      <td>choice1</td>\n",
       "      <td>2400</td>\n",
       "      <td>150</td>\n",
       "      <td>0</td>\n",
       "      <td>1</td>\n",
       "      <td>4000</td>\n",
       "      <td>150</td>\n",
       "      <td>0</td>\n",
       "      <td>1</td>\n",
       "      <td>55200</td>\n",
       "    </tr>\n",
       "    <tr>\n",
       "      <th>1</th>\n",
       "      <td>1</td>\n",
       "      <td>2</td>\n",
       "      <td>choice1</td>\n",
       "      <td>2400</td>\n",
       "      <td>150</td>\n",
       "      <td>0</td>\n",
       "      <td>1</td>\n",
       "      <td>3200</td>\n",
       "      <td>130</td>\n",
       "      <td>0</td>\n",
       "      <td>1</td>\n",
       "      <td>46000</td>\n",
       "    </tr>\n",
       "    <tr>\n",
       "      <th>2</th>\n",
       "      <td>1</td>\n",
       "      <td>3</td>\n",
       "      <td>choice1</td>\n",
       "      <td>2400</td>\n",
       "      <td>115</td>\n",
       "      <td>0</td>\n",
       "      <td>1</td>\n",
       "      <td>4000</td>\n",
       "      <td>115</td>\n",
       "      <td>0</td>\n",
       "      <td>0</td>\n",
       "      <td>21100</td>\n",
       "    </tr>\n",
       "    <tr>\n",
       "      <th>3</th>\n",
       "      <td>1</td>\n",
       "      <td>4</td>\n",
       "      <td>choice2</td>\n",
       "      <td>4000</td>\n",
       "      <td>130</td>\n",
       "      <td>0</td>\n",
       "      <td>1</td>\n",
       "      <td>3200</td>\n",
       "      <td>150</td>\n",
       "      <td>0</td>\n",
       "      <td>0</td>\n",
       "      <td>75800</td>\n",
       "    </tr>\n",
       "    <tr>\n",
       "      <th>4</th>\n",
       "      <td>1</td>\n",
       "      <td>5</td>\n",
       "      <td>choice2</td>\n",
       "      <td>2400</td>\n",
       "      <td>150</td>\n",
       "      <td>0</td>\n",
       "      <td>1</td>\n",
       "      <td>3200</td>\n",
       "      <td>150</td>\n",
       "      <td>0</td>\n",
       "      <td>0</td>\n",
       "      <td>103300</td>\n",
       "    </tr>\n",
       "  </tbody>\n",
       "</table>\n",
       "</div>"
      ],
      "text/plain": [
       "   id  choiceid   choice  price1  time1  change1  comfort1  price2  time2  \\\n",
       "0   1         1  choice1    2400    150        0         1    4000    150   \n",
       "1   1         2  choice1    2400    150        0         1    3200    130   \n",
       "2   1         3  choice1    2400    115        0         1    4000    115   \n",
       "3   1         4  choice2    4000    130        0         1    3200    150   \n",
       "4   1         5  choice2    2400    150        0         1    3200    150   \n",
       "\n",
       "   change2  comfort2  income  \n",
       "0        0         1   55200  \n",
       "1        0         1   46000  \n",
       "2        0         0   21100  \n",
       "3        0         0   75800  \n",
       "4        0         0  103300  "
      ]
     },
     "execution_count": 3,
     "metadata": {},
     "output_type": "execute_result"
    }
   ],
   "source": [
    "# Assuming 'trains.csv' is in the same directory as your Python script or Jupyter Notebook\n",
    "file_path = \"trains.csv\"\n",
    "\n",
    "# Use the read_csv function to load the CSV file into a DataFrame\n",
    "trains = pd.read_csv(file_path)\n",
    "trains.head()"
   ]
  },
  {
   "cell_type": "markdown",
   "metadata": {},
   "source": [
    "#### Wide vs long format \n",
    "\n",
    "In the **wide format**, a choice is represented on each row. All the alternatives are included in the same row. For that reason, the explanatory features (e.g., `price`, `time`) are repeated per alternative. Here we have only two choices, but for a model with hundreds or thousands of alternatives, this representation is not recommended.\n",
    "\n",
    "The **long format** solves this problem by representing the explanatory features of all alternatives in the same column, one row per alternative. A choice scenario is represented by a group of rows, so we need an additional column that identifies the same choice scenario. The choice value is repeated for all the new rows.\n",
    "\n",
    "Packages that train MNL models use the long format, so we need to transform our data to the long format. We will use the function `wide_to_long` from the `xlogit` package to transform the data."
   ]
  },
  {
   "cell_type": "code",
   "execution_count": 4,
   "metadata": {},
   "outputs": [
    {
     "data": {
      "text/html": [
       "<div>\n",
       "<style scoped>\n",
       "    .dataframe tbody tr th:only-of-type {\n",
       "        vertical-align: middle;\n",
       "    }\n",
       "\n",
       "    .dataframe tbody tr th {\n",
       "        vertical-align: top;\n",
       "    }\n",
       "\n",
       "    .dataframe thead th {\n",
       "        text-align: right;\n",
       "    }\n",
       "</style>\n",
       "<table border=\"1\" class=\"dataframe\">\n",
       "  <thead>\n",
       "    <tr style=\"text-align: right;\">\n",
       "      <th></th>\n",
       "      <th>custom_id</th>\n",
       "      <th>alt</th>\n",
       "      <th>price</th>\n",
       "      <th>time</th>\n",
       "      <th>change</th>\n",
       "      <th>comfort</th>\n",
       "      <th>id</th>\n",
       "      <th>choiceid</th>\n",
       "      <th>choice</th>\n",
       "      <th>income</th>\n",
       "    </tr>\n",
       "  </thead>\n",
       "  <tbody>\n",
       "    <tr>\n",
       "      <th>0</th>\n",
       "      <td>0</td>\n",
       "      <td>1</td>\n",
       "      <td>2400</td>\n",
       "      <td>150</td>\n",
       "      <td>0</td>\n",
       "      <td>1</td>\n",
       "      <td>1</td>\n",
       "      <td>1</td>\n",
       "      <td>1</td>\n",
       "      <td>55200</td>\n",
       "    </tr>\n",
       "    <tr>\n",
       "      <th>1</th>\n",
       "      <td>0</td>\n",
       "      <td>2</td>\n",
       "      <td>4000</td>\n",
       "      <td>150</td>\n",
       "      <td>0</td>\n",
       "      <td>1</td>\n",
       "      <td>1</td>\n",
       "      <td>1</td>\n",
       "      <td>1</td>\n",
       "      <td>55200</td>\n",
       "    </tr>\n",
       "    <tr>\n",
       "      <th>2</th>\n",
       "      <td>1</td>\n",
       "      <td>1</td>\n",
       "      <td>2400</td>\n",
       "      <td>150</td>\n",
       "      <td>0</td>\n",
       "      <td>1</td>\n",
       "      <td>1</td>\n",
       "      <td>2</td>\n",
       "      <td>1</td>\n",
       "      <td>46000</td>\n",
       "    </tr>\n",
       "    <tr>\n",
       "      <th>3</th>\n",
       "      <td>1</td>\n",
       "      <td>2</td>\n",
       "      <td>3200</td>\n",
       "      <td>130</td>\n",
       "      <td>0</td>\n",
       "      <td>1</td>\n",
       "      <td>1</td>\n",
       "      <td>2</td>\n",
       "      <td>1</td>\n",
       "      <td>46000</td>\n",
       "    </tr>\n",
       "    <tr>\n",
       "      <th>4</th>\n",
       "      <td>2</td>\n",
       "      <td>1</td>\n",
       "      <td>2400</td>\n",
       "      <td>115</td>\n",
       "      <td>0</td>\n",
       "      <td>1</td>\n",
       "      <td>1</td>\n",
       "      <td>3</td>\n",
       "      <td>1</td>\n",
       "      <td>21100</td>\n",
       "    </tr>\n",
       "  </tbody>\n",
       "</table>\n",
       "</div>"
      ],
      "text/plain": [
       "   custom_id alt  price  time  change  comfort  id  choiceid choice  income\n",
       "0          0   1   2400   150       0        1   1         1      1   55200\n",
       "1          0   2   4000   150       0        1   1         1      1   55200\n",
       "2          1   1   2400   150       0        1   1         2      1   46000\n",
       "3          1   2   3200   130       0        1   1         2      1   46000\n",
       "4          2   1   2400   115       0        1   1         3      1   21100"
      ]
     },
     "execution_count": 4,
     "metadata": {},
     "output_type": "execute_result"
    }
   ],
   "source": [
    "# First we need an identifier to represent each choice scenario. \n",
    "# In this case, we simply use a range function to give a different number to each row\n",
    "trains[\"custom_id\"] = np.arange(len(trains))\n",
    "\n",
    "# The function `wide_to_long` also requires the alternative names to be either suffixes or prefixes of the column names\n",
    "# In this case, we have `price1` and `price2`, so the alternative suffixes are `1` and `2`. \n",
    "# However, the alternatives are `choice1` and `choice2`, so we transform these names to `1` and `2` by keeping the last character\n",
    "trains[\"choice\"] = trains[\"choice\"].str[-1]\n",
    "\n",
    "# Transform data from wide to long format\n",
    "trains_long = wide_to_long(\n",
    "    trains, \n",
    "    id_col=\"custom_id\", # Id representing each scenario\n",
    "    alt_name=\"alt\", # The name you want to assign to the column that will identify the alternative represented on each row \n",
    "    sep=\"\", # Separator used between the feature name and the alternative (suffix in this case)\n",
    "    alt_list=[\"1\", \"2\"], # Alternative names\n",
    "    varying=[\"price\", \"time\", \"change\", \"comfort\"], # Actual features\n",
    "    alt_is_prefix=False, # The alternatives are suffixes\n",
    ")\n",
    "trains_long.head()"
   ]
  },
  {
   "cell_type": "markdown",
   "metadata": {},
   "source": [
    "We can observe that the first row of `trains` is represented in the two first rows of `trains_long` (one row per alternative). The feature `custom_id` groups a choice scenario, the column `alt` identifies the alternative, and `choice` is the final choice (alternative 1) for both alternatives."
   ]
  },
  {
   "cell_type": "code",
   "execution_count": 5,
   "metadata": {},
   "outputs": [],
   "source": [
    "# We transform the data to interpret price in USD and time in hours\n",
    "trains_long[\"price\"] = trains_long[\"price\"]/100 * 2.20371\n",
    "trains_long[\"time\"] = trains_long[\"time\"]/60 \n"
   ]
  },
  {
   "cell_type": "code",
   "execution_count": 6,
   "metadata": {},
   "outputs": [
    {
     "name": "stdout",
     "output_type": "stream",
     "text": [
      "Optimization terminated successfully.\n",
      "    Message: The gradients are close to zero\n",
      "    Iterations: 6\n",
      "    Function evaluations: 7\n",
      "Estimation time= 0.0 seconds\n",
      "---------------------------------------------------------------------------\n",
      "Coefficient              Estimate      Std.Err.         z-val         P>|z|\n",
      "---------------------------------------------------------------------------\n",
      "price                  -0.0673582     0.0033933   -19.8506051      2.24e-82 ***\n",
      "time                   -1.7205457     0.1603517   -10.7298276      2.26e-26 ***\n",
      "change                 -0.3263459     0.0594892    -5.4858023      4.47e-08 ***\n",
      "comfort                -0.9457283     0.0649455   -14.5618765      1.98e-46 ***\n",
      "---------------------------------------------------------------------------\n",
      "Significance:  0 '***' 0.001 '**' 0.01 '*' 0.05 '.' 0.1 ' ' 1\n",
      "\n",
      "Log-Likelihood= -1724.150\n",
      "AIC= 3456.300\n",
      "BIC= 3480.230\n"
     ]
    }
   ],
   "source": [
    "varnames = [\"price\", \"time\", \"change\", \"comfort\"] \n",
    "y = trains_long.choice\n",
    "X = trains_long.loc[:, varnames] \n",
    "\n",
    "model = MultinomialLogit()\n",
    "model.fit(\n",
    "    X, # X contains all the features in varnames\n",
    "    y, # y contains the choice feature\n",
    "    varnames=varnames, # Features to be used in the model\n",
    "    ids=trains_long.custom_id, # Choice scenario identifier\n",
    "    alts=trains_long.alt, # Alternative names\n",
    "    fit_intercept=False # We won't fit intercept in general\n",
    ")\n",
    "model.summary()"
   ]
  },
  {
   "cell_type": "markdown",
   "metadata": {},
   "source": [
    "We can now interpret the coefficients we just obtained. As with logistic regression, we cannot use the scale of the number but only the sign. We could interpret the coefficients as follows:\n",
    "* The higher the price of an alternative, the less likely a user is to choose it\n",
    "* The higher the duration of an alternative, the less likely a user is to choose it\n",
    "* The higher the number of changes of an alternative, the less likely a user is to choose it\n",
    "* The higher the comfort of an alternative, the less likely a user is to choose it (remember that comfort is flipped, 1 is low comfort level and 0 is high)\n",
    "\n",
    "Signs make sense!"
   ]
  },
  {
   "cell_type": "markdown",
   "metadata": {},
   "source": [
    "Let us give another interpretation of the coefficients through ratios between the features and price, that is ratios will represent how much a customer is willing to pay to improve their current condition."
   ]
  },
  {
   "cell_type": "code",
   "execution_count": 7,
   "metadata": {},
   "outputs": [
    {
     "data": {
      "text/html": [
       "<div>\n",
       "<style scoped>\n",
       "    .dataframe tbody tr th:only-of-type {\n",
       "        vertical-align: middle;\n",
       "    }\n",
       "\n",
       "    .dataframe tbody tr th {\n",
       "        vertical-align: top;\n",
       "    }\n",
       "\n",
       "    .dataframe thead th {\n",
       "        text-align: right;\n",
       "    }\n",
       "</style>\n",
       "<table border=\"1\" class=\"dataframe\">\n",
       "  <thead>\n",
       "    <tr style=\"text-align: right;\">\n",
       "      <th></th>\n",
       "      <th>time</th>\n",
       "      <th>change</th>\n",
       "      <th>comfort</th>\n",
       "    </tr>\n",
       "  </thead>\n",
       "  <tbody>\n",
       "    <tr>\n",
       "      <th>0</th>\n",
       "      <td>25.543244</td>\n",
       "      <td>4.844936</td>\n",
       "      <td>14.040294</td>\n",
       "    </tr>\n",
       "  </tbody>\n",
       "</table>\n",
       "</div>"
      ],
      "text/plain": [
       "        time    change    comfort\n",
       "0  25.543244  4.844936  14.040294"
      ]
     },
     "execution_count": 7,
     "metadata": {},
     "output_type": "execute_result"
    }
   ],
   "source": [
    "# Coefficients\n",
    "pd.DataFrame([model.coeff_[1:] / model.coeff_[0]], columns=model.coeff_names[1:])"
   ]
  },
  {
   "cell_type": "markdown",
   "metadata": {},
   "source": [
    "The results can be interpreted as follows:\n",
    "* A customer is willing to pay $\\$25$ more to reduce 1 hour of duration\n",
    "* A customer is willing to pay $\\$5$ more to reduce 1 change\n",
    "* A customer is willing to pay $\\$14$ more to reduce 1 comfort level (in this case, to move to the high comfort level)"
   ]
  },
  {
   "cell_type": "markdown",
   "metadata": {},
   "source": [
    "What if we want to include customer features such as `income`?"
   ]
  },
  {
   "cell_type": "code",
   "execution_count": 8,
   "metadata": {},
   "outputs": [
    {
     "name": "stdout",
     "output_type": "stream",
     "text": [
      "Optimization terminated successfully.\n",
      "    Message: The gradients are close to zero\n",
      "    Iterations: 11\n",
      "    Function evaluations: 12\n",
      "Estimation time= 0.0 seconds\n",
      "---------------------------------------------------------------------------\n",
      "Coefficient              Estimate      Std.Err.         z-val         P>|z|\n",
      "---------------------------------------------------------------------------\n",
      "income.2               -0.0000058     0.0000003   -20.4281658         8e-87 ***\n",
      "price                  -0.0914596     0.0041975   -21.7888257      1.13e-97 ***\n",
      "time                   -1.5890385     0.1920458    -8.2742667      1.94e-16 ***\n",
      "change                 -0.2823665     0.0721362    -3.9143551      9.27e-05 ***\n",
      "comfort                -0.8801245     0.0769455   -11.4382879      1.14e-29 ***\n",
      "---------------------------------------------------------------------------\n",
      "Significance:  0 '***' 0.001 '**' 0.01 '*' 0.05 '.' 0.1 ' ' 1\n",
      "\n",
      "Log-Likelihood= -1278.244\n",
      "AIC= 2566.488\n",
      "BIC= 2596.400\n"
     ]
    }
   ],
   "source": [
    "varnames = [\"price\", \"time\", \"change\", \"comfort\", \"income\"]  # we addd income here\n",
    "y = trains_long.choice\n",
    "X = trains_long.loc[:, varnames] \n",
    "\n",
    "model_with_income = MultinomialLogit()\n",
    "model_with_income.fit(\n",
    "    X,\n",
    "    y,\n",
    "    varnames=varnames, \n",
    "    isvars=[\"income\"], # We also add income here\n",
    "    ids=trains_long.custom_id, \n",
    "    alts=trains_long.alt, \n",
    "    fit_intercept=False \n",
    ")\n",
    "model_with_income.summary()"
   ]
  },
  {
   "cell_type": "markdown",
   "metadata": {},
   "source": [
    "The interpretation of the negative signs is that the higher the income of the customer, the less likely the customer will select the second option."
   ]
  },
  {
   "cell_type": "markdown",
   "metadata": {},
   "source": [
    "#### Predictions and sensitivity analysis\n",
    "\n",
    "Suppose we offer two ticket options with the following attributes:\n",
    "* Ticket 1: price = 60 euros, time = 2.5 hours, no. of changes = 1, comfort level = 1\n",
    "* Ticket 2: price = 100 euros, time = 2.5 hours, no. of changes = 1, comfort level = 0\n",
    "\n",
    "What is the interpretation of the two alternatives?\n",
    "\n",
    "What is the predicted market share of each ticket? \n",
    "***Note:** We will use the first model without `income` as we do not have information about income in the options above*"
   ]
  },
  {
   "cell_type": "code",
   "execution_count": 9,
   "metadata": {},
   "outputs": [
    {
     "name": "stdout",
     "output_type": "stream",
     "text": [
      "Ticket 2 has a market share of 14.82%\n"
     ]
    }
   ],
   "source": [
    "# Let us compute the probability (market share) of each alternative using the logit function\n",
    "VT1 = np.exp(model.coeff_[0]*60 + model.coeff_[1]*2.5 + model.coeff_[2]*1 + model.coeff_[3]*1)\n",
    "VT2 = np.exp(model.coeff_[0]*100 + model.coeff_[1]*2.5 + model.coeff_[2]*1 + model.coeff_[3]*0)\n",
    "Share2 = VT2/(VT1 + VT2)\n",
    "\n",
    "print(f\"Ticket 2 has a market share of {np.round(Share2*100, 2)}%\")"
   ]
  },
  {
   "cell_type": "markdown",
   "metadata": {},
   "source": [
    "Suppose now we reduce Ticket 2's price to 80 euros, how much increase in market share would we expect?"
   ]
  },
  {
   "cell_type": "code",
   "execution_count": 10,
   "metadata": {},
   "outputs": [
    {
     "name": "stdout",
     "output_type": "stream",
     "text": [
      "Ticket 2 with a price of $80 has a market share of 40.1% instead\n",
      "The improvement in market share is of 170.51% \n"
     ]
    }
   ],
   "source": [
    "# We recompute VT2 and the share\n",
    "VT22 = np.exp(model.coeff_[0]*80 + model.coeff_[1]*2.5 + model.coeff_[2]*1 + model.coeff_[3]*0)\n",
    "Share22 = VT22/(VT1 + VT22)\n",
    "\n",
    "# We output the new share and the percentage improvement in market share of the second option\n",
    "print(f\"Ticket 2 with a price of $80 has a market share of {np.round(Share22*100, 2)}% instead\")\n",
    "\n",
    "share_improvement = (Share22/Share2 - 1)\n",
    "print(f\"The improvement in market share is of {np.round(share_improvement*100, 2)}% \")"
   ]
  },
  {
   "cell_type": "markdown",
   "metadata": {},
   "source": [
    "Which option has a better expected revenue per customer?"
   ]
  },
  {
   "cell_type": "code",
   "execution_count": 11,
   "metadata": {},
   "outputs": [
    {
     "name": "stdout",
     "output_type": "stream",
     "text": [
      "The expected revenue of the first option is $65.93 per customer\n",
      "The expected revenue of the second option is $68.02 per customer\n"
     ]
    }
   ],
   "source": [
    "# Let us compute market share by price and see which one has higher revenue\n",
    "print(f\"The expected revenue of the first option is ${np.round(Share2 * 100 + (1-Share2) * 60, 2)} per customer\")\n",
    "print(f\"The expected revenue of the second option is ${np.round(Share22 * 80 + (1-Share22) * 60, 2)} per customer\")"
   ]
  },
  {
   "cell_type": "markdown",
   "metadata": {},
   "source": [
    "The second option leads to higher revenue."
   ]
  },
  {
   "cell_type": "markdown",
   "metadata": {},
   "source": [
    "---\n",
    "---\n",
    "## Collaborative filtering \n",
    "\n",
    "**Technical Note**: You can assume that the data is already “bias-adjusted” (i.e. you do not need to deaverage users' ratings).\n"
   ]
  },
  {
   "cell_type": "code",
   "execution_count": 12,
   "metadata": {},
   "outputs": [
    {
     "data": {
      "text/html": [
       "<div>\n",
       "<style scoped>\n",
       "    .dataframe tbody tr th:only-of-type {\n",
       "        vertical-align: middle;\n",
       "    }\n",
       "\n",
       "    .dataframe tbody tr th {\n",
       "        vertical-align: top;\n",
       "    }\n",
       "\n",
       "    .dataframe thead th {\n",
       "        text-align: right;\n",
       "    }\n",
       "</style>\n",
       "<table border=\"1\" class=\"dataframe\">\n",
       "  <thead>\n",
       "    <tr style=\"text-align: right;\">\n",
       "      <th></th>\n",
       "      <th>user</th>\n",
       "      <th>a perfect circle</th>\n",
       "      <th>abba</th>\n",
       "      <th>ac/dc</th>\n",
       "      <th>adam green</th>\n",
       "      <th>aerosmith</th>\n",
       "      <th>afi</th>\n",
       "      <th>air</th>\n",
       "      <th>alanis morissette</th>\n",
       "      <th>alexisonfire</th>\n",
       "      <th>...</th>\n",
       "      <th>timbaland</th>\n",
       "      <th>tom waits</th>\n",
       "      <th>tool</th>\n",
       "      <th>tori amos</th>\n",
       "      <th>travis</th>\n",
       "      <th>trivium</th>\n",
       "      <th>u2</th>\n",
       "      <th>underoath</th>\n",
       "      <th>volbeat</th>\n",
       "      <th>yann tiersen</th>\n",
       "    </tr>\n",
       "  </thead>\n",
       "  <tbody>\n",
       "    <tr>\n",
       "      <th>0</th>\n",
       "      <td>1</td>\n",
       "      <td>0</td>\n",
       "      <td>0</td>\n",
       "      <td>0</td>\n",
       "      <td>0</td>\n",
       "      <td>0</td>\n",
       "      <td>0</td>\n",
       "      <td>0</td>\n",
       "      <td>0</td>\n",
       "      <td>0</td>\n",
       "      <td>...</td>\n",
       "      <td>0</td>\n",
       "      <td>0</td>\n",
       "      <td>0</td>\n",
       "      <td>0</td>\n",
       "      <td>0</td>\n",
       "      <td>0</td>\n",
       "      <td>0</td>\n",
       "      <td>0</td>\n",
       "      <td>0</td>\n",
       "      <td>0</td>\n",
       "    </tr>\n",
       "    <tr>\n",
       "      <th>1</th>\n",
       "      <td>33</td>\n",
       "      <td>0</td>\n",
       "      <td>0</td>\n",
       "      <td>0</td>\n",
       "      <td>1</td>\n",
       "      <td>0</td>\n",
       "      <td>0</td>\n",
       "      <td>0</td>\n",
       "      <td>0</td>\n",
       "      <td>0</td>\n",
       "      <td>...</td>\n",
       "      <td>0</td>\n",
       "      <td>0</td>\n",
       "      <td>0</td>\n",
       "      <td>0</td>\n",
       "      <td>0</td>\n",
       "      <td>0</td>\n",
       "      <td>0</td>\n",
       "      <td>0</td>\n",
       "      <td>0</td>\n",
       "      <td>0</td>\n",
       "    </tr>\n",
       "    <tr>\n",
       "      <th>2</th>\n",
       "      <td>42</td>\n",
       "      <td>0</td>\n",
       "      <td>0</td>\n",
       "      <td>0</td>\n",
       "      <td>0</td>\n",
       "      <td>0</td>\n",
       "      <td>0</td>\n",
       "      <td>0</td>\n",
       "      <td>0</td>\n",
       "      <td>0</td>\n",
       "      <td>...</td>\n",
       "      <td>0</td>\n",
       "      <td>0</td>\n",
       "      <td>0</td>\n",
       "      <td>0</td>\n",
       "      <td>0</td>\n",
       "      <td>0</td>\n",
       "      <td>0</td>\n",
       "      <td>0</td>\n",
       "      <td>0</td>\n",
       "      <td>0</td>\n",
       "    </tr>\n",
       "    <tr>\n",
       "      <th>3</th>\n",
       "      <td>51</td>\n",
       "      <td>0</td>\n",
       "      <td>0</td>\n",
       "      <td>0</td>\n",
       "      <td>0</td>\n",
       "      <td>0</td>\n",
       "      <td>0</td>\n",
       "      <td>0</td>\n",
       "      <td>0</td>\n",
       "      <td>0</td>\n",
       "      <td>...</td>\n",
       "      <td>0</td>\n",
       "      <td>0</td>\n",
       "      <td>0</td>\n",
       "      <td>0</td>\n",
       "      <td>0</td>\n",
       "      <td>0</td>\n",
       "      <td>0</td>\n",
       "      <td>0</td>\n",
       "      <td>0</td>\n",
       "      <td>0</td>\n",
       "    </tr>\n",
       "    <tr>\n",
       "      <th>4</th>\n",
       "      <td>62</td>\n",
       "      <td>0</td>\n",
       "      <td>0</td>\n",
       "      <td>0</td>\n",
       "      <td>0</td>\n",
       "      <td>0</td>\n",
       "      <td>0</td>\n",
       "      <td>0</td>\n",
       "      <td>0</td>\n",
       "      <td>0</td>\n",
       "      <td>...</td>\n",
       "      <td>0</td>\n",
       "      <td>0</td>\n",
       "      <td>0</td>\n",
       "      <td>0</td>\n",
       "      <td>0</td>\n",
       "      <td>0</td>\n",
       "      <td>0</td>\n",
       "      <td>0</td>\n",
       "      <td>0</td>\n",
       "      <td>0</td>\n",
       "    </tr>\n",
       "  </tbody>\n",
       "</table>\n",
       "<p>5 rows × 286 columns</p>\n",
       "</div>"
      ],
      "text/plain": [
       "   user  a perfect circle  abba  ac/dc  adam green  aerosmith  afi  air  \\\n",
       "0     1                 0     0      0           0          0    0    0   \n",
       "1    33                 0     0      0           1          0    0    0   \n",
       "2    42                 0     0      0           0          0    0    0   \n",
       "3    51                 0     0      0           0          0    0    0   \n",
       "4    62                 0     0      0           0          0    0    0   \n",
       "\n",
       "   alanis morissette  alexisonfire  ...  timbaland  tom waits  tool  \\\n",
       "0                  0             0  ...          0          0     0   \n",
       "1                  0             0  ...          0          0     0   \n",
       "2                  0             0  ...          0          0     0   \n",
       "3                  0             0  ...          0          0     0   \n",
       "4                  0             0  ...          0          0     0   \n",
       "\n",
       "   tori amos  travis  trivium  u2  underoath  volbeat  yann tiersen  \n",
       "0          0       0        0   0          0        0             0  \n",
       "1          0       0        0   0          0        0             0  \n",
       "2          0       0        0   0          0        0             0  \n",
       "3          0       0        0   0          0        0             0  \n",
       "4          0       0        0   0          0        0             0  \n",
       "\n",
       "[5 rows x 286 columns]"
      ]
     },
     "execution_count": 12,
     "metadata": {},
     "output_type": "execute_result"
    }
   ],
   "source": [
    "# Assuming 'lastfm-matrix-germany.csv' is in the same directory as your Python script or Jupyter Notebook\n",
    "file_path = \"lastfm-matrix-germany.csv\"\n",
    "\n",
    "# Use the read_csv function to load the CSV file into a DataFrame\n",
    "music = pd.read_csv(file_path)\n",
    "music.head()"
   ]
  },
  {
   "cell_type": "code",
   "execution_count": 13,
   "metadata": {},
   "outputs": [
    {
     "data": {
      "text/html": [
       "<div>\n",
       "<style scoped>\n",
       "    .dataframe tbody tr th:only-of-type {\n",
       "        vertical-align: middle;\n",
       "    }\n",
       "\n",
       "    .dataframe tbody tr th {\n",
       "        vertical-align: top;\n",
       "    }\n",
       "\n",
       "    .dataframe thead th {\n",
       "        text-align: right;\n",
       "    }\n",
       "</style>\n",
       "<table border=\"1\" class=\"dataframe\">\n",
       "  <thead>\n",
       "    <tr style=\"text-align: right;\">\n",
       "      <th></th>\n",
       "      <th>user</th>\n",
       "      <th>beyonce</th>\n",
       "      <th>black eyed peas</th>\n",
       "      <th>britney spears</th>\n",
       "      <th>justin timberlake</th>\n",
       "      <th>bloc party</th>\n",
       "      <th>franz ferdinand</th>\n",
       "      <th>babyshambles</th>\n",
       "      <th>the libertines</th>\n",
       "      <th>the hives</th>\n",
       "    </tr>\n",
       "  </thead>\n",
       "  <tbody>\n",
       "    <tr>\n",
       "      <th>12</th>\n",
       "      <td>256</td>\n",
       "      <td>0</td>\n",
       "      <td>1</td>\n",
       "      <td>0</td>\n",
       "      <td>1</td>\n",
       "      <td>0</td>\n",
       "      <td>0</td>\n",
       "      <td>0</td>\n",
       "      <td>0</td>\n",
       "      <td>0</td>\n",
       "    </tr>\n",
       "    <tr>\n",
       "      <th>20</th>\n",
       "      <td>422</td>\n",
       "      <td>0</td>\n",
       "      <td>0</td>\n",
       "      <td>0</td>\n",
       "      <td>0</td>\n",
       "      <td>1</td>\n",
       "      <td>1</td>\n",
       "      <td>0</td>\n",
       "      <td>1</td>\n",
       "      <td>0</td>\n",
       "    </tr>\n",
       "    <tr>\n",
       "      <th>50</th>\n",
       "      <td>925</td>\n",
       "      <td>0</td>\n",
       "      <td>0</td>\n",
       "      <td>0</td>\n",
       "      <td>0</td>\n",
       "      <td>0</td>\n",
       "      <td>1</td>\n",
       "      <td>1</td>\n",
       "      <td>0</td>\n",
       "      <td>1</td>\n",
       "    </tr>\n",
       "    <tr>\n",
       "      <th>59</th>\n",
       "      <td>1022</td>\n",
       "      <td>0</td>\n",
       "      <td>0</td>\n",
       "      <td>0</td>\n",
       "      <td>0</td>\n",
       "      <td>0</td>\n",
       "      <td>1</td>\n",
       "      <td>1</td>\n",
       "      <td>1</td>\n",
       "      <td>0</td>\n",
       "    </tr>\n",
       "    <tr>\n",
       "      <th>72</th>\n",
       "      <td>1253</td>\n",
       "      <td>0</td>\n",
       "      <td>0</td>\n",
       "      <td>0</td>\n",
       "      <td>0</td>\n",
       "      <td>1</td>\n",
       "      <td>1</td>\n",
       "      <td>0</td>\n",
       "      <td>0</td>\n",
       "      <td>1</td>\n",
       "    </tr>\n",
       "  </tbody>\n",
       "</table>\n",
       "</div>"
      ],
      "text/plain": [
       "    user  beyonce  black eyed peas  britney spears  justin timberlake  \\\n",
       "12   256        0                1               0                  1   \n",
       "20   422        0                0               0                  0   \n",
       "50   925        0                0               0                  0   \n",
       "59  1022        0                0               0                  0   \n",
       "72  1253        0                0               0                  0   \n",
       "\n",
       "    bloc party  franz ferdinand  babyshambles  the libertines  the hives  \n",
       "12           0                0             0               0          0  \n",
       "20           1                1             0               1          0  \n",
       "50           0                1             1               0          1  \n",
       "59           0                1             1               1          0  \n",
       "72           1                1             0               0          1  "
      ]
     },
     "execution_count": 13,
     "metadata": {},
     "output_type": "execute_result"
    }
   ],
   "source": [
    "# Let us analyze only some  artists\n",
    "artists  = [\n",
    "    \"beyonce\", \"black eyed peas\", \"britney spears\",  \"justin timberlake\",\n",
    "    \"bloc party\", \"franz ferdinand\", \"babyshambles\", \"the libertines\", \"the hives\"\n",
    "]\n",
    "music = music[[\"user\"] + artists]\n",
    "\n",
    "# We filter out users without ratings for these artists\n",
    "music = music[music[artists].sum(axis=1) > 1] \n",
    "\n",
    "music.head()"
   ]
  },
  {
   "cell_type": "markdown",
   "metadata": {},
   "source": [
    "We will focus now on users `14618` and `1361` and see who are the most similar users in terms of cosine similarity"
   ]
  },
  {
   "cell_type": "code",
   "execution_count": 14,
   "metadata": {},
   "outputs": [
    {
     "data": {
      "text/plain": [
       "user                 14618\n",
       "beyonce                  0\n",
       "black eyed peas          0\n",
       "britney spears           0\n",
       "justin timberlake        1\n",
       "bloc party               0\n",
       "franz ferdinand          1\n",
       "babyshambles             0\n",
       "the libertines           0\n",
       "the hives                1\n",
       "Name: 921, dtype: int64"
      ]
     },
     "execution_count": 14,
     "metadata": {},
     "output_type": "execute_result"
    }
   ],
   "source": [
    "# We keep these users in a their own variables \n",
    "user_14618 = music[music.user == 14618].iloc[0,:]\n",
    "user_14618"
   ]
  },
  {
   "cell_type": "code",
   "execution_count": 15,
   "metadata": {},
   "outputs": [
    {
     "data": {
      "text/plain": [
       "user                 1361\n",
       "beyonce                 1\n",
       "black eyed peas         1\n",
       "britney spears          1\n",
       "justin timberlake       0\n",
       "bloc party              0\n",
       "franz ferdinand         0\n",
       "babyshambles            0\n",
       "the libertines          0\n",
       "the hives               0\n",
       "Name: 81, dtype: int64"
      ]
     },
     "execution_count": 15,
     "metadata": {},
     "output_type": "execute_result"
    }
   ],
   "source": [
    "user_1361 = music[music.user == 1361].iloc[0,:]\n",
    "user_1361"
   ]
  },
  {
   "cell_type": "code",
   "execution_count": 16,
   "metadata": {},
   "outputs": [],
   "source": [
    "# We define a lambda function to compute the cosine similarity of two vectors \n",
    "cosine_similarity = lambda x, y: (x * y).sum() / np.sqrt((x ** 2).sum() * (y ** 2).sum())"
   ]
  },
  {
   "cell_type": "code",
   "execution_count": 17,
   "metadata": {},
   "outputs": [
    {
     "data": {
      "text/plain": [
       "0.0"
      ]
     },
     "execution_count": 17,
     "metadata": {},
     "output_type": "execute_result"
    }
   ],
   "source": [
    "# Let us use it to compute the similarity between our selected users\n",
    "# Note: We have to remove the user identifier before computing the similarity\n",
    "cosine_similarity(user_1361[artists], user_14618[artists])"
   ]
  },
  {
   "cell_type": "markdown",
   "metadata": {},
   "source": [
    "The result makes sense as we selected two users with no ratings in common. Let us compute the most similar users to those two"
   ]
  },
  {
   "cell_type": "markdown",
   "metadata": {},
   "source": [
    "### User similarity"
   ]
  },
  {
   "cell_type": "code",
   "execution_count": 18,
   "metadata": {},
   "outputs": [
    {
     "data": {
      "text/html": [
       "<div>\n",
       "<style scoped>\n",
       "    .dataframe tbody tr th:only-of-type {\n",
       "        vertical-align: middle;\n",
       "    }\n",
       "\n",
       "    .dataframe tbody tr th {\n",
       "        vertical-align: top;\n",
       "    }\n",
       "\n",
       "    .dataframe thead th {\n",
       "        text-align: right;\n",
       "    }\n",
       "</style>\n",
       "<table border=\"1\" class=\"dataframe\">\n",
       "  <thead>\n",
       "    <tr style=\"text-align: right;\">\n",
       "      <th></th>\n",
       "      <th>user</th>\n",
       "      <th>sim_with_14618</th>\n",
       "      <th>sim_with_1361</th>\n",
       "    </tr>\n",
       "  </thead>\n",
       "  <tbody>\n",
       "    <tr>\n",
       "      <th>12</th>\n",
       "      <td>256</td>\n",
       "      <td>0.408248</td>\n",
       "      <td>0.408248</td>\n",
       "    </tr>\n",
       "    <tr>\n",
       "      <th>20</th>\n",
       "      <td>422</td>\n",
       "      <td>0.333333</td>\n",
       "      <td>0.000000</td>\n",
       "    </tr>\n",
       "    <tr>\n",
       "      <th>50</th>\n",
       "      <td>925</td>\n",
       "      <td>0.666667</td>\n",
       "      <td>0.000000</td>\n",
       "    </tr>\n",
       "    <tr>\n",
       "      <th>59</th>\n",
       "      <td>1022</td>\n",
       "      <td>0.333333</td>\n",
       "      <td>0.000000</td>\n",
       "    </tr>\n",
       "    <tr>\n",
       "      <th>72</th>\n",
       "      <td>1253</td>\n",
       "      <td>0.666667</td>\n",
       "      <td>0.000000</td>\n",
       "    </tr>\n",
       "    <tr>\n",
       "      <th>...</th>\n",
       "      <td>...</td>\n",
       "      <td>...</td>\n",
       "      <td>...</td>\n",
       "    </tr>\n",
       "    <tr>\n",
       "      <th>1187</th>\n",
       "      <td>18669</td>\n",
       "      <td>0.408248</td>\n",
       "      <td>0.000000</td>\n",
       "    </tr>\n",
       "    <tr>\n",
       "      <th>1201</th>\n",
       "      <td>18816</td>\n",
       "      <td>0.333333</td>\n",
       "      <td>0.000000</td>\n",
       "    </tr>\n",
       "    <tr>\n",
       "      <th>1203</th>\n",
       "      <td>18870</td>\n",
       "      <td>0.408248</td>\n",
       "      <td>0.000000</td>\n",
       "    </tr>\n",
       "    <tr>\n",
       "      <th>1246</th>\n",
       "      <td>19565</td>\n",
       "      <td>0.000000</td>\n",
       "      <td>0.000000</td>\n",
       "    </tr>\n",
       "    <tr>\n",
       "      <th>1256</th>\n",
       "      <td>19695</td>\n",
       "      <td>0.408248</td>\n",
       "      <td>0.000000</td>\n",
       "    </tr>\n",
       "  </tbody>\n",
       "</table>\n",
       "<p>105 rows × 3 columns</p>\n",
       "</div>"
      ],
      "text/plain": [
       "       user  sim_with_14618  sim_with_1361\n",
       "12      256        0.408248       0.408248\n",
       "20      422        0.333333       0.000000\n",
       "50      925        0.666667       0.000000\n",
       "59     1022        0.333333       0.000000\n",
       "72     1253        0.666667       0.000000\n",
       "...     ...             ...            ...\n",
       "1187  18669        0.408248       0.000000\n",
       "1201  18816        0.333333       0.000000\n",
       "1203  18870        0.408248       0.000000\n",
       "1246  19565        0.000000       0.000000\n",
       "1256  19695        0.408248       0.000000\n",
       "\n",
       "[105 rows x 3 columns]"
      ]
     },
     "execution_count": 18,
     "metadata": {},
     "output_type": "execute_result"
    }
   ],
   "source": [
    "# There are many ways of computing it but we will simply loop over the users and then sort the similarities\n",
    "sim_with_14618 = []\n",
    "sim_with_1361 = []\n",
    "\n",
    "for user_id in music.user:\n",
    "    # Get user ratings\n",
    "    user = music[music.user == user_id].iloc[0,:] \n",
    "\n",
    "    # Compute and store similarity with 14618\n",
    "    sim_with_14618.append(cosine_similarity(user[artists], user_14618[artists]))\n",
    "\n",
    "    # Compute and store similarity with 1361\n",
    "    sim_with_1361.append(cosine_similarity(user[artists], user_1361[artists]))\n",
    "\n",
    "# Build a matrix with this data\n",
    "sims = pd.DataFrame({\"user\": music.user, \"sim_with_14618\": sim_with_14618, \"sim_with_1361\": sim_with_1361})\n",
    "sims"
   ]
  },
  {
   "cell_type": "code",
   "execution_count": 19,
   "metadata": {},
   "outputs": [
    {
     "data": {
      "text/html": [
       "<div>\n",
       "<style scoped>\n",
       "    .dataframe tbody tr th:only-of-type {\n",
       "        vertical-align: middle;\n",
       "    }\n",
       "\n",
       "    .dataframe tbody tr th {\n",
       "        vertical-align: top;\n",
       "    }\n",
       "\n",
       "    .dataframe thead th {\n",
       "        text-align: right;\n",
       "    }\n",
       "</style>\n",
       "<table border=\"1\" class=\"dataframe\">\n",
       "  <thead>\n",
       "    <tr style=\"text-align: right;\">\n",
       "      <th></th>\n",
       "      <th>user</th>\n",
       "      <th>sim_with_14618</th>\n",
       "      <th>sim_with_1361</th>\n",
       "    </tr>\n",
       "  </thead>\n",
       "  <tbody>\n",
       "    <tr>\n",
       "      <th>921</th>\n",
       "      <td>14618</td>\n",
       "      <td>1.000000</td>\n",
       "      <td>0.0</td>\n",
       "    </tr>\n",
       "    <tr>\n",
       "      <th>1125</th>\n",
       "      <td>17657</td>\n",
       "      <td>0.816497</td>\n",
       "      <td>0.0</td>\n",
       "    </tr>\n",
       "    <tr>\n",
       "      <th>116</th>\n",
       "      <td>1796</td>\n",
       "      <td>0.816497</td>\n",
       "      <td>0.0</td>\n",
       "    </tr>\n",
       "    <tr>\n",
       "      <th>239</th>\n",
       "      <td>3757</td>\n",
       "      <td>0.816497</td>\n",
       "      <td>0.0</td>\n",
       "    </tr>\n",
       "    <tr>\n",
       "      <th>908</th>\n",
       "      <td>14347</td>\n",
       "      <td>0.816497</td>\n",
       "      <td>0.0</td>\n",
       "    </tr>\n",
       "    <tr>\n",
       "      <th>724</th>\n",
       "      <td>11093</td>\n",
       "      <td>0.816497</td>\n",
       "      <td>0.0</td>\n",
       "    </tr>\n",
       "  </tbody>\n",
       "</table>\n",
       "</div>"
      ],
      "text/plain": [
       "       user  sim_with_14618  sim_with_1361\n",
       "921   14618        1.000000            0.0\n",
       "1125  17657        0.816497            0.0\n",
       "116    1796        0.816497            0.0\n",
       "239    3757        0.816497            0.0\n",
       "908   14347        0.816497            0.0\n",
       "724   11093        0.816497            0.0"
      ]
     },
     "execution_count": 19,
     "metadata": {},
     "output_type": "execute_result"
    }
   ],
   "source": [
    "# Top 5 users most similar to 14618\n",
    "top5_similar_to_14618 = sims.sort_values(\"sim_with_14618\", ascending=False).head(6)\n",
    "top5_similar_to_14618"
   ]
  },
  {
   "cell_type": "code",
   "execution_count": 20,
   "metadata": {},
   "outputs": [
    {
     "data": {
      "text/html": [
       "<div>\n",
       "<style scoped>\n",
       "    .dataframe tbody tr th:only-of-type {\n",
       "        vertical-align: middle;\n",
       "    }\n",
       "\n",
       "    .dataframe tbody tr th {\n",
       "        vertical-align: top;\n",
       "    }\n",
       "\n",
       "    .dataframe thead th {\n",
       "        text-align: right;\n",
       "    }\n",
       "</style>\n",
       "<table border=\"1\" class=\"dataframe\">\n",
       "  <thead>\n",
       "    <tr style=\"text-align: right;\">\n",
       "      <th></th>\n",
       "      <th>user</th>\n",
       "      <th>beyonce</th>\n",
       "      <th>black eyed peas</th>\n",
       "      <th>britney spears</th>\n",
       "      <th>justin timberlake</th>\n",
       "      <th>bloc party</th>\n",
       "      <th>franz ferdinand</th>\n",
       "      <th>babyshambles</th>\n",
       "      <th>the libertines</th>\n",
       "      <th>the hives</th>\n",
       "    </tr>\n",
       "  </thead>\n",
       "  <tbody>\n",
       "    <tr>\n",
       "      <th>116</th>\n",
       "      <td>1796</td>\n",
       "      <td>0</td>\n",
       "      <td>0</td>\n",
       "      <td>0</td>\n",
       "      <td>0</td>\n",
       "      <td>0</td>\n",
       "      <td>1</td>\n",
       "      <td>0</td>\n",
       "      <td>0</td>\n",
       "      <td>1</td>\n",
       "    </tr>\n",
       "    <tr>\n",
       "      <th>239</th>\n",
       "      <td>3757</td>\n",
       "      <td>0</td>\n",
       "      <td>0</td>\n",
       "      <td>0</td>\n",
       "      <td>1</td>\n",
       "      <td>0</td>\n",
       "      <td>1</td>\n",
       "      <td>0</td>\n",
       "      <td>0</td>\n",
       "      <td>0</td>\n",
       "    </tr>\n",
       "    <tr>\n",
       "      <th>724</th>\n",
       "      <td>11093</td>\n",
       "      <td>0</td>\n",
       "      <td>0</td>\n",
       "      <td>0</td>\n",
       "      <td>0</td>\n",
       "      <td>0</td>\n",
       "      <td>1</td>\n",
       "      <td>0</td>\n",
       "      <td>0</td>\n",
       "      <td>1</td>\n",
       "    </tr>\n",
       "    <tr>\n",
       "      <th>908</th>\n",
       "      <td>14347</td>\n",
       "      <td>0</td>\n",
       "      <td>0</td>\n",
       "      <td>0</td>\n",
       "      <td>0</td>\n",
       "      <td>0</td>\n",
       "      <td>1</td>\n",
       "      <td>0</td>\n",
       "      <td>0</td>\n",
       "      <td>1</td>\n",
       "    </tr>\n",
       "    <tr>\n",
       "      <th>921</th>\n",
       "      <td>14618</td>\n",
       "      <td>0</td>\n",
       "      <td>0</td>\n",
       "      <td>0</td>\n",
       "      <td>1</td>\n",
       "      <td>0</td>\n",
       "      <td>1</td>\n",
       "      <td>0</td>\n",
       "      <td>0</td>\n",
       "      <td>1</td>\n",
       "    </tr>\n",
       "    <tr>\n",
       "      <th>1125</th>\n",
       "      <td>17657</td>\n",
       "      <td>0</td>\n",
       "      <td>0</td>\n",
       "      <td>0</td>\n",
       "      <td>0</td>\n",
       "      <td>0</td>\n",
       "      <td>1</td>\n",
       "      <td>0</td>\n",
       "      <td>0</td>\n",
       "      <td>1</td>\n",
       "    </tr>\n",
       "  </tbody>\n",
       "</table>\n",
       "</div>"
      ],
      "text/plain": [
       "       user  beyonce  black eyed peas  britney spears  justin timberlake  \\\n",
       "116    1796        0                0               0                  0   \n",
       "239    3757        0                0               0                  1   \n",
       "724   11093        0                0               0                  0   \n",
       "908   14347        0                0               0                  0   \n",
       "921   14618        0                0               0                  1   \n",
       "1125  17657        0                0               0                  0   \n",
       "\n",
       "      bloc party  franz ferdinand  babyshambles  the libertines  the hives  \n",
       "116            0                1             0               0          1  \n",
       "239            0                1             0               0          0  \n",
       "724            0                1             0               0          1  \n",
       "908            0                1             0               0          1  \n",
       "921            0                1             0               0          1  \n",
       "1125           0                1             0               0          1  "
      ]
     },
     "execution_count": 20,
     "metadata": {},
     "output_type": "execute_result"
    }
   ],
   "source": [
    "# And their ratings\n",
    "music[music.user.isin(top5_similar_to_14618.user)]"
   ]
  },
  {
   "cell_type": "code",
   "execution_count": 21,
   "metadata": {},
   "outputs": [
    {
     "data": {
      "text/html": [
       "<div>\n",
       "<style scoped>\n",
       "    .dataframe tbody tr th:only-of-type {\n",
       "        vertical-align: middle;\n",
       "    }\n",
       "\n",
       "    .dataframe tbody tr th {\n",
       "        vertical-align: top;\n",
       "    }\n",
       "\n",
       "    .dataframe thead th {\n",
       "        text-align: right;\n",
       "    }\n",
       "</style>\n",
       "<table border=\"1\" class=\"dataframe\">\n",
       "  <thead>\n",
       "    <tr style=\"text-align: right;\">\n",
       "      <th></th>\n",
       "      <th>user</th>\n",
       "      <th>sim_with_14618</th>\n",
       "      <th>sim_with_1361</th>\n",
       "    </tr>\n",
       "  </thead>\n",
       "  <tbody>\n",
       "    <tr>\n",
       "      <th>384</th>\n",
       "      <td>6163</td>\n",
       "      <td>0.000000</td>\n",
       "      <td>1.000000</td>\n",
       "    </tr>\n",
       "    <tr>\n",
       "      <th>81</th>\n",
       "      <td>1361</td>\n",
       "      <td>0.000000</td>\n",
       "      <td>1.000000</td>\n",
       "    </tr>\n",
       "    <tr>\n",
       "      <th>1070</th>\n",
       "      <td>16860</td>\n",
       "      <td>0.288675</td>\n",
       "      <td>0.866025</td>\n",
       "    </tr>\n",
       "    <tr>\n",
       "      <th>1149</th>\n",
       "      <td>18030</td>\n",
       "      <td>0.288675</td>\n",
       "      <td>0.866025</td>\n",
       "    </tr>\n",
       "    <tr>\n",
       "      <th>329</th>\n",
       "      <td>5302</td>\n",
       "      <td>0.000000</td>\n",
       "      <td>0.816497</td>\n",
       "    </tr>\n",
       "    <tr>\n",
       "      <th>587</th>\n",
       "      <td>9200</td>\n",
       "      <td>0.000000</td>\n",
       "      <td>0.816497</td>\n",
       "    </tr>\n",
       "  </tbody>\n",
       "</table>\n",
       "</div>"
      ],
      "text/plain": [
       "       user  sim_with_14618  sim_with_1361\n",
       "384    6163        0.000000       1.000000\n",
       "81     1361        0.000000       1.000000\n",
       "1070  16860        0.288675       0.866025\n",
       "1149  18030        0.288675       0.866025\n",
       "329    5302        0.000000       0.816497\n",
       "587    9200        0.000000       0.816497"
      ]
     },
     "execution_count": 21,
     "metadata": {},
     "output_type": "execute_result"
    }
   ],
   "source": [
    "# Top 5 users most similar to 1361\n",
    "top5_similar_to_1361 = sims.sort_values(\"sim_with_1361\", ascending=False).head(6)\n",
    "top5_similar_to_1361"
   ]
  },
  {
   "cell_type": "code",
   "execution_count": 22,
   "metadata": {},
   "outputs": [
    {
     "data": {
      "text/html": [
       "<div>\n",
       "<style scoped>\n",
       "    .dataframe tbody tr th:only-of-type {\n",
       "        vertical-align: middle;\n",
       "    }\n",
       "\n",
       "    .dataframe tbody tr th {\n",
       "        vertical-align: top;\n",
       "    }\n",
       "\n",
       "    .dataframe thead th {\n",
       "        text-align: right;\n",
       "    }\n",
       "</style>\n",
       "<table border=\"1\" class=\"dataframe\">\n",
       "  <thead>\n",
       "    <tr style=\"text-align: right;\">\n",
       "      <th></th>\n",
       "      <th>user</th>\n",
       "      <th>beyonce</th>\n",
       "      <th>black eyed peas</th>\n",
       "      <th>britney spears</th>\n",
       "      <th>justin timberlake</th>\n",
       "      <th>bloc party</th>\n",
       "      <th>franz ferdinand</th>\n",
       "      <th>babyshambles</th>\n",
       "      <th>the libertines</th>\n",
       "      <th>the hives</th>\n",
       "    </tr>\n",
       "  </thead>\n",
       "  <tbody>\n",
       "    <tr>\n",
       "      <th>81</th>\n",
       "      <td>1361</td>\n",
       "      <td>1</td>\n",
       "      <td>1</td>\n",
       "      <td>1</td>\n",
       "      <td>0</td>\n",
       "      <td>0</td>\n",
       "      <td>0</td>\n",
       "      <td>0</td>\n",
       "      <td>0</td>\n",
       "      <td>0</td>\n",
       "    </tr>\n",
       "    <tr>\n",
       "      <th>329</th>\n",
       "      <td>5302</td>\n",
       "      <td>1</td>\n",
       "      <td>1</td>\n",
       "      <td>0</td>\n",
       "      <td>0</td>\n",
       "      <td>0</td>\n",
       "      <td>0</td>\n",
       "      <td>0</td>\n",
       "      <td>0</td>\n",
       "      <td>0</td>\n",
       "    </tr>\n",
       "    <tr>\n",
       "      <th>384</th>\n",
       "      <td>6163</td>\n",
       "      <td>1</td>\n",
       "      <td>1</td>\n",
       "      <td>1</td>\n",
       "      <td>0</td>\n",
       "      <td>0</td>\n",
       "      <td>0</td>\n",
       "      <td>0</td>\n",
       "      <td>0</td>\n",
       "      <td>0</td>\n",
       "    </tr>\n",
       "    <tr>\n",
       "      <th>587</th>\n",
       "      <td>9200</td>\n",
       "      <td>1</td>\n",
       "      <td>0</td>\n",
       "      <td>1</td>\n",
       "      <td>0</td>\n",
       "      <td>0</td>\n",
       "      <td>0</td>\n",
       "      <td>0</td>\n",
       "      <td>0</td>\n",
       "      <td>0</td>\n",
       "    </tr>\n",
       "    <tr>\n",
       "      <th>1070</th>\n",
       "      <td>16860</td>\n",
       "      <td>1</td>\n",
       "      <td>1</td>\n",
       "      <td>1</td>\n",
       "      <td>1</td>\n",
       "      <td>0</td>\n",
       "      <td>0</td>\n",
       "      <td>0</td>\n",
       "      <td>0</td>\n",
       "      <td>0</td>\n",
       "    </tr>\n",
       "    <tr>\n",
       "      <th>1149</th>\n",
       "      <td>18030</td>\n",
       "      <td>1</td>\n",
       "      <td>1</td>\n",
       "      <td>1</td>\n",
       "      <td>1</td>\n",
       "      <td>0</td>\n",
       "      <td>0</td>\n",
       "      <td>0</td>\n",
       "      <td>0</td>\n",
       "      <td>0</td>\n",
       "    </tr>\n",
       "  </tbody>\n",
       "</table>\n",
       "</div>"
      ],
      "text/plain": [
       "       user  beyonce  black eyed peas  britney spears  justin timberlake  \\\n",
       "81     1361        1                1               1                  0   \n",
       "329    5302        1                1               0                  0   \n",
       "384    6163        1                1               1                  0   \n",
       "587    9200        1                0               1                  0   \n",
       "1070  16860        1                1               1                  1   \n",
       "1149  18030        1                1               1                  1   \n",
       "\n",
       "      bloc party  franz ferdinand  babyshambles  the libertines  the hives  \n",
       "81             0                0             0               0          0  \n",
       "329            0                0             0               0          0  \n",
       "384            0                0             0               0          0  \n",
       "587            0                0             0               0          0  \n",
       "1070           0                0             0               0          0  \n",
       "1149           0                0             0               0          0  "
      ]
     },
     "execution_count": 22,
     "metadata": {},
     "output_type": "execute_result"
    }
   ],
   "source": [
    "# And their ratings\n",
    "music[music.user.isin(top5_similar_to_1361.user)]"
   ]
  },
  {
   "cell_type": "markdown",
   "metadata": {},
   "source": [
    "### Band similarity"
   ]
  },
  {
   "cell_type": "markdown",
   "metadata": {},
   "source": [
    "We can use the same function to compute band similarities!"
   ]
  },
  {
   "cell_type": "code",
   "execution_count": 23,
   "metadata": {},
   "outputs": [
    {
     "data": {
      "text/plain": [
       "0.5129891760425771"
      ]
     },
     "execution_count": 23,
     "metadata": {},
     "output_type": "execute_result"
    }
   ],
   "source": [
    "cosine_similarity(music[\"beyonce\"], music[\"britney spears\"])"
   ]
  },
  {
   "cell_type": "code",
   "execution_count": 24,
   "metadata": {},
   "outputs": [
    {
     "data": {
      "text/plain": [
       "0.5291502622129182"
      ]
     },
     "execution_count": 24,
     "metadata": {},
     "output_type": "execute_result"
    }
   ],
   "source": [
    "cosine_similarity(music[\"babyshambles\"], music[\"the libertines\"])"
   ]
  },
  {
   "cell_type": "code",
   "execution_count": 25,
   "metadata": {},
   "outputs": [
    {
     "data": {
      "text/plain": [
       "0.03706246583305506"
      ]
     },
     "execution_count": 25,
     "metadata": {},
     "output_type": "execute_result"
    }
   ],
   "source": [
    "cosine_similarity(music[\"babyshambles\"], music[\"justin timberlake\"])"
   ]
  },
  {
   "cell_type": "code",
   "execution_count": 26,
   "metadata": {},
   "outputs": [
    {
     "data": {
      "text/plain": [
       "0.0"
      ]
     },
     "execution_count": 26,
     "metadata": {},
     "output_type": "execute_result"
    }
   ],
   "source": [
    "cosine_similarity(music[\"babyshambles\"], music[\"beyonce\"])"
   ]
  },
  {
   "cell_type": "markdown",
   "metadata": {},
   "source": [
    "### Prediction"
   ]
  },
  {
   "cell_type": "markdown",
   "metadata": {},
   "source": [
    "We have a new user  who likes `babyshambles`, `bloc party`, and `justin timberlake`, and has listened to `beyonce` and `the hives` without rating them, we want to predict the user rating for `britney spears` and `the libertines` \n",
    "\n",
    "This user ratings can be represented as the following `pandas.Series`\n"
   ]
  },
  {
   "cell_type": "code",
   "execution_count": 27,
   "metadata": {},
   "outputs": [],
   "source": [
    "new_user = pd.Series({\n",
    "    \"beyonce\": 0, \n",
    "    \"justin timberlake\": 1,\n",
    "    \"bloc party\": 1,\n",
    "    \"babyshambles\": 1, \n",
    "    \"the hives\": 0\n",
    "})"
   ]
  },
  {
   "cell_type": "markdown",
   "metadata": {},
   "source": [
    "**Important:** We compute the cosine similarities only on those artist for whom we know the ratings of the new users"
   ]
  },
  {
   "cell_type": "code",
   "execution_count": 28,
   "metadata": {},
   "outputs": [
    {
     "data": {
      "text/plain": [
       "0     0.577350\n",
       "1     0.577350\n",
       "2     0.408248\n",
       "3     0.577350\n",
       "4     0.408248\n",
       "        ...   \n",
       "95    0.816497\n",
       "96    0.577350\n",
       "97    0.577350\n",
       "98    0.816497\n",
       "99    0.816497\n",
       "Length: 100, dtype: float64"
      ]
     },
     "execution_count": 28,
     "metadata": {},
     "output_type": "execute_result"
    }
   ],
   "source": [
    "# Define the known information \n",
    "known_rating_artists = [\"beyonce\", \"justin timberlake\", \"bloc party\", \"babyshambles\", \"the hives\"]\n",
    "\n",
    "# Filter out users without ratings for these bands\n",
    "known_rating_music = music[music[known_rating_artists].sum(axis=1) > 0].reset_index()\n",
    "\n",
    "sim_with_new_user = []\n",
    "for user_id in known_rating_music.user:\n",
    "    # Get user ratings\n",
    "    user = known_rating_music[known_rating_music.user == user_id].iloc[0,:] \n",
    "    \n",
    "    # Compute and store similarity with new_user ONLY ON KNOWN RATINGS!\n",
    "    sim_with_new_user.append(cosine_similarity(user[known_rating_artists], new_user[known_rating_artists]))\n",
    "\n",
    "sim_with_new_user = pd.Series(sim_with_new_user)\n",
    "sim_with_new_user"
   ]
  },
  {
   "cell_type": "markdown",
   "metadata": {},
   "source": [
    "Now we compute the prediction using the similarities as weights and the ratings for `britney spears` and `the libertines` respectively of those original users. For that we use the following lambda function"
   ]
  },
  {
   "cell_type": "code",
   "execution_count": 29,
   "metadata": {},
   "outputs": [],
   "source": [
    "# Function that computes predictions\n",
    "rating_predictions = lambda weights, y: (weights * y).sum() / weights.sum()"
   ]
  },
  {
   "cell_type": "code",
   "execution_count": 30,
   "metadata": {},
   "outputs": [
    {
     "data": {
      "text/plain": [
       "0.10741132120129308"
      ]
     },
     "execution_count": 30,
     "metadata": {},
     "output_type": "execute_result"
    }
   ],
   "source": [
    "# Rating for `britney spears`\n",
    "rating_predictions(sim_with_new_user, known_rating_music[\"britney spears\"])"
   ]
  },
  {
   "cell_type": "code",
   "execution_count": 31,
   "metadata": {},
   "outputs": [
    {
     "data": {
      "text/plain": [
       "0.27350413198343976"
      ]
     },
     "execution_count": 31,
     "metadata": {},
     "output_type": "execute_result"
    }
   ],
   "source": [
    "# Rating for `the libertines`\n",
    "rating_predictions(sim_with_new_user, known_rating_music[\"the libertines\"])"
   ]
  },
  {
   "cell_type": "markdown",
   "metadata": {},
   "source": [
    "---\n",
    "*End of Recitation 4*"
   ]
  }
 ],
 "metadata": {
  "kernelspec": {
   "display_name": "Python 3",
   "language": "python",
   "name": "python3"
  },
  "language_info": {
   "codemirror_mode": {
    "name": "ipython",
    "version": 3
   },
   "file_extension": ".py",
   "mimetype": "text/x-python",
   "name": "python",
   "nbconvert_exporter": "python",
   "pygments_lexer": "ipython3",
   "version": "3.8.3"
  }
 },
 "nbformat": 4,
 "nbformat_minor": 5
}
