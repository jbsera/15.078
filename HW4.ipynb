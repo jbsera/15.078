{
 "cells": [
  {
   "cell_type": "markdown",
   "metadata": {},
   "source": [
    "# 15.774/15.780 Fall 2023\n",
    "## The Analytics of Operations Management\n",
    "### Problem Set 4 - Supply Chain Optimization \n",
    "#### Due Date:  11/17\n",
    "---\n",
    "Name of Student: Joy Bhattacharya\n",
    "\n",
    "MIT ID Number: 922631264\n",
    "\n",
    "---\n",
    "\n",
    "### Instructions:\n",
    "\n",
    "1) Submit solutions that are your own, in your own words. You are allowed to discuss with other students in general terms, but make sure you are not copying verbatim from another student. Therefore do not read other students' solutions. If you use material from outside this class, reference it in your solution. \n",
    "\n",
    "2) Please download the python file attached in the assignment and complete your answers there in the same file. Read the questions carefully, and make sure you answer every part that the question asks.\n",
    "\n",
    "3) Include relevant code in the PDF submission even if the question doesn't explicitly ask for it. Upload your solutions as a PDF file. Include your name and MIT ID on the first page.\n",
    "\n",
    "4) To convert to pdf, you can use the \"print to pdf\" option in jupyter (or equivalent options in other IDE). There are other options to directly download in to pdf format which might include additional installation of packages. \n",
    "\n",
    "5) Show your work and explain your conclusions clearly and precisely. Plots should have clear titles and axis labels so that it is clear what your analysis is showing.\n",
    "\n",
    "--------------------------------------------------------------------------------------------------------------------------------"
   ]
  },
  {
   "cell_type": "markdown",
   "metadata": {},
   "source": [
    "## Load Packages"
   ]
  },
  {
   "cell_type": "code",
   "execution_count": 1,
   "metadata": {},
   "outputs": [
    {
     "name": "stderr",
     "output_type": "stream",
     "text": [
      "C:\\Users\\joyse\\anaconda3\\lib\\site-packages\\pandas\\core\\computation\\expressions.py:20: UserWarning: Pandas requires version '2.7.3' or newer of 'numexpr' (version '2.7.1' currently installed).\n",
      "  from pandas.core.computation.check import NUMEXPR_INSTALLED\n"
     ]
    },
    {
     "name": "stdout",
     "output_type": "stream",
     "text": [
      "Variable   Type       Data/Info\n",
      "-------------------------------\n",
      "CE         ndarray    7: 7 elems, type `float64`, 56 bytes\n",
      "CEU        ndarray    9x7: 63 elems, type `float64`, 504 bytes\n",
      "GRB        type       <class 'gurobipy.GRB'>\n",
      "OEMD       ndarray    9x7: 63 elems, type `int32`, 252 bytes\n",
      "PSCU       ndarray    9x7: 63 elems, type `float64`, 504 bytes\n",
      "SCMT       ndarray    9x7: 63 elems, type `float64`, 504 bytes\n",
      "UPC        ndarray    9: 9 elems, type `float64`, 72 bytes\n",
      "gp         module     <module 'gurobipy' from '<...>\\\\gurobipy\\\\__init__.py'>\n",
      "np         module     <module 'numpy' from 'C:\\<...>ges\\\\numpy\\\\__init__.py'>\n",
      "pd         module     <module 'pandas' from 'C:<...>es\\\\pandas\\\\__init__.py'>\n",
      "plt        module     <module 'matplotlib.pyplo<...>\\\\matplotlib\\\\pyplot.py'>\n"
     ]
    }
   ],
   "source": [
    "import gurobipy as gp\n",
    "from gurobipy import GRB\n",
    "import pandas as pd\n",
    "import numpy as np\n",
    "import matplotlib.pyplot as plt\n",
    "from HW4_data import *\n",
    "%whos"
   ]
  },
  {
   "cell_type": "markdown",
   "metadata": {},
   "source": [
    "---\n",
    "## $\\textbf{Problem 1. Supply Chain Optimization}$ (75 pts)\n",
    "In all the problem set, fill in the missing variables and constraints (i.e. whenever is \"Variable = \" or \"Constraint = \" you should fill in with your answer. \n",
    "1. Based on the information in the case, assign appropriate values to the constants in the following cell. (5 pts)"
   ]
  },
  {
   "cell_type": "code",
   "execution_count": 39,
   "metadata": {},
   "outputs": [],
   "source": [
    "# Total budget allocated for supply chain\n",
    "TotalBudget = 3000000000\n",
    "\n",
    "\n",
    "# Total TV sets order by the customers from all ODMs by TV size\n",
    "TotalUnits42 = 920000\n",
    "TotalUnits32 =  530000\n",
    "\n",
    "# Number of ODMs (treat ODMs making two different sizes as if they were separate ODMs, i.e., count them twice)\n",
    "NumODM = 9\n",
    "\n",
    "# Number of transportation options\n",
    "NumTran = 7\n",
    "\n",
    "# Minimum order size of 42\" or 32\" TV sets from any selected ODM\n",
    "MinProd = 200000\n",
    "\n",
    "# Maximum order size of 42\" or 32\" TV sets from any selected ODM\n",
    "MaxProd = 600000\n",
    "\n",
    "# Minimum number of 42\" / 32\" TV sets shipped by Regular Air or Air Express\n",
    "MinAir42 = 46000 \n",
    "MinAir32 = 53000\n",
    "\n",
    "# Minimum number of 42\" / 32\" TV sets shipped by Road, Road LTL, or Road Network\n",
    "MinRoad42 = 92000\n",
    "MinRoad32 = 79500\n",
    "\n",
    "# Minimum number of 42\" / 32\" TV sets shipped by shipped by Rail\n",
    "MinRail42 = 138000\n",
    "MinRail32 = 79500"
   ]
  },
  {
   "cell_type": "code",
   "execution_count": 3,
   "metadata": {},
   "outputs": [
    {
     "name": "stdout",
     "output_type": "stream",
     "text": [
      "(10, 0, 2)\n"
     ]
    }
   ],
   "source": [
    "print(gp.gurobi.version())"
   ]
  },
  {
   "cell_type": "code",
   "execution_count": 2,
   "metadata": {},
   "outputs": [],
   "source": [
    "# Set up Gurobi environment\n",
    "env = gp.Env(empty=True)\n",
    "env.setParam('OutputFlag', 0)\n",
    "env.start()\n",
    "\n",
    "# Initialize the model\n",
    "m = gp.Model(env=env)"
   ]
  },
  {
   "cell_type": "markdown",
   "metadata": {},
   "source": [
    "---\n",
    "2. Add decision variables to the model. (5 pts)"
   ]
  },
  {
   "cell_type": "code",
   "execution_count": 41,
   "metadata": {},
   "outputs": [],
   "source": [
    "### Decision Variables ###\n",
    "\n",
    "# A vector of binary decision variables that denote which ODMs are selected\n",
    "X = m.addVars((i for i in range(0,9)), vtype=GRB.BINARY, name='X')\n",
    "              \n",
    "\n",
    "# Supply Chain Matrix\n",
    "# Indicates how many TV sets will be produced by the selected ODMs and how they will be shipped to the distribution center\n",
    "i=9\n",
    "j=7\n",
    "SCM = m.addMVar((i,j))"
   ]
  },
  {
   "cell_type": "markdown",
   "metadata": {},
   "source": [
    "---\n",
    "3. Add minimum and maximum order size constraints for the ODMs. (5 pts)"
   ]
  },
  {
   "cell_type": "code",
   "execution_count": 42,
   "metadata": {},
   "outputs": [],
   "source": [
    "### Constraints ###\n",
    "# Total production for each ODM must be greater than the minimum order size if the ODM is selected\n",
    "#Const1a = m.addConstrs((sum(SCM[i,j] for i in range(0,9) for j in range(0,7))>=X[i]*MinProd), name='Const1a')\n",
    "Const1a= m.addConstrs((gp.quicksum(SCM[i, j] for j in range(0, 7)) >= X[i] * MinProd for i in range(0, 9)), name='Const1a')\n",
    "\n",
    "# Total production for each ODM must be less than the maximum order size if the ODM is selected\n",
    "Const1b = m.addConstrs((gp.quicksum(SCM[i, j] for j in range(0, 7)) <= X[i] * MaxProd for i in range(0, 9)), name='Const1b')"
   ]
  },
  {
   "cell_type": "markdown",
   "metadata": {},
   "source": [
    "---\n",
    "4. Add constraints for the minimum shipping requirements by transportation mode. (5 pts)"
   ]
  },
  {
   "cell_type": "code",
   "execution_count": 43,
   "metadata": {},
   "outputs": [],
   "source": [
    "# Total number of TVs for each shipping mode must be greater than the Minimum Shipping Requirement\n",
    "Const2a1 =  m.addConstr((gp.quicksum(SCM[i, j] for i in range(7) for j in range(2)) >= MinAir42), name='Const2a1')\n",
    "\n",
    "Const2b1 = m.addConstr((gp.quicksum(SCM[i, j] for i in range(7) for j in range(2,5)) >= MinRoad42), name='Const2b1') \n",
    "\n",
    "Const2c1 =  m.addConstr((gp.quicksum(SCM[i, 5] for i in range(7)) >= MinRail42), name='Const2c1') \n",
    "\n",
    "\n",
    "# 42\" Rail\n",
    "Const2a2 =   m.addConstr((gp.quicksum(SCM[i, j] for i in range(7,9) for j in range(2)) >= MinAir32), name='Const2a2')\n",
    "\n",
    "\n",
    "# 32\" Regular Air or Air Express\n",
    "Const2b2 =   m.addConstr((gp.quicksum(SCM[i, j] for i in range(7,9) for j in range(2,5)) >= MinRoad32), name='Const2b2')   \n",
    "\n",
    "# 32\" Road, Road LTL, or Road Network\n",
    "Const2c2 =   m.addConstr((gp.quicksum(SCM[i, 5] for i in range(7,9)) >= MinRail32), name='Const2c2') \n",
    "\n",
    "# 32\" Rail"
   ]
  },
  {
   "cell_type": "markdown",
   "metadata": {},
   "source": [
    "---\n",
    "5. Add any shipping method constraints for specific ODMs. (5 pts)"
   ]
  },
  {
   "cell_type": "code",
   "execution_count": 44,
   "metadata": {},
   "outputs": [],
   "source": [
    "# ODM5 can't ship by Regular Air, Air Express, Rail, or Water (Hint: SCM [4, 1] corresponding to ODM5 shipping via Air Express)\n",
    "Const3a = m.addConstr((SCM[4,0]==0), name='Const3a')                 # Regular Air\n",
    "Const3b = m.addConstr((SCM[4,1]==0), name='Const3b')                  # Air Express\n",
    "Const3c = m.addConstr((SCM[4,5]==0), name='Const3c')                  # Rail\n",
    "Const3d = m.addConstr((SCM[4,6]==0), name='Const3d')                  # Water\n",
    "\n",
    "# ODM6 can't ship by Road, Road LTL, Road Network, and Rail\n",
    "Const4a = m.addConstr((SCM[5,2]==0), name='Const4a')                 # Road\n",
    "Const4b =  m.addConstr((SCM[5,3]==0), name='Const4b')                 # Road LTL\n",
    "Const4c =  m.addConstr((SCM[5,4]==0), name='Const4c')                 # Road Network\n",
    "Const4d =   m.addConstr((SCM[5,5]==0), name='Const4d')                #Rail"
   ]
  },
  {
   "cell_type": "markdown",
   "metadata": {},
   "source": [
    "---\n",
    "6. Add your budget constraint. (5 pts)"
   ]
  },
  {
   "cell_type": "code",
   "execution_count": 45,
   "metadata": {},
   "outputs": [],
   "source": [
    "# Total cost must be less than total budget, be sure to name this constraint 'Const5'!\n",
    "Const5 = m.addConstr((gp.quicksum(SCM[i, j]*PSCU[i,j] for i in range(9) for j in range(7))<=TotalBudget), name='Const5')\n",
    "\n"
   ]
  },
  {
   "cell_type": "markdown",
   "metadata": {},
   "source": [
    "---\n",
    "7. Add quantity constraints for each TV size (920,000 LCD 42” and 530,000 LCD 32”). (5 pts)"
   ]
  },
  {
   "cell_type": "code",
   "execution_count": 46,
   "metadata": {},
   "outputs": [],
   "source": [
    "# Total units for each model must be equal to the desired quantities\n",
    "Const6a =  m.addConstr((gp.quicksum(SCM[i, j] for i in range(7) for j in range(7))==TotalUnits42), name='Const6a')  \n",
    "\n",
    "\n",
    "# 42\" Total Units\n",
    "Const6b =  m.addConstr((gp.quicksum(SCM[i, j] for i in range(7,9) for j in range(7))==TotalUnits32), name='Const6b')    \n",
    "\n",
    "# 32\" Total Units"
   ]
  },
  {
   "cell_type": "markdown",
   "metadata": {},
   "source": [
    "---\n",
    "8. Add an objective function minimizing CO2 emissions. (5 pts)"
   ]
  },
  {
   "cell_type": "code",
   "execution_count": 47,
   "metadata": {},
   "outputs": [],
   "source": [
    "# Objective function: minimize CO2 emissions\n",
    "m.setObjective(\n",
    "    gp.quicksum(SCM[i, j]*CEU[i,j] for i in range(9) for j in range(7)), GRB.MINIMIZE)\n",
    "\n"
   ]
  },
  {
   "cell_type": "markdown",
   "metadata": {},
   "source": [
    "---\n",
    "9. Solve the model. What is the optimal objective function value (total CO2 emission)? (5 pts)"
   ]
  },
  {
   "cell_type": "code",
   "execution_count": 48,
   "metadata": {},
   "outputs": [],
   "source": [
    "# Update and write the model\n",
    "m.update() # Update model parameters\n",
    "m.write(\"HW4.lp\") # Write model to file"
   ]
  },
  {
   "cell_type": "code",
   "execution_count": 49,
   "metadata": {},
   "outputs": [],
   "source": [
    "# Solve\n",
    "m.optimize()"
   ]
  },
  {
   "cell_type": "code",
   "execution_count": 50,
   "metadata": {},
   "outputs": [
    {
     "data": {
      "text/plain": [
       "7401309.8902599905"
      ]
     },
     "execution_count": 50,
     "metadata": {},
     "output_type": "execute_result"
    }
   ],
   "source": [
    "m.objVal\n",
    "    \n",
    "    \n"
   ]
  },
  {
   "cell_type": "markdown",
   "metadata": {},
   "source": [
    "---\n",
    "10. In the optimal solution, which ODMs are selected and how much is ordered from each ODM? (5 pts)"
   ]
  },
  {
   "cell_type": "code",
   "execution_count": 52,
   "metadata": {},
   "outputs": [
    {
     "data": {
      "text/html": [
       "<div>\n",
       "<style scoped>\n",
       "    .dataframe tbody tr th:only-of-type {\n",
       "        vertical-align: middle;\n",
       "    }\n",
       "\n",
       "    .dataframe tbody tr th {\n",
       "        vertical-align: top;\n",
       "    }\n",
       "\n",
       "    .dataframe thead th {\n",
       "        text-align: right;\n",
       "    }\n",
       "</style>\n",
       "<table border=\"1\" class=\"dataframe\">\n",
       "  <thead>\n",
       "    <tr style=\"text-align: right;\">\n",
       "      <th></th>\n",
       "      <th>Air</th>\n",
       "      <th>Express</th>\n",
       "      <th>Road</th>\n",
       "      <th>Road LTL</th>\n",
       "      <th>Road-Network</th>\n",
       "      <th>Rail</th>\n",
       "      <th>Water</th>\n",
       "    </tr>\n",
       "  </thead>\n",
       "  <tbody>\n",
       "    <tr>\n",
       "      <th>LCD 42\" ODM1</th>\n",
       "      <td>0.0</td>\n",
       "      <td>0.0</td>\n",
       "      <td>0.0</td>\n",
       "      <td>0.0</td>\n",
       "      <td>90450.0</td>\n",
       "      <td>0.0</td>\n",
       "      <td>229550.0</td>\n",
       "    </tr>\n",
       "    <tr>\n",
       "      <th>LCD 42\" ODM2</th>\n",
       "      <td>0.0</td>\n",
       "      <td>0.0</td>\n",
       "      <td>0.0</td>\n",
       "      <td>0.0</td>\n",
       "      <td>0.0</td>\n",
       "      <td>0.0</td>\n",
       "      <td>0.0</td>\n",
       "    </tr>\n",
       "    <tr>\n",
       "      <th>LCD 42\" ODM3</th>\n",
       "      <td>0.0</td>\n",
       "      <td>0.0</td>\n",
       "      <td>0.0</td>\n",
       "      <td>0.0</td>\n",
       "      <td>0.0</td>\n",
       "      <td>0.0</td>\n",
       "      <td>0.0</td>\n",
       "    </tr>\n",
       "    <tr>\n",
       "      <th>LCD 42\" ODM4</th>\n",
       "      <td>46000.0</td>\n",
       "      <td>0.0</td>\n",
       "      <td>0.0</td>\n",
       "      <td>0.0</td>\n",
       "      <td>1550.0</td>\n",
       "      <td>138000.0</td>\n",
       "      <td>414450.0</td>\n",
       "    </tr>\n",
       "    <tr>\n",
       "      <th>LCD 42\" ODM5</th>\n",
       "      <td>-0.0</td>\n",
       "      <td>-0.0</td>\n",
       "      <td>0.0</td>\n",
       "      <td>0.0</td>\n",
       "      <td>0.0</td>\n",
       "      <td>-0.0</td>\n",
       "      <td>-0.0</td>\n",
       "    </tr>\n",
       "    <tr>\n",
       "      <th>LCD 42\" ODM6</th>\n",
       "      <td>0.0</td>\n",
       "      <td>0.0</td>\n",
       "      <td>-0.0</td>\n",
       "      <td>-0.0</td>\n",
       "      <td>-0.0</td>\n",
       "      <td>-0.0</td>\n",
       "      <td>0.0</td>\n",
       "    </tr>\n",
       "    <tr>\n",
       "      <th>LCD 42\" ODM7</th>\n",
       "      <td>0.0</td>\n",
       "      <td>0.0</td>\n",
       "      <td>0.0</td>\n",
       "      <td>0.0</td>\n",
       "      <td>0.0</td>\n",
       "      <td>0.0</td>\n",
       "      <td>0.0</td>\n",
       "    </tr>\n",
       "    <tr>\n",
       "      <th>LCD 32\" ODM1</th>\n",
       "      <td>53000.0</td>\n",
       "      <td>0.0</td>\n",
       "      <td>0.0</td>\n",
       "      <td>0.0</td>\n",
       "      <td>79500.0</td>\n",
       "      <td>79500.0</td>\n",
       "      <td>318000.0</td>\n",
       "    </tr>\n",
       "    <tr>\n",
       "      <th>LCD 32\" ODM2</th>\n",
       "      <td>0.0</td>\n",
       "      <td>0.0</td>\n",
       "      <td>0.0</td>\n",
       "      <td>0.0</td>\n",
       "      <td>0.0</td>\n",
       "      <td>0.0</td>\n",
       "      <td>0.0</td>\n",
       "    </tr>\n",
       "  </tbody>\n",
       "</table>\n",
       "</div>"
      ],
      "text/plain": [
       "                  Air  Express  Road  Road LTL  Road-Network      Rail  \\\n",
       "LCD 42\" ODM1      0.0      0.0   0.0       0.0       90450.0       0.0   \n",
       "LCD 42\" ODM2      0.0      0.0   0.0       0.0           0.0       0.0   \n",
       "LCD 42\" ODM3      0.0      0.0   0.0       0.0           0.0       0.0   \n",
       "LCD 42\" ODM4  46000.0      0.0   0.0       0.0        1550.0  138000.0   \n",
       "LCD 42\" ODM5     -0.0     -0.0   0.0       0.0           0.0      -0.0   \n",
       "LCD 42\" ODM6      0.0      0.0  -0.0      -0.0          -0.0      -0.0   \n",
       "LCD 42\" ODM7      0.0      0.0   0.0       0.0           0.0       0.0   \n",
       "LCD 32\" ODM1  53000.0      0.0   0.0       0.0       79500.0   79500.0   \n",
       "LCD 32\" ODM2      0.0      0.0   0.0       0.0           0.0       0.0   \n",
       "\n",
       "                 Water  \n",
       "LCD 42\" ODM1  229550.0  \n",
       "LCD 42\" ODM2       0.0  \n",
       "LCD 42\" ODM3       0.0  \n",
       "LCD 42\" ODM4  414450.0  \n",
       "LCD 42\" ODM5      -0.0  \n",
       "LCD 42\" ODM6       0.0  \n",
       "LCD 42\" ODM7       0.0  \n",
       "LCD 32\" ODM1  318000.0  \n",
       "LCD 32\" ODM2       0.0  "
      ]
     },
     "execution_count": 52,
     "metadata": {},
     "output_type": "execute_result"
    }
   ],
   "source": [
    "# Print the optimal decsion variable solutions\n",
    "transport_names = ['Air', 'Express', 'Road', 'Road LTL', 'Road-Network', 'Rail', 'Water']\n",
    "ODM_names = ['LCD 42\" ODM1', 'LCD 42\" ODM2', 'LCD 42\" ODM3', 'LCD 42\" ODM4', 'LCD 42\" ODM5', \n",
    "             'LCD 42\" ODM6', 'LCD 42\" ODM7', 'LCD 32\" ODM1', 'LCD 32\" ODM2']\n",
    "\n",
    "pd.DataFrame(SCM.getAttr('x'), index= ODM_names , columns=transport_names ) # You must fill in the values for index and columns"
   ]
  },
  {
   "cell_type": "markdown",
   "metadata": {},
   "source": [
    "---\n",
    "11. In the optimal solution, check whether the budget constraint is binding (i.e., is the CNY 3 billion\n",
    "budget fully used)? (5 pts)"
   ]
  },
  {
   "cell_type": "code",
   "execution_count": 54,
   "metadata": {},
   "outputs": [
    {
     "data": {
      "text/plain": [
       "3000000000.0"
      ]
     },
     "execution_count": 54,
     "metadata": {},
     "output_type": "execute_result"
    }
   ],
   "source": [
    "# Calculate used budget\n",
    "used_budget=0\n",
    "for i in range(9):\n",
    "    for j in range(7):\n",
    "        used_budget += SCM.x[i,j]*PSCU[i,j]\n",
    "used_budget"
   ]
  },
  {
   "cell_type": "markdown",
   "metadata": {},
   "source": [
    "**Comment**: The constraint is binding since we used the entire budget. "
   ]
  },
  {
   "cell_type": "markdown",
   "metadata": {},
   "source": [
    "---\n",
    "12. Now imagine your budget is increased by 10% to CNY 3.3 billion. How much and by what percentage\n",
    "is the CO2 emission reduced? How does your optimal sourcing decisions change? Do you see a shift in\n",
    "the modes of transportation compared to the case with CNY 3 billion budget? Is this surprising? (10\n",
    "pts)"
   ]
  },
  {
   "cell_type": "code",
   "execution_count": 55,
   "metadata": {
    "scrolled": true
   },
   "outputs": [
    {
     "name": "stdout",
     "output_type": "stream",
     "text": [
      "\n",
      "Objective value:  3479982.2601499995\n"
     ]
    },
    {
     "data": {
      "text/html": [
       "<div>\n",
       "<style scoped>\n",
       "    .dataframe tbody tr th:only-of-type {\n",
       "        vertical-align: middle;\n",
       "    }\n",
       "\n",
       "    .dataframe tbody tr th {\n",
       "        vertical-align: top;\n",
       "    }\n",
       "\n",
       "    .dataframe thead th {\n",
       "        text-align: right;\n",
       "    }\n",
       "</style>\n",
       "<table border=\"1\" class=\"dataframe\">\n",
       "  <thead>\n",
       "    <tr style=\"text-align: right;\">\n",
       "      <th></th>\n",
       "      <th>Air</th>\n",
       "      <th>Express</th>\n",
       "      <th>Road</th>\n",
       "      <th>Road LTL</th>\n",
       "      <th>Road-Network</th>\n",
       "      <th>Rail</th>\n",
       "      <th>Water</th>\n",
       "    </tr>\n",
       "  </thead>\n",
       "  <tbody>\n",
       "    <tr>\n",
       "      <th>LCD 42\" ODM1</th>\n",
       "      <td>0.0</td>\n",
       "      <td>0.0</td>\n",
       "      <td>0.0</td>\n",
       "      <td>0.0</td>\n",
       "      <td>0.0</td>\n",
       "      <td>0.0</td>\n",
       "      <td>0.0</td>\n",
       "    </tr>\n",
       "    <tr>\n",
       "      <th>LCD 42\" ODM2</th>\n",
       "      <td>0.0</td>\n",
       "      <td>0.0</td>\n",
       "      <td>0.0</td>\n",
       "      <td>0.0</td>\n",
       "      <td>0.0</td>\n",
       "      <td>0.0</td>\n",
       "      <td>0.0</td>\n",
       "    </tr>\n",
       "    <tr>\n",
       "      <th>LCD 42\" ODM3</th>\n",
       "      <td>0.0</td>\n",
       "      <td>0.0</td>\n",
       "      <td>0.0</td>\n",
       "      <td>0.0</td>\n",
       "      <td>0.0</td>\n",
       "      <td>0.0</td>\n",
       "      <td>0.0</td>\n",
       "    </tr>\n",
       "    <tr>\n",
       "      <th>LCD 42\" ODM4</th>\n",
       "      <td>0.0</td>\n",
       "      <td>0.0</td>\n",
       "      <td>0.0</td>\n",
       "      <td>0.0</td>\n",
       "      <td>0.0</td>\n",
       "      <td>0.0</td>\n",
       "      <td>320000.0</td>\n",
       "    </tr>\n",
       "    <tr>\n",
       "      <th>LCD 42\" ODM5</th>\n",
       "      <td>-0.0</td>\n",
       "      <td>-0.0</td>\n",
       "      <td>0.0</td>\n",
       "      <td>0.0</td>\n",
       "      <td>0.0</td>\n",
       "      <td>-0.0</td>\n",
       "      <td>-0.0</td>\n",
       "    </tr>\n",
       "    <tr>\n",
       "      <th>LCD 42\" ODM6</th>\n",
       "      <td>0.0</td>\n",
       "      <td>0.0</td>\n",
       "      <td>-0.0</td>\n",
       "      <td>-0.0</td>\n",
       "      <td>-0.0</td>\n",
       "      <td>-0.0</td>\n",
       "      <td>0.0</td>\n",
       "    </tr>\n",
       "    <tr>\n",
       "      <th>LCD 42\" ODM7</th>\n",
       "      <td>46000.0</td>\n",
       "      <td>0.0</td>\n",
       "      <td>0.0</td>\n",
       "      <td>0.0</td>\n",
       "      <td>92000.0</td>\n",
       "      <td>138000.0</td>\n",
       "      <td>324000.0</td>\n",
       "    </tr>\n",
       "    <tr>\n",
       "      <th>LCD 32\" ODM1</th>\n",
       "      <td>0.0</td>\n",
       "      <td>0.0</td>\n",
       "      <td>0.0</td>\n",
       "      <td>0.0</td>\n",
       "      <td>0.0</td>\n",
       "      <td>0.0</td>\n",
       "      <td>0.0</td>\n",
       "    </tr>\n",
       "    <tr>\n",
       "      <th>LCD 32\" ODM2</th>\n",
       "      <td>53000.0</td>\n",
       "      <td>0.0</td>\n",
       "      <td>0.0</td>\n",
       "      <td>0.0</td>\n",
       "      <td>79500.0</td>\n",
       "      <td>79500.0</td>\n",
       "      <td>318000.0</td>\n",
       "    </tr>\n",
       "  </tbody>\n",
       "</table>\n",
       "</div>"
      ],
      "text/plain": [
       "                  Air  Express  Road  Road LTL  Road-Network      Rail  \\\n",
       "LCD 42\" ODM1      0.0      0.0   0.0       0.0           0.0       0.0   \n",
       "LCD 42\" ODM2      0.0      0.0   0.0       0.0           0.0       0.0   \n",
       "LCD 42\" ODM3      0.0      0.0   0.0       0.0           0.0       0.0   \n",
       "LCD 42\" ODM4      0.0      0.0   0.0       0.0           0.0       0.0   \n",
       "LCD 42\" ODM5     -0.0     -0.0   0.0       0.0           0.0      -0.0   \n",
       "LCD 42\" ODM6      0.0      0.0  -0.0      -0.0          -0.0      -0.0   \n",
       "LCD 42\" ODM7  46000.0      0.0   0.0       0.0       92000.0  138000.0   \n",
       "LCD 32\" ODM1      0.0      0.0   0.0       0.0           0.0       0.0   \n",
       "LCD 32\" ODM2  53000.0      0.0   0.0       0.0       79500.0   79500.0   \n",
       "\n",
       "                 Water  \n",
       "LCD 42\" ODM1       0.0  \n",
       "LCD 42\" ODM2       0.0  \n",
       "LCD 42\" ODM3       0.0  \n",
       "LCD 42\" ODM4  320000.0  \n",
       "LCD 42\" ODM5      -0.0  \n",
       "LCD 42\" ODM6       0.0  \n",
       "LCD 42\" ODM7  324000.0  \n",
       "LCD 32\" ODM1       0.0  \n",
       "LCD 32\" ODM2  318000.0  "
      ]
     },
     "execution_count": 55,
     "metadata": {},
     "output_type": "execute_result"
    }
   ],
   "source": [
    "newTotalBudget = 3300000000\n",
    "# Hint: You can change the value of the total budget with this command, by changing the right\n",
    "# hand side of Constraint 5, be sure constraint 5 is named 'Const5'\n",
    "m.getConstrByName('Const5').setAttr('RHS', newTotalBudget)\n",
    "\n",
    "# Re-solve\n",
    "m.update()\n",
    "m.optimize()\n",
    "\n",
    "# Print optimal objective function value\n",
    "print(\"\\nObjective value: \", m.getAttr(\"ObjVal\"))\n",
    "\n",
    "pd.DataFrame(SCM.getAttr('x'), index=ODM_names , columns=transport_names )  # You must fill in the values for index and columns"
   ]
  },
  {
   "cell_type": "code",
   "execution_count": 56,
   "metadata": {},
   "outputs": [
    {
     "data": {
      "text/plain": [
       "52.98153554238281"
      ]
     },
     "execution_count": 56,
     "metadata": {},
     "output_type": "execute_result"
    }
   ],
   "source": [
    "change_in_carbon=((7401309.8902599905-3479982.2601499995)/7401309.8902599905)*100\n",
    "change_in_carbon"
   ]
  },
  {
   "cell_type": "markdown",
   "metadata": {},
   "source": [
    "**Comment**: The C02 emissions reduced from 7.4 million to 3.4 million. This is a 52% decrease in carbon emissions. Before, we were sourcing only from ODM1 and ODM 4, using a combination of air, road network, rail, and water but primarily the latter three. Now that we've increased our budget, we are sourcing from ODM2, ODM4, and ODM7. This makes sense because we've switched to ODMs that are more carbon friendly even though they have higher production/shipping costs than before because we can now afford them with our increased budget. For instance, ODM2 has much higher shipping costs than ODM1 but it produces a lot less carbon emissions. For the transporation, we are still using air, road-network, rail, and water, and shipping about the same total quantities in those tranportation categories as before. \n",
    "\n",
    "\n",
    "\n",
    "\n",
    "\n"
   ]
  },
  {
   "cell_type": "markdown",
   "metadata": {},
   "source": [
    "---\n",
    "13. Imagine your budget increases by the following percentages: 0%, 2%, 4%, 6%, 10%, 12%, and 14%.\n",
    "For each of these budgets, find the CO2 emission under the optimal solution (re-run your optimization\n",
    "model for each of these budgets). Plot these results where the x-axis in the %Budget Increase and the\n",
    "y-axis is the CO2 Emission. Show the chart. What do you observe? (10 pts)"
   ]
  },
  {
   "cell_type": "code",
   "execution_count": 58,
   "metadata": {},
   "outputs": [
    {
     "name": "stdout",
     "output_type": "stream",
     "text": [
      "[7401309.8902599905, 5513060.483081695, 4542391.076797709, 3572591.489201123, 3502042.7601499995, 3479982.2601499995, 3416981.6962133604, 3373499.9820685117]\n"
     ]
    }
   ],
   "source": [
    "# sensitivity table\n",
    "budget_sensitivity = [0, 0.02, 0.04, 0.06, 0.08, 0.10, .12, .14]\n",
    "emissions = []\n",
    "for sensitivity in budget_sensitivity:\n",
    "    newTotalBudget = (1+sensitivity)*3000000000\n",
    "    # Hint: You can change the value of the total budget with this command\n",
    "    m.getConstrByName('Const5').setAttr('RHS', newTotalBudget)\n",
    "\n",
    "    # Re-solve\n",
    "    m.update()\n",
    "    m.optimize()\n",
    "\n",
    "    # Print optimal objective function value\n",
    "    emissions.append(m.getAttr(\"ObjVal\"))\n",
    "    \n",
    "print(emissions)"
   ]
  },
  {
   "cell_type": "code",
   "execution_count": 59,
   "metadata": {},
   "outputs": [
    {
     "data": {
      "text/plain": [
       "<function matplotlib.pyplot.show(*args, **kw)>"
      ]
     },
     "execution_count": 59,
     "metadata": {},
     "output_type": "execute_result"
    },
    {
     "data": {
      "image/png": "[encoded data removed]",
      "text/plain": [
       "<Figure size 432x288 with 1 Axes>"
      ]
     },
     "metadata": {
      "needs_background": "light"
     },
     "output_type": "display_data"
    }
   ],
   "source": [
    "# Plot your results\n",
    "\n",
    "plt.plot(budget_sensitivity, emissions, marker='o')\n",
    "plt.xlabel('Budget Percent Increase')\n",
    "plt.ylabel('CO2 Emissions')\n",
    "plt.title('How CO2 Emissions Change with Increased Budget')\n",
    "plt.show\n",
    "\n",
    "\n",
    "\n"
   ]
  },
  {
   "cell_type": "markdown",
   "metadata": {},
   "source": [
    "**Comment**: As our budget increases, our CO2 emissions decrease. This makes sense because with a greater budget, we can afford to produce from ODMs that are more expensive but produce less emissions. We see the biggest drop in emissions as we go from our original budget to about a 6% increase in the budget. After increasing our budget past 6%, the CO2 emissions level off and the decrease in CO2 is marginal. This shows that increasing the budget is only helpful to decreasing CO2 emissions up until a certain point. After that point, there are not many ways to change our ODMs/transportation methods to drastically decrease CO2 emissions anymore. "
   ]
  }
 ],
 "metadata": {
  "kernelspec": {
   "display_name": "Python 3",
   "language": "python",
   "name": "python3"
  },
  "language_info": {
   "codemirror_mode": {
    "name": "ipython",
    "version": 3
   },
   "file_extension": ".py",
   "mimetype": "text/x-python",
   "name": "python",
   "nbconvert_exporter": "python",
   "pygments_lexer": "ipython3",
   "version": "3.8.3"
  }
 },
 "nbformat": 4,
 "nbformat_minor": 2
}
