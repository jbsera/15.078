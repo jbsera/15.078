{
 "cells": [
  {
   "cell_type": "markdown",
   "metadata": {},
   "source": [
    "# 15.774/15.780 Fall 2023\n",
    "## The Analytics of Operations Management\n",
    "### Problem Set 3 - Choice Modeling & Collaborative Filtering\n",
    "#### Due Date:  10/13\n",
    "---\n",
    "Name of Student: [Joy Bhattacharya]\n",
    "\n",
    "MIT ID Number: [922631264]\n",
    "\n",
    "---\n",
    "\n",
    "### Instructions:\n",
    "\n",
    "1) Submit solutions that are your own, in your own words. You are allowed to discuss with other students in general terms, but make sure you are not copying verbatim from another student. Therefore do not read other students' solutions. If you use material from outside this class, reference it in your solution. \n",
    "\n",
    "2) Please download the python file attached in the assignment and complete your answers there in the same file. Read the questions carefully, and make sure you answer every part that the question asks.\n",
    "\n",
    "3) Include relevant code in the PDF submission even if the question doesn't explicitly ask for it. Upload your solutions as a PDF file. Include your name and MIT ID on the first page.\n",
    "\n",
    "4) To convert to pdf, you can use the \"print to pdf\" option in jupyter (or equivalent options in other IDE). There are other options to directly download in to pdf format which might include additional installation of packages. \n",
    "\n",
    "5) Show your work and explain your conclusions clearly and precisely. Plots should have clear titles and axis labels so that it is clear what your analysis is showing.\n",
    "\n",
    "--------------------------------------------------------------------------------------------------------------------------------"
   ]
  },
  {
   "cell_type": "markdown",
   "metadata": {},
   "source": [
    "First, we import the packages we will be using"
   ]
  },
  {
   "cell_type": "code",
   "execution_count": 2,
   "metadata": {},
   "outputs": [
    {
     "name": "stdout",
     "output_type": "stream",
     "text": [
      "Collecting xlogit\n",
      "  Obtaining dependency information for xlogit from https://files.pythonhosted.org/packages/5b/ab/5280d6920d59e739063effb59b54349a71ee66bdd11daa1664d08e68564a/xlogit-0.2.7-py3-none-any.whl.metadata\n",
      "  Downloading xlogit-0.2.7-py3-none-any.whl.metadata (10 kB)\n",
      "Requirement already satisfied: numpy>=1.13.1 in c:\\users\\joyse\\anaconda3\\lib\\site-packages (from xlogit) (1.24.4)\n",
      "Requirement already satisfied: scipy>=1.0.0 in c:\\users\\joyse\\anaconda3\\lib\\site-packages (from xlogit) (1.10.1)\n",
      "Downloading xlogit-0.2.7-py3-none-any.whl (36 kB)\n",
      "Installing collected packages: xlogit\n",
      "Successfully installed xlogit-0.2.7\n"
     ]
    },
    {
     "name": "stderr",
     "output_type": "stream",
     "text": [
      "WARNING: Ignoring invalid distribution -umpy (c:\\users\\joyse\\anaconda3\\lib\\site-packages)\n",
      "WARNING: Ignoring invalid distribution -umpy (c:\\users\\joyse\\anaconda3\\lib\\site-packages)\n",
      "DEPRECATION: holopy unknown has a non-standard version number. pip 23.3 will enforce this behaviour change. A possible replacement is to upgrade to a newer version of holopy or contact the author to suggest that they release a version with a conforming version number. Discussion can be found at https://github.com/pypa/pip/issues/12063\n",
      "DEPRECATION: pyodbc 4.0.0-unsupported has a non-standard version number. pip 23.3 will enforce this behaviour change. A possible replacement is to upgrade to a newer version of pyodbc or contact the author to suggest that they release a version with a conforming version number. Discussion can be found at https://github.com/pypa/pip/issues/12063\n"
     ]
    }
   ],
   "source": [
    "# Install the packages you do not have\n",
    "!pip install xlogit"
   ]
  },
  {
   "cell_type": "code",
   "execution_count": 1,
   "metadata": {},
   "outputs": [
    {
     "name": "stderr",
     "output_type": "stream",
     "text": [
      "C:\\Users\\joyse\\anaconda3\\lib\\site-packages\\pandas\\core\\computation\\expressions.py:20: UserWarning: Pandas requires version '2.7.3' or newer of 'numexpr' (version '2.7.1' currently installed).\n",
      "  from pandas.core.computation.check import NUMEXPR_INSTALLED\n"
     ]
    }
   ],
   "source": [
    "import pandas as pd\n",
    "import numpy as np\n",
    "np.float=float\n",
    "from xlogit.utils import wide_to_long\n",
    "from xlogit import MultinomialLogit"
   ]
  },
  {
   "cell_type": "markdown",
   "metadata": {},
   "source": [
    "---\n",
    "## $\\textbf{Problem 1. Choice Models}$ (40 pts)\n",
    "\n",
    "In this problem, we want to build a model to represent a choice between the usage of two transportation systems (**bus** or **car**). We use the data stored in `CommuteFall2020.csv`, which contains the choices made by 400 commuters. The data is stored in **wide format**, and contains the following variables:\n",
    "* `Car.Travel` travel time by car (in minutes)\n",
    "* `HHIncome` is annual household income (in dollars) **Note:** This feature is a characteristic of the individual choosing and not the choices\n",
    "* `ParkingCost` is the car parking cost (in dollars)\n",
    "* `BusFare` is bus fare in dollars\n",
    "* `Bus.Travel` is the travel time by the bus (in minutes)\n",
    "* `Bus.Wait` is the average waiting time for the bus (in minutes)\n",
    "* `Choice` whether the commuter chose CAR or BUS\n",
    "\n",
    "We assume that for each person, the utility of taking either transportation method is **linear** in **total\n",
    "journey time** (travel time for a car, or *travel plus waiting time for a bus*), daily cost (parking cost for car\n",
    "or bus fare), and **household income**. This means we should define new variables `Time` and `Cost` for each option, but carefully using the correct prefix or suffixes. \n",
    "\n",
    "We will also assume that there is no outside option, i.e. a person must\n",
    "choose either car or bus (meaning the model has no intercept). \n",
    "\n",
    "First, we load the data"
   ]
  },
  {
   "cell_type": "code",
   "execution_count": 2,
   "metadata": {
    "scrolled": true
   },
   "outputs": [
    {
     "data": {
      "text/html": [
       "<div>\n",
       "<style scoped>\n",
       "    .dataframe tbody tr th:only-of-type {\n",
       "        vertical-align: middle;\n",
       "    }\n",
       "\n",
       "    .dataframe tbody tr th {\n",
       "        vertical-align: top;\n",
       "    }\n",
       "\n",
       "    .dataframe thead th {\n",
       "        text-align: right;\n",
       "    }\n",
       "</style>\n",
       "<table border=\"1\" class=\"dataframe\">\n",
       "  <thead>\n",
       "    <tr style=\"text-align: right;\">\n",
       "      <th></th>\n",
       "      <th>Car.Travel</th>\n",
       "      <th>ParkingCost</th>\n",
       "      <th>Bus.Travel</th>\n",
       "      <th>Bus.Wait</th>\n",
       "      <th>BusFare</th>\n",
       "      <th>HHIncome</th>\n",
       "      <th>Choice</th>\n",
       "    </tr>\n",
       "  </thead>\n",
       "  <tbody>\n",
       "    <tr>\n",
       "      <th>0</th>\n",
       "      <td>40</td>\n",
       "      <td>10</td>\n",
       "      <td>80</td>\n",
       "      <td>9</td>\n",
       "      <td>1.8</td>\n",
       "      <td>75000</td>\n",
       "      <td>BUS</td>\n",
       "    </tr>\n",
       "    <tr>\n",
       "      <th>1</th>\n",
       "      <td>35</td>\n",
       "      <td>8</td>\n",
       "      <td>80</td>\n",
       "      <td>14</td>\n",
       "      <td>1.8</td>\n",
       "      <td>65000</td>\n",
       "      <td>CAR</td>\n",
       "    </tr>\n",
       "    <tr>\n",
       "      <th>2</th>\n",
       "      <td>45</td>\n",
       "      <td>10</td>\n",
       "      <td>80</td>\n",
       "      <td>9</td>\n",
       "      <td>1.8</td>\n",
       "      <td>45000</td>\n",
       "      <td>CAR</td>\n",
       "    </tr>\n",
       "    <tr>\n",
       "      <th>3</th>\n",
       "      <td>25</td>\n",
       "      <td>8</td>\n",
       "      <td>65</td>\n",
       "      <td>24</td>\n",
       "      <td>1.8</td>\n",
       "      <td>45000</td>\n",
       "      <td>CAR</td>\n",
       "    </tr>\n",
       "    <tr>\n",
       "      <th>4</th>\n",
       "      <td>35</td>\n",
       "      <td>8</td>\n",
       "      <td>50</td>\n",
       "      <td>14</td>\n",
       "      <td>1.8</td>\n",
       "      <td>75000</td>\n",
       "      <td>CAR</td>\n",
       "    </tr>\n",
       "  </tbody>\n",
       "</table>\n",
       "</div>"
      ],
      "text/plain": [
       "   Car.Travel  ParkingCost  Bus.Travel  Bus.Wait  BusFare  HHIncome Choice\n",
       "0          40           10          80         9      1.8     75000    BUS\n",
       "1          35            8          80        14      1.8     65000    CAR\n",
       "2          45           10          80         9      1.8     45000    CAR\n",
       "3          25            8          65        24      1.8     45000    CAR\n",
       "4          35            8          50        14      1.8     75000    CAR"
      ]
     },
     "execution_count": 2,
     "metadata": {},
     "output_type": "execute_result"
    }
   ],
   "source": [
    "# Assuming 'loans.csv' is in the same directory as your Python script or Jupyter Notebook\n",
    "file_path = \"CommuteFall2020.csv\"\n",
    "\n",
    "# Use the read_csv function to load the CSV file into a DataFrame\n",
    "commute = pd.read_csv(file_path)\n",
    "commute.head()"
   ]
  },
  {
   "cell_type": "markdown",
   "metadata": {},
   "source": [
    "---\n",
    "**1.** We need to do some pre-processing to get the data in the right format for `xlogit`. You will need to create some new columns and name them correctly. **(10pts)**"
   ]
  },
  {
   "cell_type": "code",
   "execution_count": 3,
   "metadata": {},
   "outputs": [
    {
     "data": {
      "text/html": [
       "<div>\n",
       "<style scoped>\n",
       "    .dataframe tbody tr th:only-of-type {\n",
       "        vertical-align: middle;\n",
       "    }\n",
       "\n",
       "    .dataframe tbody tr th {\n",
       "        vertical-align: top;\n",
       "    }\n",
       "\n",
       "    .dataframe thead th {\n",
       "        text-align: right;\n",
       "    }\n",
       "</style>\n",
       "<table border=\"1\" class=\"dataframe\">\n",
       "  <thead>\n",
       "    <tr style=\"text-align: right;\">\n",
       "      <th></th>\n",
       "      <th>HHIncome</th>\n",
       "      <th>Choice</th>\n",
       "      <th>Time_BUS</th>\n",
       "      <th>Time_CAR</th>\n",
       "      <th>Cost_BUS</th>\n",
       "      <th>Cost_CAR</th>\n",
       "    </tr>\n",
       "  </thead>\n",
       "  <tbody>\n",
       "    <tr>\n",
       "      <th>0</th>\n",
       "      <td>75000</td>\n",
       "      <td>BUS</td>\n",
       "      <td>89</td>\n",
       "      <td>40</td>\n",
       "      <td>1.8</td>\n",
       "      <td>10</td>\n",
       "    </tr>\n",
       "    <tr>\n",
       "      <th>1</th>\n",
       "      <td>65000</td>\n",
       "      <td>CAR</td>\n",
       "      <td>94</td>\n",
       "      <td>35</td>\n",
       "      <td>1.8</td>\n",
       "      <td>8</td>\n",
       "    </tr>\n",
       "    <tr>\n",
       "      <th>2</th>\n",
       "      <td>45000</td>\n",
       "      <td>CAR</td>\n",
       "      <td>89</td>\n",
       "      <td>45</td>\n",
       "      <td>1.8</td>\n",
       "      <td>10</td>\n",
       "    </tr>\n",
       "    <tr>\n",
       "      <th>3</th>\n",
       "      <td>45000</td>\n",
       "      <td>CAR</td>\n",
       "      <td>89</td>\n",
       "      <td>25</td>\n",
       "      <td>1.8</td>\n",
       "      <td>8</td>\n",
       "    </tr>\n",
       "    <tr>\n",
       "      <th>4</th>\n",
       "      <td>75000</td>\n",
       "      <td>CAR</td>\n",
       "      <td>64</td>\n",
       "      <td>35</td>\n",
       "      <td>1.8</td>\n",
       "      <td>8</td>\n",
       "    </tr>\n",
       "  </tbody>\n",
       "</table>\n",
       "</div>"
      ],
      "text/plain": [
       "   HHIncome Choice  Time_BUS  Time_CAR  Cost_BUS  Cost_CAR\n",
       "0     75000    BUS        89        40       1.8        10\n",
       "1     65000    CAR        94        35       1.8         8\n",
       "2     45000    CAR        89        45       1.8        10\n",
       "3     45000    CAR        89        25       1.8         8\n",
       "4     75000    CAR        64        35       1.8         8"
      ]
     },
     "execution_count": 3,
     "metadata": {},
     "output_type": "execute_result"
    }
   ],
   "source": [
    "# Let us define the column `Time` for the two modes \n",
    "# (Note: we suggest the alternative names as suffixes separated by \"_\" as in the first line)\n",
    "\n",
    "commute[\"Time_BUS\"] = commute[\"Bus.Travel\"]+commute[\"Bus.Wait\"]\n",
    "commute[\"Time_CAR\"] = commute[\"Car.Travel\"]\n",
    "# FILL IN (same for CAR)\n",
    "\n",
    "# Let us define the column `Cost` for the two modes\n",
    "\n",
    "# FILL IN for BUS and CAR\n",
    "commute[\"Cost_BUS\"]=commute['BusFare']\n",
    "commute[\"Cost_CAR\"]=commute['ParkingCost']\n",
    "\n",
    "# Remove the variables used to compute the Time and Cost\n",
    "del commute['Bus.Travel']\n",
    "del commute['Bus.Wait']\n",
    "del commute['BusFare']\n",
    "del commute['ParkingCost']\n",
    "del commute['Car.Travel']\n",
    "\n",
    "# FILL IN with all the variables\n",
    "\n",
    "commute.head()"
   ]
  },
  {
   "cell_type": "code",
   "execution_count": 6,
   "metadata": {},
   "outputs": [
    {
     "data": {
      "text/html": [
       "<div>\n",
       "<style scoped>\n",
       "    .dataframe tbody tr th:only-of-type {\n",
       "        vertical-align: middle;\n",
       "    }\n",
       "\n",
       "    .dataframe tbody tr th {\n",
       "        vertical-align: top;\n",
       "    }\n",
       "\n",
       "    .dataframe thead th {\n",
       "        text-align: right;\n",
       "    }\n",
       "</style>\n",
       "<table border=\"1\" class=\"dataframe\">\n",
       "  <thead>\n",
       "    <tr style=\"text-align: right;\">\n",
       "      <th></th>\n",
       "      <th>custom_id</th>\n",
       "      <th>alt</th>\n",
       "      <th>Time</th>\n",
       "      <th>Cost</th>\n",
       "      <th>HHIncome</th>\n",
       "      <th>Choice</th>\n",
       "    </tr>\n",
       "  </thead>\n",
       "  <tbody>\n",
       "    <tr>\n",
       "      <th>0</th>\n",
       "      <td>0</td>\n",
       "      <td>BUS</td>\n",
       "      <td>89</td>\n",
       "      <td>1.8</td>\n",
       "      <td>75000</td>\n",
       "      <td>BUS</td>\n",
       "    </tr>\n",
       "    <tr>\n",
       "      <th>1</th>\n",
       "      <td>0</td>\n",
       "      <td>CAR</td>\n",
       "      <td>40</td>\n",
       "      <td>10.0</td>\n",
       "      <td>75000</td>\n",
       "      <td>BUS</td>\n",
       "    </tr>\n",
       "    <tr>\n",
       "      <th>2</th>\n",
       "      <td>1</td>\n",
       "      <td>BUS</td>\n",
       "      <td>94</td>\n",
       "      <td>1.8</td>\n",
       "      <td>65000</td>\n",
       "      <td>CAR</td>\n",
       "    </tr>\n",
       "    <tr>\n",
       "      <th>3</th>\n",
       "      <td>1</td>\n",
       "      <td>CAR</td>\n",
       "      <td>35</td>\n",
       "      <td>8.0</td>\n",
       "      <td>65000</td>\n",
       "      <td>CAR</td>\n",
       "    </tr>\n",
       "    <tr>\n",
       "      <th>4</th>\n",
       "      <td>2</td>\n",
       "      <td>BUS</td>\n",
       "      <td>89</td>\n",
       "      <td>1.8</td>\n",
       "      <td>45000</td>\n",
       "      <td>CAR</td>\n",
       "    </tr>\n",
       "  </tbody>\n",
       "</table>\n",
       "</div>"
      ],
      "text/plain": [
       "   custom_id  alt  Time  Cost  HHIncome Choice\n",
       "0          0  BUS    89   1.8     75000    BUS\n",
       "1          0  CAR    40  10.0     75000    BUS\n",
       "2          1  BUS    94   1.8     65000    CAR\n",
       "3          1  CAR    35   8.0     65000    CAR\n",
       "4          2  BUS    89   1.8     45000    CAR"
      ]
     },
     "execution_count": 6,
     "metadata": {},
     "output_type": "execute_result"
    }
   ],
   "source": [
    "# Define a custom id per choice scenario\n",
    "commute[\"custom_id\"] = np.arange(len(commute))\n",
    "\n",
    "# Note: The alternatives should be the same as the suffixes or prefixes you used in the previous step\n",
    "\n",
    "\n",
    "# Change from wide to long format\n",
    "commute_long = wide_to_long(\n",
    "    commute, \n",
    "    id_col=\"custom_id\", # Id representing each scenario\n",
    "    alt_name=\"alt\", # The name you want to assign to the column that will identify the alternative represented on each row \n",
    "    sep=\"_\",# Separator used between the feature name and the alternative (suffix in this case)\n",
    "    alt_list=[\"BUS\", \"CAR\"], # Alternative names\n",
    "    varying=['Time', 'Cost'], # Actual features\n",
    "    alt_is_prefix=False, # The alternatives are suffixes\n",
    "    \n",
    ")\n",
    "commute_long.head()\n"
   ]
  },
  {
   "cell_type": "markdown",
   "metadata": {},
   "source": [
    "---\n",
    "**2.** Fit an MNL model to the data and show the model coefficients. **(5pts)**"
   ]
  },
  {
   "cell_type": "code",
   "execution_count": 8,
   "metadata": {},
   "outputs": [
    {
     "name": "stdout",
     "output_type": "stream",
     "text": [
      "Optimization terminated successfully.\n",
      "    Message: The gradients are close to zero\n",
      "    Iterations: 6\n",
      "    Function evaluations: 7\n",
      "Estimation time= 0.0 seconds\n",
      "---------------------------------------------------------------------------\n",
      "Coefficient              Estimate      Std.Err.         z-val         P>|z|\n",
      "---------------------------------------------------------------------------\n",
      "HHIncome.CAR            0.0000139     0.0000060     2.3033910        0.0218 *  \n",
      "Time                   -0.0569383     0.0074806    -7.6114628      1.97e-13 ***\n",
      "Cost                   -0.3765784     0.0541445    -6.9550616      1.44e-11 ***\n",
      "---------------------------------------------------------------------------\n",
      "Significance:  0 '***' 0.001 '**' 0.01 '*' 0.05 '.' 0.1 ' ' 1\n",
      "\n",
      "Log-Likelihood= -223.766\n",
      "AIC= 453.533\n",
      "BIC= 465.507\n"
     ]
    }
   ],
   "source": [
    "# Define the variable names, and the sets for training\n",
    "varnames = ['Time', 'Cost', 'HHIncome']\n",
    "y = commute_long.Choice\n",
    "X = commute_long.loc[:, varnames] \n",
    "\n",
    "# Define and train the MNL model using xlogit.MultinomialLogit\n",
    "# Hint: HHIncome is not a feature of the choices but a feature of the populations or individuals\n",
    "model = MultinomialLogit()\n",
    "model.fit(\n",
    "    # FILL IN all parameters (Hint: 7 params including isvars)\n",
    "    X, # X contains all the features in varnames\n",
    "    y, # y contains the choice feature\n",
    "    varnames=varnames, # Features to be used in the model\n",
    "    ids=commute_long.custom_id, # Choice scenario identifier\n",
    "    alts=commute_long.alt, # Alternative names\n",
    "    fit_intercept=False, # We won't fit intercept in general\n",
    "    isvars=[\"HHIncome\"]\n",
    ")\n",
    "model.summary()"
   ]
  },
  {
   "cell_type": "code",
   "execution_count": 24,
   "metadata": {},
   "outputs": [],
   "source": [
    "# Report model coeffs\n",
    "# The coefficient on HHIncome.CAR is 0.0000139. The coefficient on time is -0.0569383. The coefficient on cost is -0.3765784. "
   ]
  },
  {
   "cell_type": "markdown",
   "metadata": {},
   "source": [
    "---\n",
    "**3.** Table 1 shows the characteristics of commutes for two subpopulations. Think of subpopulation L as\n",
    "people living near the center of a city and subpopulation H as people living in the suburbs. People in\n",
    "both subpopulations all work in the downtown area. We assume that the same MNL model applies to\n",
    "both subpopulations. \n",
    "\n",
    "Based on the information in Table 1, compute the probabilities that an individual\n",
    "belonging to each subpopulation will choose to take a car to work. Show what equations you used.\n",
    "*(Hint: You should provide 2 numeric answers for this question)*. **(10 pts)**"
   ]
  },
  {
   "cell_type": "markdown",
   "metadata": {},
   "source": [
    "\n",
    "\n",
    "|  | Segment L (CAR) | Segment L (BUS) | Segment H (CAR) | Segment H (BUS) |\n",
    "| :- | :-: | :-: | :-: | :-: |\n",
    "| Car travel time (min) | 25 | - | 40 | - |\n",
    "| Parking cost (\\$) | 3.0 | - | 8.0 | - |\n",
    "| Bus travel Time (min) | - | 40 | - | 60 |\n",
    "| Bus waiting Time (min) | - | 5 | - | 10 |\n",
    "| Bus gare (\\$) | - | 0.8 | - | 2.0 |\n",
    "| Household annual income (\\$) | 40,000 | 40,000 | 80,000 | 80,000 |\n",
    "\n",
    "<center><b> Table 1: Characteristics of commute for two subpopulations</b> </center>"
   ]
  },
  {
   "cell_type": "code",
   "execution_count": 13,
   "metadata": {},
   "outputs": [
    {
     "name": "stdout",
     "output_type": "stream",
     "text": [
      "Cars in segment L have a market share of 57.7%\n",
      "Cars in segment H have a market share of 36.56%\n"
     ]
    }
   ],
   "source": [
    "# Compute the alternative utilities (or weights) of each option first (Hint: 4 in total)\n",
    "seg_l_car_utility=np.exp(model.coeff_[0]*40000 + model.coeff_[1]*25 + model.coeff_[2]*3)\n",
    "seg_l_bus_utility=np.exp(model.coeff_[0]*40000 + model.coeff_[1]*45 + model.coeff_[2]*0.8)\n",
    "seg_h_car_utility=np.exp(model.coeff_[0]*80000 + model.coeff_[1]*40 + model.coeff_[2]*8)\n",
    "seg_h_bus_utility=np.exp(model.coeff_[0]*80000 + model.coeff_[1]*70 + model.coeff_[2]*2)\n",
    "# Compute and report the market shares for car usage\n",
    "Share_L_CAR = seg_l_car_utility/(seg_l_car_utility+seg_l_bus_utility)\n",
    "Share_H_CAR = seg_h_car_utility/(seg_h_car_utility+seg_h_bus_utility)\n",
    "\n",
    "# FILL IN to report both\n",
    "print(f\"Cars in segment L have a market share of {np.round(Share_L_CAR*100, 2)}%\")\n",
    "print(f\"Cars in segment H have a market share of {np.round(Share_H_CAR*100, 2)}%\")\n",
    "\n",
    "\n"
   ]
  },
  {
   "cell_type": "markdown",
   "metadata": {},
   "source": [
    "---\n",
    "**4.** In order to increase bus ridership, the local transport authority has considered the following options:\n",
    "1. Reducing the bus fare by 50 cents in both subpopulations.\n",
    "2. Increasing the number of buses so that the waiting times would be cut in half for both subpopulations.\n",
    "3. Doubling parking costs in both populations.\n",
    "\n",
    "**For each subpopulation**, how will each of these strategies (1, 2, 3 above) affect the **probability of\n",
    "taking the bus**, and which option will be most effective in increasing bus ridership? **(15 pts)**\n"
   ]
  },
  {
   "cell_type": "code",
   "execution_count": 15,
   "metadata": {},
   "outputs": [
    {
     "name": "stdout",
     "output_type": "stream",
     "text": [
      "Buses in segment L have a market share of 42.3%\n",
      "Buses in segment H have a market share of 63.44%\n"
     ]
    }
   ],
   "source": [
    "# Compute the current Bus shares in both subpopulations \n",
    "Share_L_BUS = seg_l_bus_utility/(seg_l_car_utility+seg_l_bus_utility)\n",
    "Share_H_BUS = seg_h_bus_utility/(seg_h_car_utility+seg_h_bus_utility)\n",
    "\n",
    "# FILL IN to report both\n",
    "print(f\"Buses in segment L have a market share of {np.round(Share_L_BUS*100, 2)}%\")\n",
    "print(f\"Buses in segment H have a market share of {np.round(Share_H_BUS*100, 2)}%\")"
   ]
  },
  {
   "cell_type": "code",
   "execution_count": 16,
   "metadata": {},
   "outputs": [
    {
     "name": "stdout",
     "output_type": "stream",
     "text": [
      "With strategy 1, buses in segment L have a market share of 46.95%\n",
      "With strategy 1, buses in segment H have a market share of 67.69%\n"
     ]
    }
   ],
   "source": [
    "# Compute strategy 1 shares for bus usage and report them (Hint: you might find useful to recompute utilities first)\n",
    "# Strategy 1: Reducing the bus fare by 50 cents in both subpopulations\n",
    "seg_l_car_utility=np.exp(model.coeff_[0]*40000 + model.coeff_[1]*25 + model.coeff_[2]*3)\n",
    "seg_l_bus_utility=np.exp(model.coeff_[0]*40000 + model.coeff_[1]*45 + model.coeff_[2]*0.3)\n",
    "seg_h_car_utility=np.exp(model.coeff_[0]*80000 + model.coeff_[1]*40 + model.coeff_[2]*8)\n",
    "seg_h_bus_utility=np.exp(model.coeff_[0]*80000 + model.coeff_[1]*70 + model.coeff_[2]*1.5)\n",
    "\n",
    "Share_L_BUS_1 = seg_l_bus_utility/(seg_l_bus_utility+seg_l_car_utility)\n",
    "Share_H_BUS_1 = seg_h_bus_utility/(seg_h_bus_utility+seg_h_car_utility)\n",
    "\n",
    "# FILL IN to report both\n",
    "print(f\"With strategy 1, buses in segment L have a market share of {np.round(Share_L_BUS_1*100, 2)}%\")\n",
    "print(f\"With strategy 1, buses in segment H have a market share of {np.round(Share_H_BUS_1*100, 2)}%\")"
   ]
  },
  {
   "cell_type": "code",
   "execution_count": 19,
   "metadata": {},
   "outputs": [
    {
     "name": "stdout",
     "output_type": "stream",
     "text": [
      "With strategy 2, buses in segment L have a market share of 45.81%\n",
      "With strategy 2, buses in segment H have a market share of 69.76%\n"
     ]
    }
   ],
   "source": [
    "# Compute strategy 2 shares for bus usage and report them\n",
    "# Strategy 2: Increasing the number of buses so that the waiting times would be cut in half for both subpopulations.\n",
    "seg_l_car_utility=np.exp(model.coeff_[0]*40000 + model.coeff_[1]*25 + model.coeff_[2]*3)\n",
    "seg_l_bus_utility=np.exp(model.coeff_[0]*40000 + model.coeff_[1]*42.5 + model.coeff_[2]*0.8)\n",
    "seg_h_car_utility=np.exp(model.coeff_[0]*80000 + model.coeff_[1]*40 + model.coeff_[2]*8)\n",
    "seg_h_bus_utility=np.exp(model.coeff_[0]*80000 + model.coeff_[1]*65 + model.coeff_[2]*2)\n",
    "\n",
    "Share_L_BUS_2 = seg_l_bus_utility/(seg_l_bus_utility+seg_l_car_utility)\n",
    "Share_H_BUS_2 = seg_h_bus_utility/(seg_h_bus_utility+seg_h_car_utility)\n",
    "\n",
    "# FILL IN to report both\n",
    "print(f\"With strategy 2, buses in segment L have a market share of {np.round(Share_L_BUS_2*100, 2)}%\")\n",
    "print(f\"With strategy 2, buses in segment H have a market share of {np.round(Share_H_BUS_2*100, 2)}%\")"
   ]
  },
  {
   "cell_type": "code",
   "execution_count": 21,
   "metadata": {},
   "outputs": [
    {
     "name": "stdout",
     "output_type": "stream",
     "text": [
      "With strategy 3, buses in segment L have a market share of 69.41%\n",
      "With strategy 3, buses in segment H have a market share of 97.25%\n"
     ]
    }
   ],
   "source": [
    "# Compute strategy 3 shares for bus usage and report them\n",
    "# Strategy 3: Doubling parking costs in both populations\n",
    "seg_l_car_utility=np.exp(model.coeff_[0]*40000 + model.coeff_[1]*25 + model.coeff_[2]*6)\n",
    "seg_l_bus_utility=np.exp(model.coeff_[0]*40000 + model.coeff_[1]*45 + model.coeff_[2]*0.8)\n",
    "seg_h_car_utility=np.exp(model.coeff_[0]*80000 + model.coeff_[1]*40 + model.coeff_[2]*16)\n",
    "seg_h_bus_utility=np.exp(model.coeff_[0]*80000 + model.coeff_[1]*70 + model.coeff_[2]*2)\n",
    "\n",
    "\n",
    "Share_L_BUS_3 = seg_l_bus_utility/(seg_l_bus_utility+seg_l_car_utility)\n",
    "Share_H_BUS_3 = seg_h_bus_utility/(seg_h_bus_utility+seg_h_car_utility)\n",
    "\n",
    "# FILL IN to report both\n",
    "print(f\"With strategy 3, buses in segment L have a market share of {np.round(Share_L_BUS_3*100, 2)}%\")\n",
    "print(f\"With strategy 3, buses in segment H have a market share of {np.round(Share_H_BUS_3*100, 2)}%\")"
   ]
  },
  {
   "cell_type": "markdown",
   "metadata": {},
   "source": [
    "**Comment:** With strategy 1, decreasing the bus fare cost by 50 cents increases the market share in both populations to 46.9% and 67.6% repsectively and therefore, increases the probability of taking the bus. With strategy 2, decreasing the waiting time increases the market share in both populations to 45.8% and 69.7% respectively and therefore, increases the probability of taking the bus. With strategy 3, doubling the parking costs increases the market share of buses in both populations to 69.4% and 97.2% respecitively and therefore increases the chance of taking the bus.\n",
    "\n",
    "Strategy 3 is the most effective in increasing the probability of taking the bus in both groups because we see the greatest increase in bus market share in both populations under strategy 3. "
   ]
  },
  {
   "cell_type": "markdown",
   "metadata": {},
   "source": [
    "---\n",
    "---\n",
    "## $\\textbf{Problem 2. Collaborative Filtering}$ (40 pts)\n",
    "\n",
    "Ted is gonna be DJ tonight, and he is really trying to impress one particular individual,\n",
    "let’s call him User “6”. He wants to play Rebecca Black’s magnum opus (“Friday”) for User 6 because he\n",
    "thinks they’ll like it. Ted got a hold of the Spotify ratings for a few songs and people, including User 6. The\n",
    "data was manually created in the `pandas.DataFrame` and stored in the variable `music` (see next cell). Help him figure out if he should play “Friday” at the party.\n",
    "\n",
    "\n",
    "**Technical Note:** You can assume that this matrix is already “bias-adjusted” (i.e. you do not need to deaverage\n",
    "users’ ratings)."
   ]
  },
  {
   "cell_type": "code",
   "execution_count": 17,
   "metadata": {},
   "outputs": [
    {
     "data": {
      "text/html": [
       "<div>\n",
       "<style scoped>\n",
       "    .dataframe tbody tr th:only-of-type {\n",
       "        vertical-align: middle;\n",
       "    }\n",
       "\n",
       "    .dataframe tbody tr th {\n",
       "        vertical-align: top;\n",
       "    }\n",
       "\n",
       "    .dataframe thead th {\n",
       "        text-align: right;\n",
       "    }\n",
       "</style>\n",
       "<table border=\"1\" class=\"dataframe\">\n",
       "  <thead>\n",
       "    <tr style=\"text-align: right;\">\n",
       "      <th></th>\n",
       "      <th>user</th>\n",
       "      <th>friday</th>\n",
       "      <th>bad_blood</th>\n",
       "      <th>work</th>\n",
       "      <th>bohemian_rhapsody</th>\n",
       "    </tr>\n",
       "  </thead>\n",
       "  <tbody>\n",
       "    <tr>\n",
       "      <th>0</th>\n",
       "      <td>User 1</td>\n",
       "      <td>0</td>\n",
       "      <td>1</td>\n",
       "      <td>0</td>\n",
       "      <td>1</td>\n",
       "    </tr>\n",
       "    <tr>\n",
       "      <th>1</th>\n",
       "      <td>User 2</td>\n",
       "      <td>0</td>\n",
       "      <td>1</td>\n",
       "      <td>0</td>\n",
       "      <td>0</td>\n",
       "    </tr>\n",
       "    <tr>\n",
       "      <th>2</th>\n",
       "      <td>User 3</td>\n",
       "      <td>1</td>\n",
       "      <td>0</td>\n",
       "      <td>1</td>\n",
       "      <td>0</td>\n",
       "    </tr>\n",
       "    <tr>\n",
       "      <th>3</th>\n",
       "      <td>User 4</td>\n",
       "      <td>0</td>\n",
       "      <td>0</td>\n",
       "      <td>0</td>\n",
       "      <td>1</td>\n",
       "    </tr>\n",
       "    <tr>\n",
       "      <th>4</th>\n",
       "      <td>User 5</td>\n",
       "      <td>1</td>\n",
       "      <td>0</td>\n",
       "      <td>1</td>\n",
       "      <td>1</td>\n",
       "    </tr>\n",
       "  </tbody>\n",
       "</table>\n",
       "</div>"
      ],
      "text/plain": [
       "     user  friday  bad_blood  work  bohemian_rhapsody\n",
       "0  User 1       0          1     0                  1\n",
       "1  User 2       0          1     0                  0\n",
       "2  User 3       1          0     1                  0\n",
       "3  User 4       0          0     0                  1\n",
       "4  User 5       1          0     1                  1"
      ]
     },
     "execution_count": 17,
     "metadata": {},
     "output_type": "execute_result"
    }
   ],
   "source": [
    "# Please do not modify or delete this cell as it will change your results\n",
    "music = pd.DataFrame({\n",
    "    \"user\": [\"User 1\", \"User 2\", \"User 3\", \"User 4\", \"User 5\"],\n",
    "    \"friday\": [0, 0, 1, 0, 1],\n",
    "    \"bad_blood\": [1, 1, 0, 0, 0],\n",
    "    \"work\": [0, 0, 1, 0, 1],\n",
    "    \"bohemian_rhapsody\": [1, 0, 0, 1, 1]\n",
    "})\n",
    "\n",
    "user_6 = pd.Series({\n",
    "    \"user\": \"User 6\",\n",
    "    \"bad_blood\": 0,\n",
    "    \"work\": 1,\n",
    "    \"bohemian_rhapsody\": 0,\n",
    "})\n",
    "\n",
    "music"
   ]
  },
  {
   "cell_type": "code",
   "execution_count": 18,
   "metadata": {},
   "outputs": [
    {
     "data": {
      "text/plain": [
       "user                 User 6\n",
       "bad_blood                 0\n",
       "work                      1\n",
       "bohemian_rhapsody         0\n",
       "dtype: object"
      ]
     },
     "execution_count": 18,
     "metadata": {},
     "output_type": "execute_result"
    }
   ],
   "source": [
    "user_6"
   ]
  },
  {
   "cell_type": "markdown",
   "metadata": {},
   "source": [
    "You may find useful the following two functions computing cosine similatiries and rating predictions respectively"
   ]
  },
  {
   "cell_type": "code",
   "execution_count": 19,
   "metadata": {},
   "outputs": [],
   "source": [
    "cosine_similarity = lambda x, y: (x * y).sum() / np.sqrt((x ** 2).sum() * (y ** 2).sum())\n",
    "rating_predictions = lambda weights, y: (weights * y).sum() / weights.sum()"
   ]
  },
  {
   "cell_type": "markdown",
   "metadata": {},
   "source": [
    "---\n",
    "\n",
    "**1**. Compute the cosine similarities for all users with User 6. Which two users are most similar to User 6? Does this make sense?\n",
    "*(Hint: use a for loop as in the recitation)* **(15 points)** \n"
   ]
  },
  {
   "cell_type": "code",
   "execution_count": 22,
   "metadata": {},
   "outputs": [
    {
     "data": {
      "text/html": [
       "<div>\n",
       "<style scoped>\n",
       "    .dataframe tbody tr th:only-of-type {\n",
       "        vertical-align: middle;\n",
       "    }\n",
       "\n",
       "    .dataframe tbody tr th {\n",
       "        vertical-align: top;\n",
       "    }\n",
       "\n",
       "    .dataframe thead th {\n",
       "        text-align: right;\n",
       "    }\n",
       "</style>\n",
       "<table border=\"1\" class=\"dataframe\">\n",
       "  <thead>\n",
       "    <tr style=\"text-align: right;\">\n",
       "      <th></th>\n",
       "      <th>user</th>\n",
       "      <th>sim_with_6</th>\n",
       "    </tr>\n",
       "  </thead>\n",
       "  <tbody>\n",
       "    <tr>\n",
       "      <th>0</th>\n",
       "      <td>User 1</td>\n",
       "      <td>0.000000</td>\n",
       "    </tr>\n",
       "    <tr>\n",
       "      <th>1</th>\n",
       "      <td>User 2</td>\n",
       "      <td>0.000000</td>\n",
       "    </tr>\n",
       "    <tr>\n",
       "      <th>2</th>\n",
       "      <td>User 3</td>\n",
       "      <td>1.000000</td>\n",
       "    </tr>\n",
       "    <tr>\n",
       "      <th>3</th>\n",
       "      <td>User 4</td>\n",
       "      <td>0.000000</td>\n",
       "    </tr>\n",
       "    <tr>\n",
       "      <th>4</th>\n",
       "      <td>User 5</td>\n",
       "      <td>0.707107</td>\n",
       "    </tr>\n",
       "  </tbody>\n",
       "</table>\n",
       "</div>"
      ],
      "text/plain": [
       "     user  sim_with_6\n",
       "0  User 1    0.000000\n",
       "1  User 2    0.000000\n",
       "2  User 3    1.000000\n",
       "3  User 4    0.000000\n",
       "4  User 5    0.707107"
      ]
     },
     "execution_count": 22,
     "metadata": {},
     "output_type": "execute_result"
    }
   ],
   "source": [
    "# Define the known information\n",
    "known_rating_songs = ['bad_blood','work','bohemian_rhapsody']\n",
    "\n",
    "# No filtering of users is needed here. All of them have ratings!\n",
    "\n",
    "# Compute similarities\n",
    "sim_with_user_6 = []\n",
    "for user_id in music.user:\n",
    "    # Get user ratings\n",
    "    user = music[music.user == user_id].iloc[0,:]\n",
    "    \n",
    "    # Compute and store similarity with new_user ONLY ON KNOWN RATINGS!\n",
    "    sim_with_user_6.append(cosine_similarity(user[known_rating_songs], user_6[known_rating_songs]))\n",
    "\n",
    "sim_with_user_6 = pd.DataFrame({\"user\": music.user, \"sim_with_6\": sim_with_user_6})\n",
    "sim_with_user_6"
   ]
  },
  {
   "cell_type": "markdown",
   "metadata": {},
   "source": [
    "**Comment:** User 3 and User 5 are the most similar because they have the highest similarity scores. This makes sense because because they both like the song Work and so does user 6. "
   ]
  },
  {
   "cell_type": "markdown",
   "metadata": {},
   "source": [
    "---\n",
    "**2**. Compute the cosine similarities for all other songs and `friday`. Which is the most similar song in terms of ratings?\n",
    "*(Hint: compute them separately)* **(15 points)** \n"
   ]
  },
  {
   "cell_type": "code",
   "execution_count": 26,
   "metadata": {},
   "outputs": [
    {
     "data": {
      "text/plain": [
       "0.0"
      ]
     },
     "execution_count": 26,
     "metadata": {},
     "output_type": "execute_result"
    }
   ],
   "source": [
    "# Compute similarity of `friday` and `bad_blood` and report it \n",
    "sim_with_bad_blood = cosine_similarity(music[\"bad_blood\"], music[\"friday\"])\n",
    "sim_with_bad_blood"
   ]
  },
  {
   "cell_type": "code",
   "execution_count": 27,
   "metadata": {},
   "outputs": [
    {
     "data": {
      "text/plain": [
       "1.0"
      ]
     },
     "execution_count": 27,
     "metadata": {},
     "output_type": "execute_result"
    }
   ],
   "source": [
    "# Compute similarity of `friday` and `work` and report it \n",
    "sim_with_work = cosine_similarity(music[\"work\"], music[\"friday\"])\n",
    "sim_with_work"
   ]
  },
  {
   "cell_type": "code",
   "execution_count": 28,
   "metadata": {},
   "outputs": [
    {
     "data": {
      "text/plain": [
       "0.4082482904638631"
      ]
     },
     "execution_count": 28,
     "metadata": {},
     "output_type": "execute_result"
    }
   ],
   "source": [
    "# Compute similarity of `friday` and `bohemian_rhapsody` and report it \n",
    "sim_with_br = cosine_similarity(music[\"bohemian_rhapsody\"], music[\"friday\"])\n",
    "sim_with_br"
   ]
  },
  {
   "cell_type": "markdown",
   "metadata": {},
   "source": [
    "**Comment:** The most similar song to Friday is Work. This makes sense because the people who like Work also like Friday, so it makes sense that the songs have similar appeal. "
   ]
  },
  {
   "cell_type": "markdown",
   "metadata": {},
   "source": [
    "---\n",
    "**3.** Use a user-based collaborative filter to find the predicted rating of User 6 for `friday`. Should Ted play that song?  **(10 pts)**"
   ]
  },
  {
   "cell_type": "code",
   "execution_count": 38,
   "metadata": {},
   "outputs": [
    {
     "data": {
      "text/plain": [
       "1.0"
      ]
     },
     "execution_count": 38,
     "metadata": {},
     "output_type": "execute_result"
    }
   ],
   "source": [
    "# Compute the weights (similarities to other users)\n",
    "weights = sim_with_user_6['sim_with_6']\n",
    "# Compute the prediction of Friday\n",
    "rating_predictions(weights, music['friday'])"
   ]
  },
  {
   "cell_type": "markdown",
   "metadata": {},
   "source": [
    "**Comment:** Ted should play the song because the predicted rating is 1, which is the highest it can be. "
   ]
  },
  {
   "cell_type": "markdown",
   "metadata": {},
   "source": [
    "---\n",
    "*End of Homework 3*"
   ]
  }
 ],
 "metadata": {
  "kernelspec": {
   "display_name": "Python 3",
   "language": "python",
   "name": "python3"
  },
  "language_info": {
   "codemirror_mode": {
    "name": "ipython",
    "version": 3
   },
   "file_extension": ".py",
   "mimetype": "text/x-python",
   "name": "python",
   "nbconvert_exporter": "python",
   "pygments_lexer": "ipython3",
   "version": "3.8.3"
  }
 },
 "nbformat": 4,
 "nbformat_minor": 5
}
