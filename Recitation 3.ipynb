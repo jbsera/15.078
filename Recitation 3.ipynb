{
 "cells": [
  {
   "cell_type": "markdown",
   "metadata": {},
   "source": [
    "# 15.774/15.780 Fall 2023\n",
    "# Recitation 3 - Logistic Regression & Data Cleaning\n",
    "--------------------------------------------------------------------------------------------------------------------------------"
   ]
  },
  {
   "cell_type": "markdown",
   "metadata": {},
   "source": [
    "First, we import the packages we will be using"
   ]
  },
  {
   "cell_type": "code",
   "execution_count": 1,
   "metadata": {},
   "outputs": [],
   "source": [
    "# Install the packages you do not have\n",
    "# !pip install sklearn"
   ]
  },
  {
   "cell_type": "code",
   "execution_count": 2,
   "metadata": {},
   "outputs": [],
   "source": [
    "import pandas as pd\n",
    "import statsmodels.api as sm\n",
    "import numpy as np\n",
    "from sklearn.metrics import confusion_matrix, ConfusionMatrixDisplay\n",
    "from sklearn.model_selection import train_test_split\n",
    "from sklearn.neighbors import KNeighborsRegressor\n",
    "import matplotlib.pyplot as plt\n",
    "%matplotlib inline"
   ]
  },
  {
   "cell_type": "markdown",
   "metadata": {},
   "source": [
    "---\n",
    "## Logistic Regression - Customer Churn example\n",
    "\n",
    "We will try to **build a model for correctly predicting the probability of customer churn**. \n",
    "\n",
    "Our dataset contains the following information: \n",
    "  * Information about 7,032 customers of an internet service company\n",
    "  * Information on whether the customer churned or continues using the service (**1 if churnes, 0 otherwise**).\n",
    "  * We also have 6 covariates available about the customers, including the monthly charges of the service, whether the cusromer is a senior citizen, the payment method, the internet service, the tenure in months, and the type of contract (monthly, yearly, etc.)\n"
   ]
  },
  {
   "cell_type": "code",
   "execution_count": 3,
   "metadata": {
    "scrolled": true
   },
   "outputs": [
    {
     "data": {
      "text/html": [
       "<div>\n",
       "<style scoped>\n",
       "    .dataframe tbody tr th:only-of-type {\n",
       "        vertical-align: middle;\n",
       "    }\n",
       "\n",
       "    .dataframe tbody tr th {\n",
       "        vertical-align: top;\n",
       "    }\n",
       "\n",
       "    .dataframe thead th {\n",
       "        text-align: right;\n",
       "    }\n",
       "</style>\n",
       "<table border=\"1\" class=\"dataframe\">\n",
       "  <thead>\n",
       "    <tr style=\"text-align: right;\">\n",
       "      <th></th>\n",
       "      <th>Churn</th>\n",
       "      <th>MonthlyCharges</th>\n",
       "      <th>SeniorCitizen</th>\n",
       "      <th>PaymentMethod</th>\n",
       "      <th>InternetService</th>\n",
       "      <th>tenure</th>\n",
       "      <th>Contract</th>\n",
       "    </tr>\n",
       "  </thead>\n",
       "  <tbody>\n",
       "    <tr>\n",
       "      <th>0</th>\n",
       "      <td>0</td>\n",
       "      <td>29.85</td>\n",
       "      <td>0</td>\n",
       "      <td>Electronic check</td>\n",
       "      <td>DSL</td>\n",
       "      <td>1</td>\n",
       "      <td>Month-to-month</td>\n",
       "    </tr>\n",
       "    <tr>\n",
       "      <th>1</th>\n",
       "      <td>0</td>\n",
       "      <td>56.95</td>\n",
       "      <td>0</td>\n",
       "      <td>Mailed check</td>\n",
       "      <td>DSL</td>\n",
       "      <td>34</td>\n",
       "      <td>One year</td>\n",
       "    </tr>\n",
       "    <tr>\n",
       "      <th>2</th>\n",
       "      <td>1</td>\n",
       "      <td>53.85</td>\n",
       "      <td>0</td>\n",
       "      <td>Mailed check</td>\n",
       "      <td>DSL</td>\n",
       "      <td>2</td>\n",
       "      <td>Month-to-month</td>\n",
       "    </tr>\n",
       "    <tr>\n",
       "      <th>3</th>\n",
       "      <td>0</td>\n",
       "      <td>42.30</td>\n",
       "      <td>0</td>\n",
       "      <td>Bank transfer</td>\n",
       "      <td>DSL</td>\n",
       "      <td>45</td>\n",
       "      <td>One year</td>\n",
       "    </tr>\n",
       "    <tr>\n",
       "      <th>4</th>\n",
       "      <td>1</td>\n",
       "      <td>70.70</td>\n",
       "      <td>0</td>\n",
       "      <td>Electronic check</td>\n",
       "      <td>Fiber optic</td>\n",
       "      <td>2</td>\n",
       "      <td>Month-to-month</td>\n",
       "    </tr>\n",
       "  </tbody>\n",
       "</table>\n",
       "</div>"
      ],
      "text/plain": [
       "   Churn  MonthlyCharges  SeniorCitizen     PaymentMethod InternetService  \\\n",
       "0      0           29.85              0  Electronic check             DSL   \n",
       "1      0           56.95              0      Mailed check             DSL   \n",
       "2      1           53.85              0      Mailed check             DSL   \n",
       "3      0           42.30              0     Bank transfer             DSL   \n",
       "4      1           70.70              0  Electronic check     Fiber optic   \n",
       "\n",
       "   tenure        Contract  \n",
       "0       1  Month-to-month  \n",
       "1      34        One year  \n",
       "2       2  Month-to-month  \n",
       "3      45        One year  \n",
       "4       2  Month-to-month  "
      ]
     },
     "execution_count": 3,
     "metadata": {},
     "output_type": "execute_result"
    }
   ],
   "source": [
    "# Assuming 'customerchurn.csv' is in the same directory as your Python script or Jupyter Notebook\n",
    "file_path = \"customerchurn.csv\"\n",
    "\n",
    "# Use the read_csv function to load the CSV file into a DataFrame\n",
    "churn = pd.read_csv(file_path)\n",
    "\n",
    "churn.head()"
   ]
  },
  {
   "cell_type": "code",
   "execution_count": 4,
   "metadata": {},
   "outputs": [
    {
     "name": "stdout",
     "output_type": "stream",
     "text": [
      "Train set shape: (4922, 7)\n",
      "Test set shape: (2110, 7)\n"
     ]
    }
   ],
   "source": [
    "# First we split the dataset in train and test as we always do\n",
    "# We use 70% of the data for training and 30% for test\n",
    "\n",
    "np.random.seed(15774)\n",
    "churn_train, churn_test = train_test_split(churn,train_size=0.7)\n",
    "\n",
    "print(\"Train set shape:\", churn_train.shape)\n",
    "print(\"Test set shape:\", churn_test.shape)"
   ]
  },
  {
   "cell_type": "markdown",
   "metadata": {},
   "source": [
    "### Simple logistic regression (one feature)\n",
    "We first run a simple logistic regression (simple meaning with only one covariate) of `Churn` on `MonthlyCharges`. We want to see the effect of the price of the service on churn.\n"
   ]
  },
  {
   "cell_type": "code",
   "execution_count": 5,
   "metadata": {},
   "outputs": [
    {
     "name": "stdout",
     "output_type": "stream",
     "text": [
      "Optimization terminated successfully.\n",
      "         Current function value: 0.557812\n",
      "         Iterations 6\n",
      "                           Logit Regression Results                           \n",
      "==============================================================================\n",
      "Dep. Variable:                  Churn   No. Observations:                 4922\n",
      "Model:                          Logit   Df Residuals:                     4920\n",
      "Method:                           MLE   Df Model:                            1\n",
      "Date:                Wed, 27 Sep 2023   Pseudo R-squ.:                 0.03449\n",
      "Time:                        15:22:13   Log-Likelihood:                -2745.5\n",
      "converged:                       True   LL-Null:                       -2843.6\n",
      "Covariance Type:            nonrobust   LLR p-value:                 1.438e-44\n",
      "==================================================================================\n",
      "                     coef    std err          z      P>|z|      [0.025      0.975]\n",
      "----------------------------------------------------------------------------------\n",
      "const             -2.0931      0.089    -23.439      0.000      -2.268      -1.918\n",
      "MonthlyCharges     0.0157      0.001     13.523      0.000       0.013       0.018\n",
      "==================================================================================\n"
     ]
    }
   ],
   "source": [
    "# Define the dependent variable (y) and predictor variable (X)\n",
    "y_train = churn_train[\"Churn\"]\n",
    "X_train = churn_train[\"MonthlyCharges\"]\n",
    "\n",
    "# Add a constant term to the predictor variable (intercept)\n",
    "X_train = sm.add_constant(X_train)\n",
    "\n",
    "# Fit the linear regression model\n",
    "log_reg = sm.Logit(y_train, X_train).fit()\n",
    "\n",
    "# Get the model summary\n",
    "summary = log_reg.summary()\n",
    "print(summary)"
   ]
  },
  {
   "cell_type": "markdown",
   "metadata": {},
   "source": [
    "We observe a positive sign on price, meaning the higher the price of the service, the higher the probability of churn, which aligns with reality. We also see that both features are significant, but we do not see the actual value. Let us zoom in on the p-values."
   ]
  },
  {
   "cell_type": "code",
   "execution_count": 6,
   "metadata": {},
   "outputs": [
    {
     "data": {
      "text/plain": [
       "const             1.704000e-121\n",
       "MonthlyCharges     1.147174e-41\n",
       "dtype: float64"
      ]
     },
     "execution_count": 6,
     "metadata": {},
     "output_type": "execute_result"
    }
   ],
   "source": [
    "log_reg.pvalues"
   ]
  },
  {
   "cell_type": "markdown",
   "metadata": {},
   "source": [
    "The p-value of `MonthlyCharges` is basically 0. For any reasonable confidence level (e.g., 95%, 99%) the feature is relevant to predict churn."
   ]
  },
  {
   "cell_type": "markdown",
   "metadata": {},
   "source": [
    "**Note:** A big difference between linear regression and logistic regression is the possible interpretation of the coefficients. In linear regression, a coefficient $\\beta\\geq 0$ is interpreted as follows:\n",
    "\n",
    "*If I increase my feature by 1 unit, the target variable will increase its value by $\\beta$* \n",
    "\n",
    "However, logistic regression uses a non-linear transformation which makes that interpretation invalid. In logistic regression the sign is informative, but not the scale. Let's see how the interpretation fails."
   ]
  },
  {
   "cell_type": "markdown",
   "metadata": {},
   "source": [
    "We first compute the probability of churn for a customer that pays $\\$30$ each month. We can do that directly with the logit function expression and the coefficients of the model we just trained. As we will use the logit expression several times we save its value on a lambda function"
   ]
  },
  {
   "cell_type": "code",
   "execution_count": 7,
   "metadata": {},
   "outputs": [],
   "source": [
    "# Get the 'MonthlyCharges' and intercept ('const') coefficients\n",
    "mcharges_coeff = log_reg.params[\"MonthlyCharges\"]\n",
    "intercept_coeff = log_reg.params[\"const\"]\n",
    "\n",
    "# Define your equation as a lambda function so that we can reuse it\n",
    "churn_prob_equation = lambda x: np.exp(intercept_coeff + mcharges_coeff * x) / (1 + np.exp(intercept_coeff + mcharges_coeff * x))\n"
   ]
  },
  {
   "cell_type": "markdown",
   "metadata": {},
   "source": [
    "Now we use it for `x=30`"
   ]
  },
  {
   "cell_type": "code",
   "execution_count": 8,
   "metadata": {},
   "outputs": [
    {
     "data": {
      "text/plain": [
       "0.16493552428176292"
      ]
     },
     "execution_count": 8,
     "metadata": {},
     "output_type": "execute_result"
    }
   ],
   "source": [
    "churn_prob_equation(30)"
   ]
  },
  {
   "cell_type": "markdown",
   "metadata": {},
   "source": [
    "So there is a probability of 16% of churning if the monthly charges are $\\$30$. Let's see what happens if the charges increase to $\\$40$ or $\\$50$. As those are 10 and 20 units of increase respectively, on a linear regression we expect $0.0157\\times 10=0.157$ and $0.0157\\times 20=0.314$ of increase in the probability. However, the increases we get are different"
   ]
  },
  {
   "cell_type": "code",
   "execution_count": 9,
   "metadata": {},
   "outputs": [
    {
     "name": "stdout",
     "output_type": "stream",
     "text": [
      "Churn probability for $40: 0.187718257816708\n",
      "Churn probability increase for $40: 0.022782733534945088\n",
      "Churn probability for $50: 0.21284587036840633\n",
      "Churn probability increase for $50: 0.04791034608664341\n"
     ]
    }
   ],
   "source": [
    "prob_increase_30_40 = churn_prob_equation(40) - churn_prob_equation(30)\n",
    "print(f\"Churn probability for $40: {churn_prob_equation(40)}\")\n",
    "print(f\"Churn probability increase for $40: {prob_increase_30_40}\")\n",
    "\n",
    "prob_increase_30_50 = churn_prob_equation(50) - churn_prob_equation(30)\n",
    "print(f\"Churn probability for $50: {churn_prob_equation(50)}\")\n",
    "print(f\"Churn probability increase for $50: {prob_increase_30_50}\")"
   ]
  },
  {
   "cell_type": "markdown",
   "metadata": {},
   "source": [
    "There is a second way of computing the churn probabilities. We could have the probabilities of churn directly with the model's `predict` function instead. We can obtain probabilities of churn for the 3 values: 30, 40, and 50 within the same `predict` call."
   ]
  },
  {
   "cell_type": "code",
   "execution_count": 10,
   "metadata": {},
   "outputs": [
    {
     "data": {
      "text/plain": [
       "0    0.164936\n",
       "1    0.187718\n",
       "2    0.212846\n",
       "dtype: float64"
      ]
     },
     "execution_count": 10,
     "metadata": {},
     "output_type": "execute_result"
    }
   ],
   "source": [
    "# Prepare the test set with the 3 values 30, 40, 50\n",
    "X_test = pd.DataFrame({\"MonthlyCharges\": [30, 40, 50]})\n",
    "\n",
    "# Add a constant term to the predictor variable (intercept)\n",
    "X_test = sm.add_constant(X_test)\n",
    "\n",
    "# Predict the probabilities of default and report those values\n",
    "log_reg.predict(X_test)"
   ]
  },
  {
   "cell_type": "markdown",
   "metadata": {},
   "source": [
    "### Multiple logistic regression (more than one feature)\n",
    "\n",
    "We now build a multiple logistic regression model that predicts `Churn` as a function of `MonthlyCharges`, `tenure`, and whether the contract is monthly. `Contract` is categorical, not numerical. We need to transform it into numerical variables. We define the one-hot-encoding of the  monthly contract"
   ]
  },
  {
   "cell_type": "code",
   "execution_count": 11,
   "metadata": {},
   "outputs": [],
   "source": [
    "churn_train[\"is_monthly\"] = (churn_train[\"Contract\"] == \"Month-to-month\").astype(\"int\")\n",
    "churn_test[\"is_monthly\"] = (churn_test[\"Contract\"] == \"Month-to-month\").astype(\"int\")\n"
   ]
  },
  {
   "cell_type": "code",
   "execution_count": 12,
   "metadata": {},
   "outputs": [
    {
     "name": "stdout",
     "output_type": "stream",
     "text": [
      "Optimization terminated successfully.\n",
      "         Current function value: 0.438887\n",
      "         Iterations 7\n",
      "                           Logit Regression Results                           \n",
      "==============================================================================\n",
      "Dep. Variable:                  Churn   No. Observations:                 4922\n",
      "Model:                          Logit   Df Residuals:                     4918\n",
      "Method:                           MLE   Df Model:                            3\n",
      "Date:                Wed, 27 Sep 2023   Pseudo R-squ.:                  0.2403\n",
      "Time:                        15:22:13   Log-Likelihood:                -2160.2\n",
      "converged:                       True   LL-Null:                       -2843.6\n",
      "Covariance Type:            nonrobust   LLR p-value:                4.592e-296\n",
      "==================================================================================\n",
      "                     coef    std err          z      P>|z|      [0.025      0.975]\n",
      "----------------------------------------------------------------------------------\n",
      "const             -3.0148      0.150    -20.107      0.000      -3.309      -2.721\n",
      "MonthlyCharges     0.0287      0.002     17.882      0.000       0.026       0.032\n",
      "tenure            -0.0358      0.002    -14.766      0.000      -0.041      -0.031\n",
      "is_monthly         1.3992      0.116     12.110      0.000       1.173       1.626\n",
      "==================================================================================\n"
     ]
    }
   ],
   "source": [
    "# Define the features of the model\n",
    "features = [\"MonthlyCharges\", \"tenure\", \"is_monthly\"]\n",
    "\n",
    "# Define the dependent variable (y) and predictor variable (X)\n",
    "y_train = churn_train[\"Churn\"]\n",
    "X_train = churn_train[features]\n",
    "\n",
    "# Add a constant term to the predictor variable (intercept)\n",
    "X_train = sm.add_constant(X_train)\n",
    "\n",
    "# Fit the linear regression model\n",
    "mult_log_reg = sm.Logit(y_train, X_train).fit()\n",
    "\n",
    "# Get the model summary\n",
    "summary = mult_log_reg.summary()\n",
    "print(summary)"
   ]
  },
  {
   "cell_type": "code",
   "execution_count": 13,
   "metadata": {},
   "outputs": [
    {
     "data": {
      "text/plain": [
       "const             6.460557e-90\n",
       "MonthlyCharges    1.638456e-71\n",
       "tenure            2.424395e-49\n",
       "is_monthly        9.372114e-34\n",
       "dtype: float64"
      ]
     },
     "execution_count": 13,
     "metadata": {},
     "output_type": "execute_result"
    }
   ],
   "source": [
    "# Zoom-in on the actual p-values\n",
    "mult_log_reg.pvalues"
   ]
  },
  {
   "cell_type": "markdown",
   "metadata": {},
   "source": [
    "We see that `MonthlyCharges` still have a p-value close to 0. There is evidence that this variable is still significant, that is, with this variables, there is evidence that `MonthlyCharges` is relevant to predict churn probabilities."
   ]
  },
  {
   "cell_type": "markdown",
   "metadata": {},
   "source": [
    "### Logistic regression evaluation"
   ]
  },
  {
   "cell_type": "markdown",
   "metadata": {},
   "source": [
    "Based on the cost structure of 2 for false positives and 8 for false negatives we got a probability threshold of $p=0.2$. We use that to evaluate both models. First, we get the confusion matrices for both"
   ]
  },
  {
   "cell_type": "code",
   "execution_count": 14,
   "metadata": {},
   "outputs": [
    {
     "data": {
      "image/png": "[encoded data removed]",
      "text/plain": [
       "<Figure size 640x480 with 2 Axes>"
      ]
     },
     "metadata": {},
     "output_type": "display_data"
    }
   ],
   "source": [
    "# Define the dependent variable (y) and predictor variable (X)\n",
    "y_test = churn_test[\"Churn\"]\n",
    "X_test = churn_test[\"MonthlyCharges\"]\n",
    "\n",
    "# Add a constant term to the predictor variable (intercept)\n",
    "X_test = sm.add_constant(X_test)\n",
    "\n",
    "# Predict default probabilities with the model \n",
    "default_probs = log_reg.predict(X_test)\n",
    "\n",
    "# Use the probability of p=0.2 to get the actual predictions\n",
    "default_preds = (default_probs > 0.2)\n",
    "\n",
    "# Compute and show the confusion matrix\n",
    "cm = confusion_matrix(y_test, default_preds)\n",
    "disp = ConfusionMatrixDisplay(confusion_matrix=cm)\n",
    "disp.plot()\n",
    "plt.show()"
   ]
  },
  {
   "cell_type": "code",
   "execution_count": 15,
   "metadata": {},
   "outputs": [
    {
     "data": {
      "image/png": "[encoded data removed]",
      "text/plain": [
       "<Figure size 640x480 with 2 Axes>"
      ]
     },
     "metadata": {},
     "output_type": "display_data"
    }
   ],
   "source": [
    "# Define the dependent variable (y) and predictor variable (X)\n",
    "y_test = churn_test[\"Churn\"]\n",
    "features = [\"MonthlyCharges\", \"tenure\", \"is_monthly\"]\n",
    "X_test = churn_test[features]\n",
    "\n",
    "# Add a constant term to the predictor variable (intercept)\n",
    "X_test = sm.add_constant(X_test)\n",
    "\n",
    "# Predict default probabilities with the model \n",
    "default_probs = mult_log_reg.predict(X_test)\n",
    "\n",
    "# Use the probability of p=0.2 to get the actual predictions\n",
    "default_preds = (default_probs > 0.2)\n",
    "\n",
    "# Compute and show the confusion matrix\n",
    "cm = confusion_matrix(y_test, default_preds)\n",
    "disp = ConfusionMatrixDisplay(confusion_matrix=cm)\n",
    "disp.plot()\n",
    "plt.show()"
   ]
  },
  {
   "cell_type": "markdown",
   "metadata": {},
   "source": [
    "*** \n",
    "We compute now the following summary measures of performance for both models: \n",
    "* Accuracy\n",
    "* Sensitivity (True Positive Rate)\n",
    "* Specificity (True Negative Rate)"
   ]
  },
  {
   "cell_type": "code",
   "execution_count": 16,
   "metadata": {},
   "outputs": [
    {
     "name": "stdout",
     "output_type": "stream",
     "text": [
      "Accuracy: 0.473\n",
      "Sensitivity (True Positive Rate): 0.852\n",
      "Specificity (True Negative Rate): 0.334\n"
     ]
    }
   ],
   "source": [
    "# Metrics for simple logistic regression\n",
    "TN, FP = 515, 1028\n",
    "FN, TP = 84, 483\n",
    "\n",
    "ACC = (TN + TP) / (TN + FN + TP +FP) \n",
    "print(f\"Accuracy: {ACC:.3f}\")\n",
    "\n",
    "TPR = TP / (TP + FN) \n",
    "print(f\"Sensitivity (True Positive Rate): {TPR:.3f}\")\n",
    "\n",
    "TNR = TN / (TN + FP) \n",
    "print(f\"Specificity (True Negative Rate): {TNR:.3f}\")"
   ]
  },
  {
   "cell_type": "code",
   "execution_count": 17,
   "metadata": {},
   "outputs": [
    {
     "name": "stdout",
     "output_type": "stream",
     "text": [
      "Accuracy: 0.688\n",
      "Sensitivity (True Positive Rate): 0.866\n",
      "Specificity (True Negative Rate): 0.622\n"
     ]
    }
   ],
   "source": [
    "# Metrics for simple logistic regression\n",
    "TN, FP = 960, 583\n",
    "FN, TP = 76, 491\n",
    "\n",
    "ACC = (TN + TP) / (TN + FN + TP +FP) \n",
    "print(f\"Accuracy: {ACC:.3f}\")\n",
    "\n",
    "TPR = TP / (TP + FN) \n",
    "print(f\"Sensitivity (True Positive Rate): {TPR:.3f}\")\n",
    "\n",
    "TNR = TN / (TN + FP) \n",
    "print(f\"Specificity (True Negative Rate): {TNR:.3f}\")"
   ]
  },
  {
   "cell_type": "markdown",
   "metadata": {},
   "source": [
    "**Comment:** All the metrics are better for the second model. Furthermore, all the features are significant, and the signs of the coefficients are realistic."
   ]
  },
  {
   "cell_type": "markdown",
   "metadata": {},
   "source": [
    "---\n",
    "---\n",
    "## Data Cleaning - Titanic dataset\n",
    "\n",
    "In this problem, we will work with the Titanic Disaster dataset, a dataset that is used often in introductory ML and Data Science courses, competitions, and tutorials.\n",
    "\n",
    "The features are the following:\n",
    "* survival - Survival (0 = No; 1 = Yes)\n",
    "* pclass - Passenger Class (1 = 1st; 2 = 2nd; 3 = 3rd)\n",
    "* name - Name\n",
    "* sex - Sex\n",
    "* age - Age\n",
    "* sibsp - Number of Siblings/Spouses Aboard\n",
    "* parch - Number of Parents/Children Aboard\n",
    "* ticket - Ticket Number\n",
    "* fare - Passenger Fare\n",
    "* cabin - Cabin\n",
    "* embarked - Port of Embarkation (C = Cherbourg; Q = Queenstown; S = Southampton)\n",
    "\n",
    "We will use it to introduce you to different Missing Data and Outlier Detection techniques. We aim to **have a clean dataset so that we can use it for predicting whether a passenger survived or not based on their features**.\n"
   ]
  },
  {
   "cell_type": "markdown",
   "metadata": {},
   "source": [
    "We first load the data."
   ]
  },
  {
   "cell_type": "code",
   "execution_count": 18,
   "metadata": {},
   "outputs": [
    {
     "data": {
      "text/html": [
       "<div>\n",
       "<style scoped>\n",
       "    .dataframe tbody tr th:only-of-type {\n",
       "        vertical-align: middle;\n",
       "    }\n",
       "\n",
       "    .dataframe tbody tr th {\n",
       "        vertical-align: top;\n",
       "    }\n",
       "\n",
       "    .dataframe thead th {\n",
       "        text-align: right;\n",
       "    }\n",
       "</style>\n",
       "<table border=\"1\" class=\"dataframe\">\n",
       "  <thead>\n",
       "    <tr style=\"text-align: right;\">\n",
       "      <th></th>\n",
       "      <th>survived</th>\n",
       "      <th>pclass</th>\n",
       "      <th>name</th>\n",
       "      <th>sex</th>\n",
       "      <th>age</th>\n",
       "      <th>sibsp</th>\n",
       "      <th>parch</th>\n",
       "      <th>ticket</th>\n",
       "      <th>fare</th>\n",
       "      <th>cabin</th>\n",
       "      <th>embarked</th>\n",
       "    </tr>\n",
       "  </thead>\n",
       "  <tbody>\n",
       "    <tr>\n",
       "      <th>0</th>\n",
       "      <td>0</td>\n",
       "      <td>3</td>\n",
       "      <td>Braund, Mr. Owen Harris</td>\n",
       "      <td>male</td>\n",
       "      <td>22.0</td>\n",
       "      <td>1</td>\n",
       "      <td>0</td>\n",
       "      <td>A/5 21171</td>\n",
       "      <td>7.2500</td>\n",
       "      <td>NaN</td>\n",
       "      <td>S</td>\n",
       "    </tr>\n",
       "    <tr>\n",
       "      <th>1</th>\n",
       "      <td>1</td>\n",
       "      <td>1</td>\n",
       "      <td>Cumings, Mrs. John Bradley (Florence Briggs Th...</td>\n",
       "      <td>female</td>\n",
       "      <td>38.0</td>\n",
       "      <td>1</td>\n",
       "      <td>0</td>\n",
       "      <td>PC 17599</td>\n",
       "      <td>71.2833</td>\n",
       "      <td>C85</td>\n",
       "      <td>C</td>\n",
       "    </tr>\n",
       "    <tr>\n",
       "      <th>2</th>\n",
       "      <td>1</td>\n",
       "      <td>3</td>\n",
       "      <td>Heikkinen, Miss. Laina</td>\n",
       "      <td>female</td>\n",
       "      <td>26.0</td>\n",
       "      <td>0</td>\n",
       "      <td>0</td>\n",
       "      <td>STON/O2. 3101282</td>\n",
       "      <td>7.9250</td>\n",
       "      <td>NaN</td>\n",
       "      <td>S</td>\n",
       "    </tr>\n",
       "    <tr>\n",
       "      <th>3</th>\n",
       "      <td>1</td>\n",
       "      <td>1</td>\n",
       "      <td>Futrelle, Mrs. Jacques Heath (Lily May Peel)</td>\n",
       "      <td>female</td>\n",
       "      <td>35.0</td>\n",
       "      <td>1</td>\n",
       "      <td>0</td>\n",
       "      <td>113803</td>\n",
       "      <td>53.1000</td>\n",
       "      <td>C123</td>\n",
       "      <td>S</td>\n",
       "    </tr>\n",
       "    <tr>\n",
       "      <th>4</th>\n",
       "      <td>0</td>\n",
       "      <td>3</td>\n",
       "      <td>Allen, Mr. William Henry</td>\n",
       "      <td>male</td>\n",
       "      <td>35.0</td>\n",
       "      <td>0</td>\n",
       "      <td>0</td>\n",
       "      <td>373450</td>\n",
       "      <td>8.0500</td>\n",
       "      <td>NaN</td>\n",
       "      <td>S</td>\n",
       "    </tr>\n",
       "  </tbody>\n",
       "</table>\n",
       "</div>"
      ],
      "text/plain": [
       "   survived  pclass                                               name  \\\n",
       "0         0       3                            Braund, Mr. Owen Harris   \n",
       "1         1       1  Cumings, Mrs. John Bradley (Florence Briggs Th...   \n",
       "2         1       3                             Heikkinen, Miss. Laina   \n",
       "3         1       1       Futrelle, Mrs. Jacques Heath (Lily May Peel)   \n",
       "4         0       3                           Allen, Mr. William Henry   \n",
       "\n",
       "      sex   age  sibsp  parch            ticket     fare cabin embarked  \n",
       "0    male  22.0      1      0         A/5 21171   7.2500   NaN        S  \n",
       "1  female  38.0      1      0          PC 17599  71.2833   C85        C  \n",
       "2  female  26.0      0      0  STON/O2. 3101282   7.9250   NaN        S  \n",
       "3  female  35.0      1      0            113803  53.1000  C123        S  \n",
       "4    male  35.0      0      0            373450   8.0500   NaN        S  "
      ]
     },
     "execution_count": 18,
     "metadata": {},
     "output_type": "execute_result"
    }
   ],
   "source": [
    "# Assuming 'titanic.csv' is in the same directory as your Python script or Jupyter Notebook\n",
    "file_path = \"titanic.csv\"\n",
    "\n",
    "# Use the read_csv function to load the CSV file into a DataFrame\n",
    "titanic = pd.read_csv(file_path)\n",
    "titanic.head()"
   ]
  },
  {
   "cell_type": "markdown",
   "metadata": {},
   "source": [
    "### Missing data\n",
    "We start by detecting missing data. In Python, missing data are represented with the identifier (or object) `NaN` which is an acronym for \"Not a Number\". There are several ways of detecting missing data. Here we will use the pandas function `.isna()` that returns true if the cell is missing and false otherwise"
   ]
  },
  {
   "cell_type": "code",
   "execution_count": 19,
   "metadata": {},
   "outputs": [
    {
     "data": {
      "text/html": [
       "<div>\n",
       "<style scoped>\n",
       "    .dataframe tbody tr th:only-of-type {\n",
       "        vertical-align: middle;\n",
       "    }\n",
       "\n",
       "    .dataframe tbody tr th {\n",
       "        vertical-align: top;\n",
       "    }\n",
       "\n",
       "    .dataframe thead th {\n",
       "        text-align: right;\n",
       "    }\n",
       "</style>\n",
       "<table border=\"1\" class=\"dataframe\">\n",
       "  <thead>\n",
       "    <tr style=\"text-align: right;\">\n",
       "      <th></th>\n",
       "      <th>survived</th>\n",
       "      <th>pclass</th>\n",
       "      <th>name</th>\n",
       "      <th>sex</th>\n",
       "      <th>age</th>\n",
       "      <th>sibsp</th>\n",
       "      <th>parch</th>\n",
       "      <th>ticket</th>\n",
       "      <th>fare</th>\n",
       "      <th>cabin</th>\n",
       "      <th>embarked</th>\n",
       "    </tr>\n",
       "  </thead>\n",
       "  <tbody>\n",
       "    <tr>\n",
       "      <th>0</th>\n",
       "      <td>False</td>\n",
       "      <td>False</td>\n",
       "      <td>False</td>\n",
       "      <td>False</td>\n",
       "      <td>False</td>\n",
       "      <td>False</td>\n",
       "      <td>False</td>\n",
       "      <td>False</td>\n",
       "      <td>False</td>\n",
       "      <td>True</td>\n",
       "      <td>False</td>\n",
       "    </tr>\n",
       "    <tr>\n",
       "      <th>1</th>\n",
       "      <td>False</td>\n",
       "      <td>False</td>\n",
       "      <td>False</td>\n",
       "      <td>False</td>\n",
       "      <td>False</td>\n",
       "      <td>False</td>\n",
       "      <td>False</td>\n",
       "      <td>False</td>\n",
       "      <td>False</td>\n",
       "      <td>False</td>\n",
       "      <td>False</td>\n",
       "    </tr>\n",
       "    <tr>\n",
       "      <th>2</th>\n",
       "      <td>False</td>\n",
       "      <td>False</td>\n",
       "      <td>False</td>\n",
       "      <td>False</td>\n",
       "      <td>False</td>\n",
       "      <td>False</td>\n",
       "      <td>False</td>\n",
       "      <td>False</td>\n",
       "      <td>False</td>\n",
       "      <td>True</td>\n",
       "      <td>False</td>\n",
       "    </tr>\n",
       "    <tr>\n",
       "      <th>3</th>\n",
       "      <td>False</td>\n",
       "      <td>False</td>\n",
       "      <td>False</td>\n",
       "      <td>False</td>\n",
       "      <td>False</td>\n",
       "      <td>False</td>\n",
       "      <td>False</td>\n",
       "      <td>False</td>\n",
       "      <td>False</td>\n",
       "      <td>False</td>\n",
       "      <td>False</td>\n",
       "    </tr>\n",
       "    <tr>\n",
       "      <th>4</th>\n",
       "      <td>False</td>\n",
       "      <td>False</td>\n",
       "      <td>False</td>\n",
       "      <td>False</td>\n",
       "      <td>False</td>\n",
       "      <td>False</td>\n",
       "      <td>False</td>\n",
       "      <td>False</td>\n",
       "      <td>False</td>\n",
       "      <td>True</td>\n",
       "      <td>False</td>\n",
       "    </tr>\n",
       "  </tbody>\n",
       "</table>\n",
       "</div>"
      ],
      "text/plain": [
       "   survived  pclass   name    sex    age  sibsp  parch  ticket   fare  cabin  \\\n",
       "0     False   False  False  False  False  False  False   False  False   True   \n",
       "1     False   False  False  False  False  False  False   False  False  False   \n",
       "2     False   False  False  False  False  False  False   False  False   True   \n",
       "3     False   False  False  False  False  False  False   False  False  False   \n",
       "4     False   False  False  False  False  False  False   False  False   True   \n",
       "\n",
       "   embarked  \n",
       "0     False  \n",
       "1     False  \n",
       "2     False  \n",
       "3     False  \n",
       "4     False  "
      ]
     },
     "execution_count": 19,
     "metadata": {},
     "output_type": "execute_result"
    }
   ],
   "source": [
    "titanic.isna().head()"
   ]
  },
  {
   "cell_type": "markdown",
   "metadata": {},
   "source": [
    "We can see that `cabin` contains some missing values. In the other features we do not see missing data in the first 5 rows, but we should not conclude they do not have missing data yet. To have better metrics, we will use `.sum()` and `.mean()` which are functions of a DataFrame that respecively compute the sum and the average of each column. In this case, False is treated as 0 and True as 1, so with `sum` we are counting missing data for each column, and with `mean` we are computing the ratio of missing data."
   ]
  },
  {
   "cell_type": "code",
   "execution_count": 20,
   "metadata": {},
   "outputs": [
    {
     "data": {
      "text/plain": [
       "age         177\n",
       "cabin       690\n",
       "embarked      2\n",
       "dtype: int64"
      ]
     },
     "execution_count": 20,
     "metadata": {},
     "output_type": "execute_result"
    }
   ],
   "source": [
    "# Get missing value counts\n",
    "na_counts = titanic.isna().sum()\n",
    "\n",
    "# Filter features that have missing values\n",
    "na_counts[na_counts > 0]\n"
   ]
  },
  {
   "cell_type": "code",
   "execution_count": 21,
   "metadata": {},
   "outputs": [
    {
     "data": {
      "text/plain": [
       "age         0.197987\n",
       "cabin       0.771812\n",
       "embarked    0.002237\n",
       "dtype: float64"
      ]
     },
     "execution_count": 21,
     "metadata": {},
     "output_type": "execute_result"
    }
   ],
   "source": [
    "# Get missing value ratios\n",
    "na_ratio = titanic.isna().mean()\n",
    "\n",
    "# Filter features that have missing values\n",
    "na_ratio[na_ratio > 0]"
   ]
  },
  {
   "cell_type": "markdown",
   "metadata": {},
   "source": [
    "Now we can conclude that `age`, `cabin`, and `embarked` have missing data. We will treat this 3 columns in a different way."
   ]
  },
  {
   "cell_type": "markdown",
   "metadata": {},
   "source": [
    "#### Missing data in `embarked` - Removing rows\n",
    "\n",
    "In this case, we have only 2 missing values. It is safe to filter out those rows"
   ]
  },
  {
   "cell_type": "code",
   "execution_count": 22,
   "metadata": {},
   "outputs": [],
   "source": [
    "# Remove rows with missing data in embarked\n",
    "titanic = titanic[~titanic.embarked.isna()]\n"
   ]
  },
  {
   "cell_type": "markdown",
   "metadata": {},
   "source": [
    "#### Missing data in `cabin` - Creating relevant features\n",
    "\n",
    "We observe that `cabin` has $77\\%$ missing values. This is a considerable amount, and any imputation rule for this feature will be inaccurate. We have two options in this case. First, we can remove the feature completely and not use it in our model to predict survivals. As obnly $23\\%$ of the passengers have this information, we might think that this variable is uninformative. However, we could also analyze why this data is missing. It might be the case that passengers without cabin information are 2nd and 3rd class passengers, and they actually did not have a cabin. Let's analyze that statement"
   ]
  },
  {
   "cell_type": "code",
   "execution_count": 23,
   "metadata": {},
   "outputs": [],
   "source": [
    "# Filter data to obtain the rows of passengers with and without cabin information\n",
    "pass_with_cabin = titanic[~titanic.cabin.isna()]\n",
    "pass_without_cabin = titanic[titanic.cabin.isna()]"
   ]
  },
  {
   "cell_type": "code",
   "execution_count": 24,
   "metadata": {},
   "outputs": [
    {
     "data": {
      "text/plain": [
       "pclass\n",
       "1    174\n",
       "2     16\n",
       "3     12\n",
       "Name: count, dtype: int64"
      ]
     },
     "execution_count": 24,
     "metadata": {},
     "output_type": "execute_result"
    }
   ],
   "source": [
    "# Check counts per class\n",
    "pass_with_cabin.pclass.value_counts()"
   ]
  },
  {
   "cell_type": "code",
   "execution_count": 25,
   "metadata": {},
   "outputs": [
    {
     "data": {
      "text/plain": [
       "pclass\n",
       "3    480\n",
       "2    168\n",
       "1     41\n",
       "0      1\n",
       "Name: count, dtype: int64"
      ]
     },
     "execution_count": 25,
     "metadata": {},
     "output_type": "execute_result"
    }
   ],
   "source": [
    "# Check counts per class\n",
    "pass_without_cabin.pclass.value_counts()"
   ]
  },
  {
   "cell_type": "markdown",
   "metadata": {},
   "source": [
    "Our statement might not be completely true, but there is evidence in the data that it is a possibility. As we do not know whether this statement is correct, we have to see if this information is useful for the task in hand. In this case, we will analyze whether having or not cabin information is a good predictor for survival"
   ]
  },
  {
   "cell_type": "code",
   "execution_count": 26,
   "metadata": {},
   "outputs": [
    {
     "data": {
      "text/plain": [
       "survived\n",
       "1    134\n",
       "0     68\n",
       "Name: count, dtype: int64"
      ]
     },
     "execution_count": 26,
     "metadata": {},
     "output_type": "execute_result"
    }
   ],
   "source": [
    "# Check counts for survivors\n",
    "pass_with_cabin.survived.value_counts()"
   ]
  },
  {
   "cell_type": "code",
   "execution_count": 27,
   "metadata": {},
   "outputs": [
    {
     "data": {
      "text/plain": [
       "survived\n",
       "0    483\n",
       "1    207\n",
       "Name: count, dtype: int64"
      ]
     },
     "execution_count": 27,
     "metadata": {},
     "output_type": "execute_result"
    }
   ],
   "source": [
    "# Check counts for survivors\n",
    "pass_without_cabin.survived.value_counts()"
   ]
  },
  {
   "cell_type": "markdown",
   "metadata": {},
   "source": [
    "We can see a relation. In this case, instead of completely removing the information of this variable, we first create a new feature that captures whether a passenger has cabin information"
   ]
  },
  {
   "cell_type": "code",
   "execution_count": 28,
   "metadata": {},
   "outputs": [],
   "source": [
    "# Create the new variable\n",
    "titanic[\"has_cabin_info\"] = (titanic.cabin.isna() == False).astype(int)\n",
    "\n",
    "# Remove cabin feature\n",
    "del titanic[\"cabin\"]"
   ]
  },
  {
   "cell_type": "markdown",
   "metadata": {},
   "source": [
    "#### Missing data in `age` - Impute values\n",
    "\n",
    "For this feature, we have approx. $20\\%$ of missing values. Imputation is a great option and we will see different ways of imputing the data. When imputing data, we need to evaluate the different models to see which imputation methods work better. For that, we will use the MAPE metric.\n",
    "\n"
   ]
  },
  {
   "cell_type": "code",
   "execution_count": 29,
   "metadata": {},
   "outputs": [],
   "source": [
    "# MAPE function\n",
    "def compute_mape(y_true, y_pred):\n",
    "    return (100 * abs((y_true - y_pred) / y_true)).mean()"
   ]
  },
  {
   "cell_type": "markdown",
   "metadata": {},
   "source": [
    "We start with the two most basic models: **mean** and **median** age in the training set"
   ]
  },
  {
   "cell_type": "code",
   "execution_count": 30,
   "metadata": {},
   "outputs": [
    {
     "name": "stdout",
     "output_type": "stream",
     "text": [
      "Mean age: 29.790944055944053\n",
      "MAPE: 39.50277810464355\n"
     ]
    }
   ],
   "source": [
    "# Keep first only the data that has values\n",
    "titanic_no_nas = titanic[~titanic.age.isna()]\n",
    "\n",
    "# Split the data in 80% train and 20% test\n",
    "np.random.seed(15780)\n",
    "titanic_no_nas_train, titanic_no_nas_test = train_test_split(titanic_no_nas, train_size=0.8)\n",
    "\n",
    "# Build X and y for test and train\n",
    "features = [\"age\"]\n",
    "X_train = titanic_no_nas_train[features]\n",
    "y_train = titanic_no_nas_train[\"age\"]\n",
    "X_test = titanic_no_nas_test[features]\n",
    "y_test = titanic_no_nas_test[\"age\"]\n",
    "\n",
    "# Compute the mean crim in the train set\n",
    "mean_age = X_train.age.mean()\n",
    "print(f\"Mean age: {mean_age}\")\n",
    "\n",
    "# Compute and report the MAPE\n",
    "print(f\"MAPE: {compute_mape(mean_age, y_test)}\")"
   ]
  },
  {
   "cell_type": "code",
   "execution_count": 31,
   "metadata": {},
   "outputs": [
    {
     "name": "stdout",
     "output_type": "stream",
     "text": [
      "Median age: 29.0\n",
      "MAPE: 39.50277810464355\n"
     ]
    }
   ],
   "source": [
    "# Compute the median crim in the train set\n",
    "median_age = X_train.age.median()\n",
    "print(f\"Median age: {median_age}\")\n",
    "\n",
    "# Compute and report the MAPE\n",
    "print(f\"MAPE: {compute_mape(mean_age, y_test)}\")"
   ]
  },
  {
   "cell_type": "markdown",
   "metadata": {},
   "source": [
    "**Comment**: Both MAPEs are high: 39.5% and 40.2% respectively. The mean is slightly better, but both predictions are close."
   ]
  },
  {
   "cell_type": "markdown",
   "metadata": {},
   "source": [
    "Now we will impute `age` values using a **knn** model with 1, 3, and 10 neighbors respectively using other variables as descriptors. It's very important to note that `age` should not be included as a descriptor as we did in the previous part, as we will not have that information for the missing values. We should not use `survived` either, as this will be the target variable of our model. We will use `age` as a feature to predict `survived` later."
   ]
  },
  {
   "cell_type": "code",
   "execution_count": 32,
   "metadata": {},
   "outputs": [
    {
     "name": "stdout",
     "output_type": "stream",
     "text": [
      "MAPE: 50.29475325206437\n"
     ]
    }
   ],
   "source": [
    "# Build X and y for test and train\n",
    "features = [\"pclass\", \"sibsp\", \"parch\", \"fare\"]\n",
    "X_train = titanic_no_nas_train[features]\n",
    "y_train = titanic_no_nas_train[\"age\"]\n",
    "X_test = titanic_no_nas_test[features]\n",
    "y_test = titanic_no_nas_test[\"age\"]\n",
    "\n",
    "# Define knn model with 3 neighbors and train it with the train data\n",
    "knn_1 = KNeighborsRegressor(n_neighbors=1)\n",
    "knn_1.fit(X_train, y_train)\n",
    "\n",
    "# Predict crim\n",
    "pred_1 = knn_1.predict(X_test)\n",
    "\n",
    "# Compute and report MAPE\n",
    "print(f\"MAPE: {compute_mape(pred_1, y_test)}\")"
   ]
  },
  {
   "cell_type": "code",
   "execution_count": 33,
   "metadata": {},
   "outputs": [
    {
     "name": "stdout",
     "output_type": "stream",
     "text": [
      "MAPE: 46.43409272212745\n"
     ]
    }
   ],
   "source": [
    "# Define knn model with 1 neighbors and train it with the train data\n",
    "knn_3 = KNeighborsRegressor(n_neighbors=3)\n",
    "knn_3.fit(X_train, y_train)\n",
    "\n",
    "# Predict crim\n",
    "pred_3 = knn_3.predict(X_test)\n",
    "\n",
    "# Compute and report MAPE\n",
    "print(f\"MAPE: {compute_mape(pred_3, y_test)}\")"
   ]
  },
  {
   "cell_type": "code",
   "execution_count": 34,
   "metadata": {},
   "outputs": [
    {
     "name": "stdout",
     "output_type": "stream",
     "text": [
      "MAPE: 35.21215642405437\n"
     ]
    }
   ],
   "source": [
    "# Define knn model with 10 neighbors and train it with the train data\n",
    "knn_10 = KNeighborsRegressor(n_neighbors=10)\n",
    "knn_10.fit(X_train, y_train)\n",
    "\n",
    "# Predict crim\n",
    "pred_10 = knn_10.predict(X_test)\n",
    "\n",
    "# Compute and report MAPE\n",
    "print(f\"MAPE: {compute_mape(pred_10, y_test)}\")"
   ]
  },
  {
   "cell_type": "markdown",
   "metadata": {},
   "source": [
    "**Comment**: MAPEs with knn are lower, and slightly better than the mean and median models. The best imputation is obtained for 10 neighbors with a MAPE of $35\\%$."
   ]
  },
  {
   "cell_type": "markdown",
   "metadata": {},
   "source": [
    "Let us now impute the age with the model `knn_10`"
   ]
  },
  {
   "cell_type": "code",
   "execution_count": 35,
   "metadata": {},
   "outputs": [
    {
     "name": "stderr",
     "output_type": "stream",
     "text": [
      "/var/folders/6s/g7kdrt6j3q32cg46j9q_hxpm0000gn/T/ipykernel_16051/633896082.py:12: SettingWithCopyWarning: \n",
      "A value is trying to be set on a copy of a slice from a DataFrame\n",
      "\n",
      "See the caveats in the documentation: https://pandas.pydata.org/pandas-docs/stable/user_guide/indexing.html#returning-a-view-versus-a-copy\n",
      "  titanic.age[titanic.age.isna()] = imp_values\n"
     ]
    }
   ],
   "source": [
    "# Get the rows that need to be imputed\n",
    "titanic_no_nas = titanic[titanic.age.isna()]\n",
    "\n",
    "# Get the predictor features\n",
    "features = [\"pclass\", \"sibsp\", \"parch\", \"fare\"]\n",
    "X_no_nas = titanic_no_nas[features]\n",
    "\n",
    "# Get the imputed values from the knn_10 model\n",
    "imp_values = knn_10.predict(X_no_nas)\n",
    "\n",
    "# Impute them in the original set\n",
    "titanic.age[titanic.age.isna()] = imp_values"
   ]
  },
  {
   "cell_type": "markdown",
   "metadata": {},
   "source": [
    "Finally, we check that we don not have missing values in our data"
   ]
  },
  {
   "cell_type": "code",
   "execution_count": 36,
   "metadata": {},
   "outputs": [
    {
     "data": {
      "text/plain": [
       "survived          0\n",
       "pclass            0\n",
       "name              0\n",
       "sex               0\n",
       "age               0\n",
       "sibsp             0\n",
       "parch             0\n",
       "ticket            0\n",
       "fare              0\n",
       "embarked          0\n",
       "has_cabin_info    0\n",
       "dtype: int64"
      ]
     },
     "execution_count": 36,
     "metadata": {},
     "output_type": "execute_result"
    }
   ],
   "source": [
    "titanic.isna().sum()"
   ]
  },
  {
   "cell_type": "markdown",
   "metadata": {},
   "source": [
    "### Outlier detection"
   ]
  },
  {
   "cell_type": "markdown",
   "metadata": {},
   "source": [
    "Let us try to find some outliers in the current variables. A complete analysis would go through all the features, but we will focus on `fare`. \n",
    "\n",
    "We start by looking at the data distribution. For that we can use histograms and boxplots.\n"
   ]
  },
  {
   "cell_type": "code",
   "execution_count": 37,
   "metadata": {},
   "outputs": [
    {
     "data": {
      "text/plain": [
       "<Axes: ylabel='Frequency'>"
      ]
     },
     "execution_count": 37,
     "metadata": {},
     "output_type": "execute_result"
    },
    {
     "data": {
      "image/png": "[encoded data removed]",
      "text/plain": [
       "<Figure size 640x480 with 1 Axes>"
      ]
     },
     "metadata": {},
     "output_type": "display_data"
    }
   ],
   "source": [
    "# Use a histogram to detect outliers\n",
    "titanic.fare.plot.hist(bins=15)"
   ]
  },
  {
   "cell_type": "code",
   "execution_count": 38,
   "metadata": {},
   "outputs": [
    {
     "data": {
      "text/plain": [
       "<Axes: >"
      ]
     },
     "execution_count": 38,
     "metadata": {},
     "output_type": "execute_result"
    },
    {
     "data": {
      "image/png": "[encoded data removed]",
      "text/plain": [
       "<Figure size 640x480 with 1 Axes>"
      ]
     },
     "metadata": {},
     "output_type": "display_data"
    }
   ],
   "source": [
    "# Use a box plot to detect the outliers\n",
    "titanic.fare.plot.box()"
   ]
  },
  {
   "cell_type": "markdown",
   "metadata": {},
   "source": [
    "With the box plot we can spot two potential problems. The first one is that there is one or more samples with a negative fare, which is not realistic, and the second one is samples with fares around 500 and 1500, which are isolated from the usual distributions. Let us analyze those samples. The histogram plot could spot the negative fares, and the samples with fare around 500. It is hard to see the samples with a fare of 1500"
   ]
  },
  {
   "cell_type": "markdown",
   "metadata": {},
   "source": [
    "Let us first analyze the negative fares"
   ]
  },
  {
   "cell_type": "code",
   "execution_count": 39,
   "metadata": {},
   "outputs": [
    {
     "data": {
      "text/html": [
       "<div>\n",
       "<style scoped>\n",
       "    .dataframe tbody tr th:only-of-type {\n",
       "        vertical-align: middle;\n",
       "    }\n",
       "\n",
       "    .dataframe tbody tr th {\n",
       "        vertical-align: top;\n",
       "    }\n",
       "\n",
       "    .dataframe thead th {\n",
       "        text-align: right;\n",
       "    }\n",
       "</style>\n",
       "<table border=\"1\" class=\"dataframe\">\n",
       "  <thead>\n",
       "    <tr style=\"text-align: right;\">\n",
       "      <th></th>\n",
       "      <th>survived</th>\n",
       "      <th>pclass</th>\n",
       "      <th>name</th>\n",
       "      <th>sex</th>\n",
       "      <th>age</th>\n",
       "      <th>sibsp</th>\n",
       "      <th>parch</th>\n",
       "      <th>ticket</th>\n",
       "      <th>fare</th>\n",
       "      <th>embarked</th>\n",
       "      <th>has_cabin_info</th>\n",
       "    </tr>\n",
       "  </thead>\n",
       "  <tbody>\n",
       "    <tr>\n",
       "      <th>227</th>\n",
       "      <td>1</td>\n",
       "      <td>1</td>\n",
       "      <td>Johnson, Mr. Robert</td>\n",
       "      <td>male</td>\n",
       "      <td>45.0</td>\n",
       "      <td>0</td>\n",
       "      <td>0</td>\n",
       "      <td>463847</td>\n",
       "      <td>-80.5</td>\n",
       "      <td>S</td>\n",
       "      <td>0</td>\n",
       "    </tr>\n",
       "  </tbody>\n",
       "</table>\n",
       "</div>"
      ],
      "text/plain": [
       "     survived  pclass                 name   sex   age  sibsp  parch  ticket  \\\n",
       "227         1       1  Johnson, Mr. Robert  male  45.0      0      0  463847   \n",
       "\n",
       "     fare embarked  has_cabin_info  \n",
       "227 -80.5        S               0  "
      ]
     },
     "execution_count": 39,
     "metadata": {},
     "output_type": "execute_result"
    }
   ],
   "source": [
    "titanic[titanic.fare < 0]"
   ]
  },
  {
   "cell_type": "markdown",
   "metadata": {},
   "source": [
    "We see an adult male that had a negative fare. Having a negative fare is not realistic, but the scale of the number might be correct. We could fix the value by removing the negative sign. However, we need to see if this correction makes sense in terms of the distributions. Let us see if a fare of 80.5 is realistic"
   ]
  },
  {
   "cell_type": "code",
   "execution_count": 40,
   "metadata": {},
   "outputs": [
    {
     "data": {
      "text/plain": [
       "count     875.000000\n",
       "mean       34.373793\n",
       "std        71.406442\n",
       "min         4.012500\n",
       "0%          4.012500\n",
       "10%         7.734980\n",
       "20%         7.895800\n",
       "30%         8.050000\n",
       "40%        11.133300\n",
       "50%        14.500000\n",
       "60%        23.000000\n",
       "70%        27.720800\n",
       "80%        39.775000\n",
       "90%        77.958300\n",
       "max      1543.120000\n",
       "Name: fare, dtype: float64"
      ]
     },
     "execution_count": 40,
     "metadata": {},
     "output_type": "execute_result"
    }
   ],
   "source": [
    "# Compute some statistics for positive fares\n",
    "positive_fares = titanic[titanic.fare > 0].fare\n",
    "\n",
    "positive_fares.describe(percentiles=np.arange(0,1,0.1))"
   ]
  },
  {
   "cell_type": "markdown",
   "metadata": {},
   "source": [
    "80.5 is not close to the mean or the median. The value is in the percentile $90\\%$. It may seem that it is not a realistic value within the fares distribution. However, we can see that the passenger is in first class, for which fares are higher. Let us compute statistics for fares within the first class passengers"
   ]
  },
  {
   "cell_type": "code",
   "execution_count": 41,
   "metadata": {},
   "outputs": [
    {
     "data": {
      "text/plain": [
       "count    209.000000\n",
       "mean      86.207715\n",
       "std       78.584940\n",
       "min        5.000000\n",
       "0%         5.000000\n",
       "10%       26.550000\n",
       "20%       30.300000\n",
       "30%       39.480000\n",
       "40%       52.554200\n",
       "50%       61.379200\n",
       "60%       78.266700\n",
       "70%       88.062520\n",
       "80%      115.965000\n",
       "90%      164.866700\n",
       "max      512.329200\n",
       "Name: fare, dtype: float64"
      ]
     },
     "execution_count": 41,
     "metadata": {},
     "output_type": "execute_result"
    }
   ],
   "source": [
    "# Compute the mean and median fare for positive fares\n",
    "positive_fares_1st_class = positive_fares[titanic.pclass == 1]\n",
    "\n",
    "positive_fares_1st_class.describe(percentiles=np.arange(0,1,0.1))"
   ]
  },
  {
   "cell_type": "markdown",
   "metadata": {},
   "source": [
    "Now the value is in percentile $60\\%$ and close to the mean. It is reasonable to think there was an error and we can correct the value."
   ]
  },
  {
   "cell_type": "code",
   "execution_count": 42,
   "metadata": {},
   "outputs": [
    {
     "name": "stderr",
     "output_type": "stream",
     "text": [
      "/var/folders/6s/g7kdrt6j3q32cg46j9q_hxpm0000gn/T/ipykernel_16051/88356981.py:1: SettingWithCopyWarning: \n",
      "A value is trying to be set on a copy of a slice from a DataFrame\n",
      "\n",
      "See the caveats in the documentation: https://pandas.pydata.org/pandas-docs/stable/user_guide/indexing.html#returning-a-view-versus-a-copy\n",
      "  titanic.fare[titanic.fare < 0] = -titanic.fare[titanic.fare < 0]\n"
     ]
    }
   ],
   "source": [
    "titanic.fare[titanic.fare < 0] = -titanic.fare[titanic.fare < 0]"
   ]
  },
  {
   "cell_type": "code",
   "execution_count": 43,
   "metadata": {},
   "outputs": [
    {
     "data": {
      "text/html": [
       "<div>\n",
       "<style scoped>\n",
       "    .dataframe tbody tr th:only-of-type {\n",
       "        vertical-align: middle;\n",
       "    }\n",
       "\n",
       "    .dataframe tbody tr th {\n",
       "        vertical-align: top;\n",
       "    }\n",
       "\n",
       "    .dataframe thead th {\n",
       "        text-align: right;\n",
       "    }\n",
       "</style>\n",
       "<table border=\"1\" class=\"dataframe\">\n",
       "  <thead>\n",
       "    <tr style=\"text-align: right;\">\n",
       "      <th></th>\n",
       "      <th>survived</th>\n",
       "      <th>pclass</th>\n",
       "      <th>name</th>\n",
       "      <th>sex</th>\n",
       "      <th>age</th>\n",
       "      <th>sibsp</th>\n",
       "      <th>parch</th>\n",
       "      <th>ticket</th>\n",
       "      <th>fare</th>\n",
       "      <th>embarked</th>\n",
       "      <th>has_cabin_info</th>\n",
       "    </tr>\n",
       "  </thead>\n",
       "  <tbody>\n",
       "    <tr>\n",
       "      <th>227</th>\n",
       "      <td>1</td>\n",
       "      <td>1</td>\n",
       "      <td>Johnson, Mr. Robert</td>\n",
       "      <td>male</td>\n",
       "      <td>45.0</td>\n",
       "      <td>0</td>\n",
       "      <td>0</td>\n",
       "      <td>463847</td>\n",
       "      <td>80.5</td>\n",
       "      <td>S</td>\n",
       "      <td>0</td>\n",
       "    </tr>\n",
       "  </tbody>\n",
       "</table>\n",
       "</div>"
      ],
      "text/plain": [
       "     survived  pclass                 name   sex   age  sibsp  parch  ticket  \\\n",
       "227         1       1  Johnson, Mr. Robert  male  45.0      0      0  463847   \n",
       "\n",
       "     fare embarked  has_cabin_info  \n",
       "227  80.5        S               0  "
      ]
     },
     "execution_count": 43,
     "metadata": {},
     "output_type": "execute_result"
    }
   ],
   "source": [
    "# Check the fix. Passenger had index 227\n",
    "titanic.loc[[227] ,:]"
   ]
  },
  {
   "cell_type": "markdown",
   "metadata": {},
   "source": [
    "Now we focus on the high values around 500 and 1500"
   ]
  },
  {
   "cell_type": "code",
   "execution_count": 44,
   "metadata": {},
   "outputs": [
    {
     "data": {
      "text/html": [
       "<div>\n",
       "<style scoped>\n",
       "    .dataframe tbody tr th:only-of-type {\n",
       "        vertical-align: middle;\n",
       "    }\n",
       "\n",
       "    .dataframe tbody tr th {\n",
       "        vertical-align: top;\n",
       "    }\n",
       "\n",
       "    .dataframe thead th {\n",
       "        text-align: right;\n",
       "    }\n",
       "</style>\n",
       "<table border=\"1\" class=\"dataframe\">\n",
       "  <thead>\n",
       "    <tr style=\"text-align: right;\">\n",
       "      <th></th>\n",
       "      <th>survived</th>\n",
       "      <th>pclass</th>\n",
       "      <th>name</th>\n",
       "      <th>sex</th>\n",
       "      <th>age</th>\n",
       "      <th>sibsp</th>\n",
       "      <th>parch</th>\n",
       "      <th>ticket</th>\n",
       "      <th>fare</th>\n",
       "      <th>embarked</th>\n",
       "      <th>has_cabin_info</th>\n",
       "    </tr>\n",
       "  </thead>\n",
       "  <tbody>\n",
       "    <tr>\n",
       "      <th>259</th>\n",
       "      <td>1</td>\n",
       "      <td>1</td>\n",
       "      <td>Ward, Miss. Anna</td>\n",
       "      <td>female</td>\n",
       "      <td>35.0</td>\n",
       "      <td>0</td>\n",
       "      <td>0</td>\n",
       "      <td>PC 17755</td>\n",
       "      <td>512.3292</td>\n",
       "      <td>C</td>\n",
       "      <td>0</td>\n",
       "    </tr>\n",
       "    <tr>\n",
       "      <th>680</th>\n",
       "      <td>1</td>\n",
       "      <td>1</td>\n",
       "      <td>Cardeza, Mr. Thomas Drake Martinez</td>\n",
       "      <td>male</td>\n",
       "      <td>36.0</td>\n",
       "      <td>0</td>\n",
       "      <td>1</td>\n",
       "      <td>PC 17755</td>\n",
       "      <td>512.3292</td>\n",
       "      <td>C</td>\n",
       "      <td>1</td>\n",
       "    </tr>\n",
       "    <tr>\n",
       "      <th>718</th>\n",
       "      <td>0</td>\n",
       "      <td>3</td>\n",
       "      <td>Johnson, Alice</td>\n",
       "      <td>female</td>\n",
       "      <td>25.0</td>\n",
       "      <td>2</td>\n",
       "      <td>1</td>\n",
       "      <td>33567</td>\n",
       "      <td>1543.1200</td>\n",
       "      <td>Q</td>\n",
       "      <td>0</td>\n",
       "    </tr>\n",
       "    <tr>\n",
       "      <th>739</th>\n",
       "      <td>1</td>\n",
       "      <td>1</td>\n",
       "      <td>Lesurer, Mr. Gustave J</td>\n",
       "      <td>male</td>\n",
       "      <td>35.0</td>\n",
       "      <td>0</td>\n",
       "      <td>0</td>\n",
       "      <td>PC 17755</td>\n",
       "      <td>512.3292</td>\n",
       "      <td>C</td>\n",
       "      <td>1</td>\n",
       "    </tr>\n",
       "  </tbody>\n",
       "</table>\n",
       "</div>"
      ],
      "text/plain": [
       "     survived  pclass                                name     sex   age  \\\n",
       "259         1       1                    Ward, Miss. Anna  female  35.0   \n",
       "680         1       1  Cardeza, Mr. Thomas Drake Martinez    male  36.0   \n",
       "718         0       3                      Johnson, Alice  female  25.0   \n",
       "739         1       1              Lesurer, Mr. Gustave J    male  35.0   \n",
       "\n",
       "     sibsp  parch    ticket       fare embarked  has_cabin_info  \n",
       "259      0      0  PC 17755   512.3292        C               0  \n",
       "680      0      1  PC 17755   512.3292        C               1  \n",
       "718      2      1     33567  1543.1200        Q               0  \n",
       "739      0      0  PC 17755   512.3292        C               1  "
      ]
     },
     "execution_count": 44,
     "metadata": {},
     "output_type": "execute_result"
    }
   ],
   "source": [
    "titanic[titanic.fare > 500]"
   ]
  },
  {
   "cell_type": "markdown",
   "metadata": {},
   "source": [
    "The rows with fare arounf 500 have the same ticket, same class, similar age, and embarked in the same location. The fare is high, but it is a first class ticket. We could assume those values are correct. However, the fare around 1500 comes from a third class ticket which has a very unrealistic value. We can analyze again if we could divide the value by 10 or 100 and see if the value is correct, but in this case we will simply remove the row."
   ]
  },
  {
   "cell_type": "code",
   "execution_count": 45,
   "metadata": {},
   "outputs": [],
   "source": [
    "titanic = titanic[titanic.fare < 1000]"
   ]
  },
  {
   "cell_type": "markdown",
   "metadata": {},
   "source": [
    "### Predict survival probability with the clean data and a logistic regression"
   ]
  },
  {
   "cell_type": "code",
   "execution_count": 46,
   "metadata": {},
   "outputs": [
    {
     "name": "stdout",
     "output_type": "stream",
     "text": [
      "Optimization terminated successfully.\n",
      "         Current function value: 0.583392\n",
      "         Iterations 6\n",
      "                           Logit Regression Results                           \n",
      "==============================================================================\n",
      "Dep. Variable:               survived   No. Observations:                  712\n",
      "Model:                          Logit   Df Residuals:                      705\n",
      "Method:                           MLE   Df Model:                            6\n",
      "Date:                Wed, 27 Sep 2023   Pseudo R-squ.:                  0.1152\n",
      "Time:                        15:22:14   Log-Likelihood:                -415.38\n",
      "converged:                       True   LL-Null:                       -469.47\n",
      "Covariance Type:            nonrobust   LLR p-value:                 4.862e-21\n",
      "==================================================================================\n",
      "                     coef    std err          z      P>|z|      [0.025      0.975]\n",
      "----------------------------------------------------------------------------------\n",
      "const              1.9935      0.537      3.715      0.000       0.942       3.045\n",
      "pclass            -0.6659      0.160     -4.156      0.000      -0.980      -0.352\n",
      "age               -0.0398      0.007     -5.440      0.000      -0.054      -0.025\n",
      "sibsp             -0.2523      0.103     -2.457      0.014      -0.454      -0.051\n",
      "parch              0.1404      0.116      1.215      0.224      -0.086       0.367\n",
      "fare               0.0027      0.003      1.035      0.301      -0.002       0.008\n",
      "has_cabin_info     0.6167      0.277      2.228      0.026       0.074       1.159\n",
      "==================================================================================\n"
     ]
    }
   ],
   "source": [
    "# Split the data in 80% train and 20% test\n",
    "np.random.seed(15774)\n",
    "titanic_train, titanic_test = train_test_split(titanic, train_size=0.8)\n",
    "\n",
    "# Split data in predictors (X) and target (y)\n",
    "features = [\"pclass\", \"age\", \"sibsp\", \"parch\", \"fare\", \"has_cabin_info\"]\n",
    "X_train = titanic_train[features]\n",
    "X_train = sm.add_constant(X_train)\n",
    "y_train = titanic_train[\"survived\"]\n",
    "\n",
    "X_test = titanic_test[features]\n",
    "X_test = sm.add_constant(X_test)\n",
    "y_test = titanic_test[\"survived\"]\n",
    "\n",
    "# Train a multiple logistic regression\n",
    "mult_log_reg = sm.Logit(y_train, X_train).fit()\n",
    "\n",
    "# Get the model summary\n",
    "summary = mult_log_reg.summary()\n",
    "print(summary)\n"
   ]
  },
  {
   "cell_type": "markdown",
   "metadata": {},
   "source": [
    "Assume we had a cost structure from which we obtained **p=0.3** and let us evaluate our model"
   ]
  },
  {
   "cell_type": "code",
   "execution_count": 47,
   "metadata": {},
   "outputs": [
    {
     "data": {
      "image/png": "[encoded data removed]",
      "text/plain": [
       "<Figure size 640x480 with 2 Axes>"
      ]
     },
     "metadata": {},
     "output_type": "display_data"
    }
   ],
   "source": [
    "# Predict default probabilities with the model \n",
    "default_probs = mult_log_reg.predict(X_test)\n",
    "\n",
    "# Use the probability to get the actual predictions\n",
    "# We assume we computed the probability based on some cost structure \n",
    "default_preds = (default_probs > 0.3)\n",
    "\n",
    "# Compute and show the confusion matrix\n",
    "cm = confusion_matrix(y_test, default_preds)\n",
    "disp = ConfusionMatrixDisplay(confusion_matrix=cm)\n",
    "disp.plot()\n",
    "plt.show()"
   ]
  },
  {
   "cell_type": "code",
   "execution_count": 48,
   "metadata": {},
   "outputs": [
    {
     "name": "stdout",
     "output_type": "stream",
     "text": [
      "Accuracy: 0.698\n",
      "Sensitivity (True Positive Rate): 0.766\n",
      "Specificity (True Negative Rate): 0.647\n"
     ]
    }
   ],
   "source": [
    "# Metrics for simple logistic regression\n",
    "(TN, FP), (FN, TP) = cm\n",
    "\n",
    "ACC = (TN + TP) / (TN + FN + TP +FP) \n",
    "print(f\"Accuracy: {ACC:.3f}\")\n",
    "\n",
    "TPR = TP / (TP + FN) \n",
    "print(f\"Sensitivity (True Positive Rate): {TPR:.3f}\")\n",
    "\n",
    "TNR = TN / (TN + FP) \n",
    "print(f\"Specificity (True Negative Rate): {TNR:.3f}\")"
   ]
  },
  {
   "cell_type": "markdown",
   "metadata": {},
   "source": [
    "---\n",
    "*End of Recitation 3*"
   ]
  }
 ],
 "metadata": {
  "kernelspec": {
   "display_name": "Python 3",
   "language": "python",
   "name": "python3"
  },
  "language_info": {
   "codemirror_mode": {
    "name": "ipython",
    "version": 3
   },
   "file_extension": ".py",
   "mimetype": "text/x-python",
   "name": "python",
   "nbconvert_exporter": "python",
   "pygments_lexer": "ipython3",
   "version": "3.8.3"
  }
 },
 "nbformat": 4,
 "nbformat_minor": 5
}
